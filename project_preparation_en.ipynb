{
 "cells": [
  {
   "cell_type": "code",
   "execution_count": 1,
   "metadata": {},
   "outputs": [
    {
     "name": "stdout",
     "output_type": "stream",
     "text": [
      "Created company www.amazon.com : 1707858349473x785784134804136600\n",
      "Retrieved project Amazon_trustpilot : 1707841778067x515781546632932540\n"
     ]
    }
   ],
   "source": [
    "import numpy as np\n",
    "import re\n",
    "import pandas as pd\n",
    "from tqdm.notebook import tqdm\n",
    "from datasets import load_dataset\n",
    "import umap\n",
    "import altair as alt\n",
    "from sklearn.metrics.pairwise import cosine_similarity\n",
    "from sentence_transformers import SentenceTransformer\n",
    "from typing import List\n",
    "import enum\n",
    "\n",
    "from langchain_community.llms import Ollama\n",
    "from langchain.output_parsers.regex_dict import RegexDictParser\n",
    "from langchain.output_parsers import PydanticOutputParser\n",
    "from langchain_core.messages import HumanMessage, SystemMessage, ChatMessage\n",
    "from langchain.prompts import ChatPromptTemplate, PromptTemplate\n",
    "from pydantic import BaseModel, Field, validator, create_model\n",
    "from openai import AsyncOpenAI, OpenAI\n",
    "import asyncio\n",
    "import os\n",
    "\n",
    "import requests\n",
    "import json\n",
    "\n",
    "import itertools\n",
    "from copy import deepcopy\n",
    "from tqdm.notebook import tqdm, trange\n",
    "from sklearn.cluster import KMeans\n",
    "\n",
    "import umap.umap_ as umap\n",
    "#import umap\n",
    "import hdbscan\n",
    "\n",
    "from typing import Literal, Union\n",
    "from pydantic.config import ConfigDict\n",
    "\n",
    "from src.models import *\n",
    "\n",
    "from src.utilities import *\n",
    "from src.bubble import *\n",
    "\n",
    "import openai\n",
    "import instructor\n",
    "\n",
    "#openai.api_key = os.environ[\"OPENAI_API_KEY\"]\n"
   ]
  },
  {
   "cell_type": "code",
   "execution_count": 2,
   "metadata": {},
   "outputs": [],
   "source": [
    "prompts_path = \"Prompts/en/\""
   ]
  },
  {
   "cell_type": "code",
   "execution_count": 3,
   "metadata": {},
   "outputs": [
    {
     "name": "stdout",
     "output_type": "stream",
     "text": [
      "Amazon.com is an American multinational technology company focusing on e-commerce, cloud computing, digital streaming, and artificial intelligence. It is one of the world's largest online marketplaces, AI assistants providers, and cloud computing platforms. Recently, Amazon has been expanding its presence in healthcare, grocery, and advertising sectors. Some of its competitors include Walmart, Microsoft, Google, and Netflix.\n"
     ]
    }
   ],
   "source": [
    "with open(prompts_path+'prompt_company_informations.txt') as f:\n",
    "    template = PromptTemplate.from_template(f.read())\n",
    "prompt_company_informations = template.invoke(context)\n",
    "\n",
    "class CompanyContext(BaseModel):\n",
    "    context: str = Field(description=\"Business context.\")\n",
    "\n",
    "    def __str__(self):\n",
    "        return self.context\n",
    "\n",
    "res = get_analysis(prompt_company_informations, CompanyContext)\n",
    "context['context'] = res.context\n",
    "print(res)"
   ]
  },
  {
   "cell_type": "code",
   "execution_count": null,
   "metadata": {},
   "outputs": [],
   "source": [
    "# SEND IT TO BUBBLE"
   ]
  },
  {
   "cell_type": "code",
   "execution_count": 4,
   "metadata": {},
   "outputs": [
    {
     "name": "stdout",
     "output_type": "stream",
     "text": [
      "Overall Satisfaction : \n",
      "- Overall Rating: Indicates the customer's overall satisfaction level with Amazon.\n",
      "- General Comment: Allows the customer to express themselves freely about their experience with Amazon.\n",
      "\n",
      "Customer Service Experience : \n",
      "- Customer Service Effectiveness: Evaluates the effectiveness of Amazon's customer service in answering questions and resolving customer problems.\n",
      "- Customer Service Friendliness: Rates the friendliness and helpfulness of Amazon's customer service.\n",
      "\n",
      "Website and Mobile Application : \n",
      "- Ease of Use: Indicates whether Amazon's website and mobile app are easy to use.\n",
      "- Features: Evaluates customer satisfaction with website and mobile app features.\n",
      "- Speed of Delivery: Evaluates the speed of delivery of orders placed on Amazon's website or mobile app.\n",
      "\n",
      "Product Quality : \n",
      "- Product Freshness: Evaluates the freshness of fresh and perishable products sold on Amazon.\n",
      "- Product Variety: Indicates whether the choice of products on Amazon is sufficient and meets the customer's expectations.\n",
      "- Quality of Amazon Brand Products: Evaluates the quality of Amazon brand products.\n",
      "\n",
      "Price : \n",
      "- Price Level: Indicates whether the customer finds the prices charged by Amazon too high.\n",
      "- Promotions and Special Offers: Evaluates customer satisfaction with promotions and special offers on Amazon.\n",
      "\n",
      "Delivery and Returns : \n",
      "- Delivery Time: Evaluates compliance with the expected delivery time on Amazon.\n",
      "- Condition of Delivered Products: Indicates whether the delivered products on Amazon were in good condition.\n",
      "- Return Process: Evaluates the ease and convenience of returning products to Amazon.\n",
      "\n",
      "Amazon's Expanding Businesses : \n",
      "- Grocery Experience: Evaluates the customer's satisfaction with Amazon's grocery business.\n",
      "- Healthcare Experience: Evaluates the customer's satisfaction with Amazon's healthcare business.\n",
      "- Advertising Experience: Evaluates the customer's satisfaction with Amazon's advertising business.\n"
     ]
    }
   ],
   "source": [
    "with open(prompts_path+'prompt_categories_creation.txt') as f:\n",
    "    template = PromptTemplate.from_template(f.read())\n",
    "prompt_categories_creation = template.invoke(context)\n",
    "\n",
    "class InsightSubCategory(BaseModel):\n",
    "    name: str = Field(description=\"Subcategory name.\")\n",
    "    description: str = Field(description=\"Description sentence for the subcategory.\")\n",
    "    id: str\n",
    "    def __str__(self):\n",
    "        return '\\n- ' + self.name + \": \" + self.description\n",
    "\n",
    "class InsightCategory(BaseModel):\n",
    "    name: str = Field(description=\"Nom de la catégorie.\")\n",
    "    #description: str = Field(description=\"Phrase de description de la catégorie.\")\n",
    "    sub_categories: List[InsightSubCategory] = Field(description=\"Subcategory.\")\n",
    "    id: str\n",
    "\n",
    "    def __str__(self):\n",
    "        return self.name + \" : \" + ''.join([str(x) for x in self.sub_categories])\n",
    "\n",
    "class InsightCategories(BaseModel):\n",
    "    categories: List[InsightCategory] = Field(description=\"Categories into which the insights can be classified.\")\n",
    "\n",
    "    def __str__(self):\n",
    "        return '\\n\\n'.join([str(x) for x in self.categories])\n",
    "\n",
    "res = get_analysis(prompt_categories_creation, InsightCategories)\n",
    "print(res)"
   ]
  },
  {
   "cell_type": "code",
   "execution_count": 6,
   "metadata": {},
   "outputs": [
    {
     "data": {
      "application/vnd.jupyter.widget-view+json": {
       "model_id": "66168b38763145e2b8df979939068177",
       "version_major": 2,
       "version_minor": 0
      },
      "text/plain": [
       "  0%|          | 0/7 [00:00<?, ?it/s]"
      ]
     },
     "metadata": {},
     "output_type": "display_data"
    }
   ],
   "source": [
    "for categorie in tqdm(res.categories):\n",
    "    categorie.id = bubble_client.create(\n",
    "        \"Category\",\n",
    "        {\n",
    "            \"Company\": COMPANY_ID,\n",
    "            \"Name\": categorie.name,\n",
    "            \"Project\": PROJECT_ID,\n",
    "        })\n",
    "    \n",
    "    for sub_categorie in categorie.sub_categories:\n",
    "        sub_categorie.id = bubble_client.create(\n",
    "            \"SubCategory\",\n",
    "               { \n",
    "                \"Company\": COMPANY_ID,\n",
    "                \"Parent_category\": categorie.id,\n",
    "                \"Name\": sub_categorie.name,\n",
    "                \"Project\": PROJECT_ID,\n",
    "                \"Description\": sub_categorie.description,}\n",
    "            )"
   ]
  }
 ],
 "metadata": {
  "kernelspec": {
   "display_name": "feedback_env",
   "language": "python",
   "name": "python3"
  },
  "language_info": {
   "codemirror_mode": {
    "name": "ipython",
    "version": 3
   },
   "file_extension": ".py",
   "mimetype": "text/x-python",
   "name": "python",
   "nbconvert_exporter": "python",
   "pygments_lexer": "ipython3",
   "version": "3.11.7"
  }
 },
 "nbformat": 4,
 "nbformat_minor": 2
}
