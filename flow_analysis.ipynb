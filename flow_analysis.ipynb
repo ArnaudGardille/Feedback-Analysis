{
 "cells": [
  {
   "cell_type": "code",
   "execution_count": 3,
   "metadata": {},
   "outputs": [],
   "source": [
    "import numpy as np\n",
    "import re\n",
    "import pandas as pd\n",
    "from tqdm.notebook import tqdm\n",
    "from datasets import load_dataset\n",
    "import umap\n",
    "import altair as alt\n",
    "from sklearn.metrics.pairwise import cosine_similarity\n",
    "from sentence_transformers import SentenceTransformer\n",
    "from typing import List\n",
    "import enum\n",
    "\n",
    "from langchain_community.llms import Ollama\n",
    "from langchain.output_parsers.regex_dict import RegexDictParser\n",
    "from langchain.output_parsers import PydanticOutputParser\n",
    "from langchain_core.messages import HumanMessage, SystemMessage, ChatMessage\n",
    "from langchain.prompts import ChatPromptTemplate, PromptTemplate\n",
    "from pydantic import BaseModel, Field, validator, create_model\n",
    "from openai import AsyncOpenAI, OpenAI\n",
    "import asyncio\n",
    "import os\n",
    "\n",
    "import requests\n",
    "import json\n",
    "\n",
    "import itertools\n",
    "from copy import deepcopy\n",
    "from tqdm.notebook import tqdm, trange\n",
    "from sklearn.cluster import KMeans\n",
    "\n",
    "import umap.umap_ as umap\n",
    "#import umap\n",
    "import hdbscan\n",
    "\n",
    "from typing import Literal, Union\n",
    "from pydantic.config import ConfigDict\n",
    "\n",
    "from src.utilities import *\n",
    "\n",
    "import instructor\n",
    "from llama_cpp import Llama\n",
    "\n"
   ]
  },
  {
   "cell_type": "code",
   "execution_count": 6,
   "metadata": {},
   "outputs": [],
   "source": [
    "client = OpenAI(base_url=\"http://localhost:8000/v1\", api_key=\"sk-xxx\")\n",
    "client = instructor.patch(client)"
   ]
  },
  {
   "cell_type": "code",
   "execution_count": 15,
   "metadata": {},
   "outputs": [
    {
     "data": {
      "text/html": [
       "<div>\n",
       "<style scoped>\n",
       "    .dataframe tbody tr th:only-of-type {\n",
       "        vertical-align: middle;\n",
       "    }\n",
       "\n",
       "    .dataframe tbody tr th {\n",
       "        vertical-align: top;\n",
       "    }\n",
       "\n",
       "    .dataframe thead th {\n",
       "        text-align: right;\n",
       "    }\n",
       "</style>\n",
       "<table border=\"1\" class=\"dataframe\">\n",
       "  <thead>\n",
       "    <tr style=\"text-align: right;\">\n",
       "      <th></th>\n",
       "      <th>Title</th>\n",
       "      <th>Date</th>\n",
       "      <th>Content</th>\n",
       "      <th>Page</th>\n",
       "      <th>Username</th>\n",
       "      <th>Total reviews</th>\n",
       "      <th>Location</th>\n",
       "      <th>Rating</th>\n",
       "    </tr>\n",
       "  </thead>\n",
       "  <tbody>\n",
       "    <tr>\n",
       "      <th>0</th>\n",
       "      <td>Fuyez, une arnaque</td>\n",
       "      <td>February 05, 2024</td>\n",
       "      <td>2000€ d’appareils et ils ne fonctionnent pas p...</td>\n",
       "      <td>1</td>\n",
       "      <td>Violaine Becha</td>\n",
       "      <td>1 review</td>\n",
       "      <td>FR</td>\n",
       "      <td>1.0</td>\n",
       "    </tr>\n",
       "    <tr>\n",
       "      <th>1</th>\n",
       "      <td>Centrale vapeur calor défaillante au bout de 5...</td>\n",
       "      <td>February 03, 2024</td>\n",
       "      <td>Le lundi 29 janvier 2024 je récupère une centr...</td>\n",
       "      <td>1</td>\n",
       "      <td>Isabelle bas-rhin</td>\n",
       "      <td>9 reviews</td>\n",
       "      <td>FR</td>\n",
       "      <td>1.0</td>\n",
       "    </tr>\n",
       "    <tr>\n",
       "      <th>2</th>\n",
       "      <td>Évitez !! Les actions du vendeur sont absolume...</td>\n",
       "      <td>March 30, 2023</td>\n",
       "      <td>Évitez d'acheter auprès de ce vendeur en ligne...</td>\n",
       "      <td>1</td>\n",
       "      <td>Mikhail Shangin</td>\n",
       "      <td>3 reviews</td>\n",
       "      <td>FR</td>\n",
       "      <td>1.0</td>\n",
       "    </tr>\n",
       "    <tr>\n",
       "      <th>3</th>\n",
       "      <td>Le SAV est une catastrophe!</td>\n",
       "      <td>January 15, 2024</td>\n",
       "      <td>Le SAV est une catastrophe!Le client ne l'est ...</td>\n",
       "      <td>1</td>\n",
       "      <td>SCD</td>\n",
       "      <td>1 review</td>\n",
       "      <td>FR</td>\n",
       "      <td>1.0</td>\n",
       "    </tr>\n",
       "    <tr>\n",
       "      <th>4</th>\n",
       "      <td>Machine a laver Bosch</td>\n",
       "      <td>January 05, 2024</td>\n",
       "      <td>Commandée sur le site de Darty machine a laver...</td>\n",
       "      <td>1</td>\n",
       "      <td>Christiane</td>\n",
       "      <td>56 reviews</td>\n",
       "      <td>FR</td>\n",
       "      <td>5.0</td>\n",
       "    </tr>\n",
       "  </tbody>\n",
       "</table>\n",
       "</div>"
      ],
      "text/plain": [
       "                                               Title               Date  \\\n",
       "0                                 Fuyez, une arnaque  February 05, 2024   \n",
       "1  Centrale vapeur calor défaillante au bout de 5...  February 03, 2024   \n",
       "2  Évitez !! Les actions du vendeur sont absolume...     March 30, 2023   \n",
       "3                        Le SAV est une catastrophe!   January 15, 2024   \n",
       "4                              Machine a laver Bosch   January 05, 2024   \n",
       "\n",
       "                                             Content Page           Username  \\\n",
       "0  2000€ d’appareils et ils ne fonctionnent pas p...    1     Violaine Becha   \n",
       "1  Le lundi 29 janvier 2024 je récupère une centr...    1  Isabelle bas-rhin   \n",
       "2  Évitez d'acheter auprès de ce vendeur en ligne...    1    Mikhail Shangin   \n",
       "3  Le SAV est une catastrophe!Le client ne l'est ...    1                SCD   \n",
       "4  Commandée sur le site de Darty machine a laver...    1         Christiane   \n",
       "\n",
       "  Total reviews Location  Rating  \n",
       "0      1 review       FR     1.0  \n",
       "1     9 reviews       FR     1.0  \n",
       "2     3 reviews       FR     1.0  \n",
       "3      1 review       FR     1.0  \n",
       "4    56 reviews       FR     5.0  "
      ]
     },
     "execution_count": 15,
     "metadata": {},
     "output_type": "execute_result"
    }
   ],
   "source": [
    "csv_path = 'archives/www.darty.com.csv'\n",
    "feedbacks_df = pd.read_csv(csv_path, sep=';')\n",
    "feedbacks_df.head()"
   ]
  },
  {
   "cell_type": "code",
   "execution_count": 20,
   "metadata": {},
   "outputs": [
    {
     "name": "stdout",
     "output_type": "stream",
     "text": [
      "        Date\n",
      "0 2024-02-05\n",
      "1 2024-02-06\n"
     ]
    }
   ],
   "source": [
    "import pandas as pd\n",
    "\n",
    "# Create a sample DataFrame\n",
    "df = pd.DataFrame({'Date': ['February 05, 2024', 'February 06, 2024']})\n",
    "\n",
    "# Specify the format of the date strings\n",
    "date_format = '%B %d, %Y'\n",
    "\n",
    "# Convert the 'Date' column to datetime format\n",
    "df['Date'] = pd.to_datetime(df['Date'], format=date_format)\n",
    "\n",
    "# Print the DataFrame\n",
    "print(df)\n"
   ]
  },
  {
   "cell_type": "code",
   "execution_count": 23,
   "metadata": {},
   "outputs": [],
   "source": [
    "feedbacks_df['Date'] = pd.to_datetime(feedbacks_df['Date'], format='%B %d, %Y', errors='coerce')"
   ]
  },
  {
   "cell_type": "code",
   "execution_count": 44,
   "metadata": {},
   "outputs": [
    {
     "data": {
      "text/plain": [
       "Date\n",
       "2010.0    1.000000\n",
       "2011.0    3.400000\n",
       "2012.0    4.156250\n",
       "2013.0    4.000000\n",
       "2014.0    1.739130\n",
       "2015.0    1.448000\n",
       "2016.0    1.411392\n",
       "2017.0    1.340599\n",
       "2018.0    1.347744\n",
       "2019.0    1.283245\n",
       "2020.0    1.305479\n",
       "2021.0    1.327765\n",
       "2022.0    2.492063\n",
       "2023.0    3.492371\n",
       "2024.0    3.263959\n",
       "Name: Rating, dtype: float64"
      ]
     },
     "execution_count": 44,
     "metadata": {},
     "output_type": "execute_result"
    }
   ],
   "source": [
    "mean_rating"
   ]
  },
  {
   "cell_type": "code",
   "execution_count": 85,
   "metadata": {},
   "outputs": [],
   "source": [
    "#grouped_data = feedbacks_df.groupby([feedbacks_df['Date'].dt.year, feedbacks_df['Date'].dt.month]).agg({'count'}).Title\n",
    "grouped_data = feedbacks_df.groupby(feedbacks_df['Date'].dt.year)\n",
    "mean_rating = feedbacks_df.groupby(feedbacks_df['Date'].dt.year).Rating.mean()\n",
    "group_count = grouped_data.Title.count()"
   ]
  },
  {
   "cell_type": "code",
   "execution_count": 87,
   "metadata": {},
   "outputs": [
    {
     "data": {
      "image/png": "[encoded data removed]",
      "text/plain": [
       "<Figure size 640x480 with 1 Axes>"
      ]
     },
     "metadata": {},
     "output_type": "display_data"
    }
   ],
   "source": [
    "import matplotlib.pyplot as plt\n",
    "\n",
    "# Assuming the grouped data is stored in a variable called 'grouped_data'\n",
    "#grouped_data.unstack().plot(kind='line')\n",
    "group_count.plot(kind='line')\n",
    "plt.xlabel('Month')\n",
    "plt.ylabel('Count')\n",
    "plt.title('Feedbacks Count by Year')\n",
    "plt.legend()\n",
    "plt.show()\n"
   ]
  },
  {
   "cell_type": "code",
   "execution_count": 91,
   "metadata": {},
   "outputs": [
    {
     "data": {
      "text/plain": [
       "[2010.0,\n",
       " 2011.0,\n",
       " 2012.0,\n",
       " 2013.0,\n",
       " 2014.0,\n",
       " 2015.0,\n",
       " 2016.0,\n",
       " 2017.0,\n",
       " 2018.0,\n",
       " 2019.0,\n",
       " 2020.0,\n",
       " 2021.0,\n",
       " 2022.0,\n",
       " 2023.0,\n",
       " 2024.0]"
      ]
     },
     "execution_count": 91,
     "metadata": {},
     "output_type": "execute_result"
    }
   ],
   "source": [
    "list(mean_rating.index)"
   ]
  },
  {
   "cell_type": "code",
   "execution_count": 100,
   "metadata": {},
   "outputs": [],
   "source": [
    "x = np.array(mean_rating.index)\n",
    "y = group_count\n",
    "c = mean_rating"
   ]
  },
  {
   "cell_type": "code",
   "execution_count": 101,
   "metadata": {},
   "outputs": [
    {
     "data": {
      "image/png": "[encoded data removed]",
      "text/plain": [
       "<Figure size 640x480 with 2 Axes>"
      ]
     },
     "metadata": {},
     "output_type": "display_data"
    }
   ],
   "source": [
    "import matplotlib.pyplot as plt\n",
    "\n",
    "# Assuming your arrays are named x, y, and c\n",
    "plt.scatter(x, y, c=c)\n",
    "plt.colorbar()  # Add a colorbar to show the color-value relationship\n",
    "plt.show()\n"
   ]
  },
  {
   "cell_type": "code",
   "execution_count": 103,
   "metadata": {},
   "outputs": [
    {
     "name": "stdout",
     "output_type": "stream",
     "text": [
      "Collecting plotly\n",
      "  Downloading plotly-5.18.0-py3-none-any.whl.metadata (7.0 kB)\n",
      "Requirement already satisfied: tenacity>=6.2.0 in /home/maitre/anaconda3/envs/feedback_env/lib/python3.11/site-packages (from plotly) (8.2.3)\n",
      "Requirement already satisfied: packaging in /home/maitre/anaconda3/envs/feedback_env/lib/python3.11/site-packages (from plotly) (23.2)\n",
      "Downloading plotly-5.18.0-py3-none-any.whl (15.6 MB)\n",
      "\u001b[2K   \u001b[90m━━━━━━━━━━━━━━━━━━━━━━━━━━━━━━━━━━━━━━━━\u001b[0m \u001b[32m15.6/15.6 MB\u001b[0m \u001b[31m54.6 kB/s\u001b[0m eta \u001b[36m0:00:00\u001b[0m00:01\u001b[0mm00:04\u001b[0m\n",
      "\u001b[?25hInstalling collected packages: plotly\n",
      "Successfully installed plotly-5.18.0\n",
      "Note: you may need to restart the kernel to use updated packages.\n"
     ]
    }
   ],
   "source": [
    "pip install plotly"
   ]
  },
  {
   "cell_type": "code",
   "execution_count": 104,
   "metadata": {},
   "outputs": [
    {
     "data": {
      "application/vnd.plotly.v1+json": {
       "config": {
        "plotlyServerURL": "https://plot.ly"
       },
       "data": [
        {
         "hovertemplate": "x=%{x}<br>y=%{y}<br>color=%{marker.color}<extra></extra>",
         "legendgroup": "",
         "marker": {
          "color": [
           1,
           3.4,
           4.15625,
           4,
           1.7391304347826086,
           1.448,
           1.4113924050632911,
           1.340599455040872,
           1.3477443609022557,
           1.2832446808510638,
           1.3054794520547945,
           1.3277645186953062,
           2.492063492063492,
           3.4923711340206185,
           3.263959390862944
          ],
          "coloraxis": "coloraxis",
          "symbol": "circle"
         },
         "mode": "markers",
         "name": "",
         "orientation": "v",
         "showlegend": false,
         "type": "scatter",
         "x": [
          2010,
          2011,
          2012,
          2013,
          2014,
          2015,
          2016,
          2017,
          2018,
          2019,
          2020,
          2021,
          2022,
          2023,
          2024
         ],
         "xaxis": "x",
         "y": [
          1,
          5,
          36,
          17,
          49,
          132,
          163,
          367,
          532,
          752,
          1460,
          1257,
          1575,
          2425,
          197
         ],
         "yaxis": "y"
        }
       ],
       "layout": {
        "coloraxis": {
         "colorbar": {
          "title": {
           "text": "color"
          }
         },
         "colorscale": [
          [
           0,
           "#0d0887"
          ],
          [
           0.1111111111111111,
           "#46039f"
          ],
          [
           0.2222222222222222,
           "#7201a8"
          ],
          [
           0.3333333333333333,
           "#9c179e"
          ],
          [
           0.4444444444444444,
           "#bd3786"
          ],
          [
           0.5555555555555556,
           "#d8576b"
          ],
          [
           0.6666666666666666,
           "#ed7953"
          ],
          [
           0.7777777777777778,
           "#fb9f3a"
          ],
          [
           0.8888888888888888,
           "#fdca26"
          ],
          [
           1,
           "#f0f921"
          ]
         ]
        },
        "legend": {
         "tracegroupgap": 0
        },
        "margin": {
         "t": 60
        },
        "template": {
         "data": {
          "bar": [
           {
            "error_x": {
             "color": "#2a3f5f"
            },
            "error_y": {
             "color": "#2a3f5f"
            },
            "marker": {
             "line": {
              "color": "#E5ECF6",
              "width": 0.5
             },
             "pattern": {
              "fillmode": "overlay",
              "size": 10,
              "solidity": 0.2
             }
            },
            "type": "bar"
           }
          ],
          "barpolar": [
           {
            "marker": {
             "line": {
              "color": "#E5ECF6",
              "width": 0.5
             },
             "pattern": {
              "fillmode": "overlay",
              "size": 10,
              "solidity": 0.2
             }
            },
            "type": "barpolar"
           }
          ],
          "carpet": [
           {
            "aaxis": {
             "endlinecolor": "#2a3f5f",
             "gridcolor": "white",
             "linecolor": "white",
             "minorgridcolor": "white",
             "startlinecolor": "#2a3f5f"
            },
            "baxis": {
             "endlinecolor": "#2a3f5f",
             "gridcolor": "white",
             "linecolor": "white",
             "minorgridcolor": "white",
             "startlinecolor": "#2a3f5f"
            },
            "type": "carpet"
           }
          ],
          "choropleth": [
           {
            "colorbar": {
             "outlinewidth": 0,
             "ticks": ""
            },
            "type": "choropleth"
           }
          ],
          "contour": [
           {
            "colorbar": {
             "outlinewidth": 0,
             "ticks": ""
            },
            "colorscale": [
             [
              0,
              "#0d0887"
             ],
             [
              0.1111111111111111,
              "#46039f"
             ],
             [
              0.2222222222222222,
              "#7201a8"
             ],
             [
              0.3333333333333333,
              "#9c179e"
             ],
             [
              0.4444444444444444,
              "#bd3786"
             ],
             [
              0.5555555555555556,
              "#d8576b"
             ],
             [
              0.6666666666666666,
              "#ed7953"
             ],
             [
              0.7777777777777778,
              "#fb9f3a"
             ],
             [
              0.8888888888888888,
              "#fdca26"
             ],
             [
              1,
              "#f0f921"
             ]
            ],
            "type": "contour"
           }
          ],
          "contourcarpet": [
           {
            "colorbar": {
             "outlinewidth": 0,
             "ticks": ""
            },
            "type": "contourcarpet"
           }
          ],
          "heatmap": [
           {
            "colorbar": {
             "outlinewidth": 0,
             "ticks": ""
            },
            "colorscale": [
             [
              0,
              "#0d0887"
             ],
             [
              0.1111111111111111,
              "#46039f"
             ],
             [
              0.2222222222222222,
              "#7201a8"
             ],
             [
              0.3333333333333333,
              "#9c179e"
             ],
             [
              0.4444444444444444,
              "#bd3786"
             ],
             [
              0.5555555555555556,
              "#d8576b"
             ],
             [
              0.6666666666666666,
              "#ed7953"
             ],
             [
              0.7777777777777778,
              "#fb9f3a"
             ],
             [
              0.8888888888888888,
              "#fdca26"
             ],
             [
              1,
              "#f0f921"
             ]
            ],
            "type": "heatmap"
           }
          ],
          "heatmapgl": [
           {
            "colorbar": {
             "outlinewidth": 0,
             "ticks": ""
            },
            "colorscale": [
             [
              0,
              "#0d0887"
             ],
             [
              0.1111111111111111,
              "#46039f"
             ],
             [
              0.2222222222222222,
              "#7201a8"
             ],
             [
              0.3333333333333333,
              "#9c179e"
             ],
             [
              0.4444444444444444,
              "#bd3786"
             ],
             [
              0.5555555555555556,
              "#d8576b"
             ],
             [
              0.6666666666666666,
              "#ed7953"
             ],
             [
              0.7777777777777778,
              "#fb9f3a"
             ],
             [
              0.8888888888888888,
              "#fdca26"
             ],
             [
              1,
              "#f0f921"
             ]
            ],
            "type": "heatmapgl"
           }
          ],
          "histogram": [
           {
            "marker": {
             "pattern": {
              "fillmode": "overlay",
              "size": 10,
              "solidity": 0.2
             }
            },
            "type": "histogram"
           }
          ],
          "histogram2d": [
           {
            "colorbar": {
             "outlinewidth": 0,
             "ticks": ""
            },
            "colorscale": [
             [
              0,
              "#0d0887"
             ],
             [
              0.1111111111111111,
              "#46039f"
             ],
             [
              0.2222222222222222,
              "#7201a8"
             ],
             [
              0.3333333333333333,
              "#9c179e"
             ],
             [
              0.4444444444444444,
              "#bd3786"
             ],
             [
              0.5555555555555556,
              "#d8576b"
             ],
             [
              0.6666666666666666,
              "#ed7953"
             ],
             [
              0.7777777777777778,
              "#fb9f3a"
             ],
             [
              0.8888888888888888,
              "#fdca26"
             ],
             [
              1,
              "#f0f921"
             ]
            ],
            "type": "histogram2d"
           }
          ],
          "histogram2dcontour": [
           {
            "colorbar": {
             "outlinewidth": 0,
             "ticks": ""
            },
            "colorscale": [
             [
              0,
              "#0d0887"
             ],
             [
              0.1111111111111111,
              "#46039f"
             ],
             [
              0.2222222222222222,
              "#7201a8"
             ],
             [
              0.3333333333333333,
              "#9c179e"
             ],
             [
              0.4444444444444444,
              "#bd3786"
             ],
             [
              0.5555555555555556,
              "#d8576b"
             ],
             [
              0.6666666666666666,
              "#ed7953"
             ],
             [
              0.7777777777777778,
              "#fb9f3a"
             ],
             [
              0.8888888888888888,
              "#fdca26"
             ],
             [
              1,
              "#f0f921"
             ]
            ],
            "type": "histogram2dcontour"
           }
          ],
          "mesh3d": [
           {
            "colorbar": {
             "outlinewidth": 0,
             "ticks": ""
            },
            "type": "mesh3d"
           }
          ],
          "parcoords": [
           {
            "line": {
             "colorbar": {
              "outlinewidth": 0,
              "ticks": ""
             }
            },
            "type": "parcoords"
           }
          ],
          "pie": [
           {
            "automargin": true,
            "type": "pie"
           }
          ],
          "scatter": [
           {
            "fillpattern": {
             "fillmode": "overlay",
             "size": 10,
             "solidity": 0.2
            },
            "type": "scatter"
           }
          ],
          "scatter3d": [
           {
            "line": {
             "colorbar": {
              "outlinewidth": 0,
              "ticks": ""
             }
            },
            "marker": {
             "colorbar": {
              "outlinewidth": 0,
              "ticks": ""
             }
            },
            "type": "scatter3d"
           }
          ],
          "scattercarpet": [
           {
            "marker": {
             "colorbar": {
              "outlinewidth": 0,
              "ticks": ""
             }
            },
            "type": "scattercarpet"
           }
          ],
          "scattergeo": [
           {
            "marker": {
             "colorbar": {
              "outlinewidth": 0,
              "ticks": ""
             }
            },
            "type": "scattergeo"
           }
          ],
          "scattergl": [
           {
            "marker": {
             "colorbar": {
              "outlinewidth": 0,
              "ticks": ""
             }
            },
            "type": "scattergl"
           }
          ],
          "scattermapbox": [
           {
            "marker": {
             "colorbar": {
              "outlinewidth": 0,
              "ticks": ""
             }
            },
            "type": "scattermapbox"
           }
          ],
          "scatterpolar": [
           {
            "marker": {
             "colorbar": {
              "outlinewidth": 0,
              "ticks": ""
             }
            },
            "type": "scatterpolar"
           }
          ],
          "scatterpolargl": [
           {
            "marker": {
             "colorbar": {
              "outlinewidth": 0,
              "ticks": ""
             }
            },
            "type": "scatterpolargl"
           }
          ],
          "scatterternary": [
           {
            "marker": {
             "colorbar": {
              "outlinewidth": 0,
              "ticks": ""
             }
            },
            "type": "scatterternary"
           }
          ],
          "surface": [
           {
            "colorbar": {
             "outlinewidth": 0,
             "ticks": ""
            },
            "colorscale": [
             [
              0,
              "#0d0887"
             ],
             [
              0.1111111111111111,
              "#46039f"
             ],
             [
              0.2222222222222222,
              "#7201a8"
             ],
             [
              0.3333333333333333,
              "#9c179e"
             ],
             [
              0.4444444444444444,
              "#bd3786"
             ],
             [
              0.5555555555555556,
              "#d8576b"
             ],
             [
              0.6666666666666666,
              "#ed7953"
             ],
             [
              0.7777777777777778,
              "#fb9f3a"
             ],
             [
              0.8888888888888888,
              "#fdca26"
             ],
             [
              1,
              "#f0f921"
             ]
            ],
            "type": "surface"
           }
          ],
          "table": [
           {
            "cells": {
             "fill": {
              "color": "#EBF0F8"
             },
             "line": {
              "color": "white"
             }
            },
            "header": {
             "fill": {
              "color": "#C8D4E3"
             },
             "line": {
              "color": "white"
             }
            },
            "type": "table"
           }
          ]
         },
         "layout": {
          "annotationdefaults": {
           "arrowcolor": "#2a3f5f",
           "arrowhead": 0,
           "arrowwidth": 1
          },
          "autotypenumbers": "strict",
          "coloraxis": {
           "colorbar": {
            "outlinewidth": 0,
            "ticks": ""
           }
          },
          "colorscale": {
           "diverging": [
            [
             0,
             "#8e0152"
            ],
            [
             0.1,
             "#c51b7d"
            ],
            [
             0.2,
             "#de77ae"
            ],
            [
             0.3,
             "#f1b6da"
            ],
            [
             0.4,
             "#fde0ef"
            ],
            [
             0.5,
             "#f7f7f7"
            ],
            [
             0.6,
             "#e6f5d0"
            ],
            [
             0.7,
             "#b8e186"
            ],
            [
             0.8,
             "#7fbc41"
            ],
            [
             0.9,
             "#4d9221"
            ],
            [
             1,
             "#276419"
            ]
           ],
           "sequential": [
            [
             0,
             "#0d0887"
            ],
            [
             0.1111111111111111,
             "#46039f"
            ],
            [
             0.2222222222222222,
             "#7201a8"
            ],
            [
             0.3333333333333333,
             "#9c179e"
            ],
            [
             0.4444444444444444,
             "#bd3786"
            ],
            [
             0.5555555555555556,
             "#d8576b"
            ],
            [
             0.6666666666666666,
             "#ed7953"
            ],
            [
             0.7777777777777778,
             "#fb9f3a"
            ],
            [
             0.8888888888888888,
             "#fdca26"
            ],
            [
             1,
             "#f0f921"
            ]
           ],
           "sequentialminus": [
            [
             0,
             "#0d0887"
            ],
            [
             0.1111111111111111,
             "#46039f"
            ],
            [
             0.2222222222222222,
             "#7201a8"
            ],
            [
             0.3333333333333333,
             "#9c179e"
            ],
            [
             0.4444444444444444,
             "#bd3786"
            ],
            [
             0.5555555555555556,
             "#d8576b"
            ],
            [
             0.6666666666666666,
             "#ed7953"
            ],
            [
             0.7777777777777778,
             "#fb9f3a"
            ],
            [
             0.8888888888888888,
             "#fdca26"
            ],
            [
             1,
             "#f0f921"
            ]
           ]
          },
          "colorway": [
           "#636efa",
           "#EF553B",
           "#00cc96",
           "#ab63fa",
           "#FFA15A",
           "#19d3f3",
           "#FF6692",
           "#B6E880",
           "#FF97FF",
           "#FECB52"
          ],
          "font": {
           "color": "#2a3f5f"
          },
          "geo": {
           "bgcolor": "white",
           "lakecolor": "white",
           "landcolor": "#E5ECF6",
           "showlakes": true,
           "showland": true,
           "subunitcolor": "white"
          },
          "hoverlabel": {
           "align": "left"
          },
          "hovermode": "closest",
          "mapbox": {
           "style": "light"
          },
          "paper_bgcolor": "white",
          "plot_bgcolor": "#E5ECF6",
          "polar": {
           "angularaxis": {
            "gridcolor": "white",
            "linecolor": "white",
            "ticks": ""
           },
           "bgcolor": "#E5ECF6",
           "radialaxis": {
            "gridcolor": "white",
            "linecolor": "white",
            "ticks": ""
           }
          },
          "scene": {
           "xaxis": {
            "backgroundcolor": "#E5ECF6",
            "gridcolor": "white",
            "gridwidth": 2,
            "linecolor": "white",
            "showbackground": true,
            "ticks": "",
            "zerolinecolor": "white"
           },
           "yaxis": {
            "backgroundcolor": "#E5ECF6",
            "gridcolor": "white",
            "gridwidth": 2,
            "linecolor": "white",
            "showbackground": true,
            "ticks": "",
            "zerolinecolor": "white"
           },
           "zaxis": {
            "backgroundcolor": "#E5ECF6",
            "gridcolor": "white",
            "gridwidth": 2,
            "linecolor": "white",
            "showbackground": true,
            "ticks": "",
            "zerolinecolor": "white"
           }
          },
          "shapedefaults": {
           "line": {
            "color": "#2a3f5f"
           }
          },
          "ternary": {
           "aaxis": {
            "gridcolor": "white",
            "linecolor": "white",
            "ticks": ""
           },
           "baxis": {
            "gridcolor": "white",
            "linecolor": "white",
            "ticks": ""
           },
           "bgcolor": "#E5ECF6",
           "caxis": {
            "gridcolor": "white",
            "linecolor": "white",
            "ticks": ""
           }
          },
          "title": {
           "x": 0.05
          },
          "xaxis": {
           "automargin": true,
           "gridcolor": "white",
           "linecolor": "white",
           "ticks": "",
           "title": {
            "standoff": 15
           },
           "zerolinecolor": "white",
           "zerolinewidth": 2
          },
          "yaxis": {
           "automargin": true,
           "gridcolor": "white",
           "linecolor": "white",
           "ticks": "",
           "title": {
            "standoff": 15
           },
           "zerolinecolor": "white",
           "zerolinewidth": 2
          }
         }
        },
        "xaxis": {
         "anchor": "y",
         "domain": [
          0,
          1
         ],
         "title": {
          "text": "x"
         }
        },
        "yaxis": {
         "anchor": "x",
         "domain": [
          0,
          1
         ],
         "title": {
          "text": "y"
         }
        }
       }
      }
     },
     "metadata": {},
     "output_type": "display_data"
    }
   ],
   "source": [
    "import plotly.express as px\n",
    "\n",
    "# Assuming your arrays are named x, y, and c\n",
    "fig = px.scatter(x=x, y=y, color=c)\n",
    "fig.show()\n"
   ]
  },
  {
   "cell_type": "code",
   "execution_count": 115,
   "metadata": {},
   "outputs": [
    {
     "data": {
      "application/vnd.plotly.v1+json": {
       "config": {
        "plotlyServerURL": "https://plot.ly"
       },
       "data": [
        {
         "hovertemplate": "x=%{x}<br>y=%{y}<br>color=%{marker.color}<extra></extra>",
         "legendgroup": "",
         "marker": {
          "color": [
           1,
           1.0922356427891584,
           1.1830337036059204,
           1.2723941824502858,
           1.3603170793222545,
           1.4468023942211319,
           1.5318501271483191,
           1.6154602781031098,
           1.697632847085504,
           1.7783678340955018,
           1.8576652391331026,
           1.9355250621983073,
           2.0119473032911155,
           2.0869319624109246,
           2.1604790395589513,
           2.232588534734581,
           2.3032604479378147,
           2.372494779168651,
           2.440291528427091,
           2.5066506957131356,
           2.571572281026782,
           2.635056284367524,
           2.6971027057363894,
           2.7577115451328584,
           2.8168828025569317,
           2.8746164780086074,
           2.930912571487886,
           2.985771082994769,
           3.039192012529255,
           3.0911753600913445,
           3.141721125680634,
           3.190829309297942,
           3.2384999109428545,
           3.2847329306153688,
           3.3295283683154877,
           3.3728862240432096,
           3.414806497798535,
           3.4552891895814635,
           3.494334299391685,
           3.531941827229832,
           3.568111773095583,
           3.602844136988937,
           3.6361389189098947,
           3.667996118858456,
           3.6984157368346198,
           3.727397772838388,
           3.7549422268695416,
           3.781049098928529,
           3.8057183890151185,
           3.828950097129312,
           3.850744223271108,
           3.8711007674405087,
           3.890019729637512,
           3.9075011098621193,
           3.9237098832418664,
           3.939506853330962,
           3.955015934781009,
           3.970237127591878,
           3.9851704317635677,
           3.9998158472960803,
           4.014173374189415,
           4.02824301244357,
           4.042024762058548,
           4.0555186230342395,
           4.068724595370863,
           4.08164267906831,
           4.0942728741265775,
           4.106615180545665,
           4.118669598325577,
           4.13043612746631,
           4.141914767967865,
           4.153105519830151,
           4.1640083830533525,
           4.174623357637375,
           4.184950443582219,
           4.194989640887886,
           4.204740949554373,
           4.214204369581683,
           4.223379900969816,
           4.232267543718769,
           4.240867297828476,
           4.249179163299075,
           4.257203140130497,
           4.264939228322739,
           4.272387427875805,
           4.279547738789692,
           4.286420161064401,
           4.293004694699931,
           4.299301339696234,
           4.30531009605341,
           4.310116837808655,
           4.3123554951232155,
           4.312012904583231,
           4.309089066188699,
           4.303583979939621,
           4.295497645835994,
           4.2848300638779175,
           4.271581234065219,
           4.255751156397973,
           4.23733983087618,
           4.216347257499839,
           4.192773436268952,
           4.166618367183519,
           4.1378820502435385,
           4.106564485449274,
           4.072665672800221,
           4.03618561229662,
           3.997124303938472,
           3.955481747725777,
           3.9112579436585353,
           3.864452891736747,
           3.815066591960411,
           3.763099044329529,
           3.708550248844552,
           3.651420205504596,
           3.591708914310093,
           3.529416375261044,
           3.464542588357448,
           3.397087553599304,
           3.3270512709866136,
           3.2544337405193766,
           3.1792349621982114,
           3.1014549360219017,
           3.0210936619910442,
           2.93815114010564,
           2.852786854434024,
           2.7685094544795765,
           2.6867542968573166,
           2.6075213815672442,
           2.53081070860997,
           2.456622277984252,
           2.3849560896907205,
           2.315812143729377,
           2.249190440100221,
           2.185090978803252,
           2.123513759838471,
           2.064458783205877,
           2.00792604890547,
           1.9539155569376783,
           1.902427307301626,
           1.8534612999977609,
           1.8070175350260838,
           1.7630960123865933,
           1.7216967320792909,
           1.6828196941041753,
           1.6464648984612476,
           1.6126323451507711,
           1.5813220341721974,
           1.552533965525811,
           1.5262681392116122,
           1.5025245552296007,
           1.4813032135797768,
           1.46260411426214,
           1.4464272572766907,
           1.4327726426235294,
           1.4216402703024345,
           1.4130301403135268,
           1.4069422526568065,
           1.403376607332274,
           1.4023332043399286,
           1.4038120436797705,
           1.4073208892014357,
           1.4108873898249348,
           1.4143054535980162,
           1.417575080520735,
           1.420696270593063,
           1.4236690238150003,
           1.426493340186547,
           1.4291692197077026,
           1.4316966623784677,
           1.4340756681988425,
           1.4363062371688082,
           1.4383883692884023,
           1.440322064557606,
           1.4421073229764183,
           1.4437441445448405,
           1.4452325292628714,
           1.4465724771305117,
           1.447763988147761,
           1.4488070623146123,
           1.4497016996310816,
           1.4504479000971602,
           1.451045663712848,
           1.4514949904781453,
           1.4517958803930515,
           1.4519483334575674,
           1.4519523496716922,
           1.451807929035426,
           1.4515150715487726,
           1.4510737772117266,
           1.4504840460242896,
           1.449745877986462,
           1.4488592730982437,
           1.4478242313596348,
           1.4466407527706346,
           1.4453088373312442,
           1.4438284850414753,
           1.4422552949593364,
           1.4406531793079265,
           1.4390222143548148,
           1.437362400100002,
           1.4356737365434877,
           1.4339562236852716,
           1.4322098615253545,
           1.4304346500637501,
           1.4286305893004303,
           1.4267976792354085,
           1.4249359198686853,
           1.423045311200261,
           1.4211258532301352,
           1.4191775459583074,
           1.4172003893847784,
           1.4151943835095477,
           1.4131595283326326,
           1.4110958238539992,
           1.4090032700736645,
           1.406881866991628,
           1.4047316146078905,
           1.4025525129224512,
           1.4003445619353103,
           1.398107761646468,
           1.395842112055943,
           1.3935476131636981,
           1.3912242649697517,
           1.3888720674741037,
           1.3864910206767544,
           1.3840811245777034,
           1.381642379176951,
           1.3791747844744973,
           1.3766783404703622,
           1.3741530471645058,
           1.3715989045569477,
           1.3690228922437657,
           1.3665220352272271,
           1.3641274401021963,
           1.3618391068686742,
           1.3596570355266606,
           1.3575812260761555,
           1.3556116785171743,
           1.353748392849685,
           1.3519913690737038,
           1.3503406071892312,
           1.3487961071962675,
           1.3473578690948114,
           1.346025892884864,
           1.3448001785664254,
           1.3436807261395034,
           1.3426675356040805,
           1.3417606069601657,
           1.3409599402077594,
           1.3402655353468615,
           1.3396773923774723,
           1.3391955112995912,
           1.3388198921132186,
           1.338550534818356,
           1.3383874394149995,
           1.338330605903151,
           1.3383800342828112,
           1.3385357245539795,
           1.3387976767166563,
           1.3391658907708417,
           1.3396403667165353,
           1.3402211045537322,
           1.340908104282442,
           1.3417013659026598,
           1.3426008894143862,
           1.343606674817621,
           1.344718722112364,
           1.345885414625272,
           1.3469457540899057,
           1.3478881589258194,
           1.348712629133007,
           1.3494191647114817,
           1.3500077656612368,
           1.3504784319822718,
           1.3508311636745869,
           1.3510659607381823,
           1.3511828231730578,
           1.3511817509792132,
           1.3510627441566503,
           1.350825802705367,
           1.350470926625364,
           1.3499981159166412,
           1.3494073705791982,
           1.3486986906130354,
           1.3478720760181528,
           1.3469275267945504,
           1.345865042942237,
           1.3446846244611956,
           1.3433862713514344,
           1.3419699836129535,
           1.3404357612457525,
           1.3387836042498313,
           1.3370135126251907,
           1.3351254863718303,
           1.3331195254897497,
           1.330995629978967,
           1.3287537998394479,
           1.3263940350712087,
           1.3239163356742494,
           1.3213207016485706,
           1.318607132994172,
           1.315775629711053,
           1.3128263627959242,
           1.3099026274914478,
           1.3071290803988682,
           1.30450572151821,
           1.3020325508494737,
           1.2997095683926585,
           1.297536774147765,
           1.2955141681147928,
           1.2936417502937423,
           1.2919195206846261,
           1.2903474792874172,
           1.2889256261021296,
           1.2876539611287634,
           1.286532484367319,
           1.2855611958177955,
           1.2847400954801937,
           1.2840691833545133,
           1.2835484594407547,
           1.2831779237389194,
           1.2829575762490024,
           1.2828874169710067,
           1.2829674459049323,
           1.2831976630507793,
           1.283578068408548,
           1.284108661978238,
           1.2847894437598493,
           1.285620413753375,
           1.2866015719588282,
           1.2877329183762027,
           1.289014453005499,
           1.2904461758467165,
           1.2920280868998555,
           1.2937601861649157,
           1.2956424736418977,
           1.297674949330784,
           1.2998576132316075,
           1.3021605856107492,
           1.3042979100094236,
           1.306198220782908,
           1.3078615179312014,
           1.3092878014543043,
           1.3104770713522171,
           1.3114293276249394,
           1.3121445702724661,
           1.3126227992948092,
           1.3128640146919617,
           1.3128682164639238,
           1.3126354046106956,
           1.312165579132277,
           1.3114587400286675,
           1.3105148872998678,
           1.309334020945888,
           1.307916140966709,
           1.3062612473623396,
           1.30436934013278,
           1.30224041927803,
           1.2998744847980888,
           1.2972715366929575,
           1.2944315749626358,
           1.2913545996071496,
           1.288040610626449,
           1.2844896080205577,
           1.280701591789476,
           1.2766765619332037,
           1.272414518451741,
           1.2679154613450878,
           1.2631793906132442,
           1.25820630625621,
           1.2529962082740287,
           1.2475490966666154,
           1.241864971434012,
           1.2359438325762175,
           1.2302101493103264,
           1.2257015130559,
           1.222465087059282,
           1.2205008713204724,
           1.2198088658394715,
           1.2203890706162681,
           1.2222414856508734,
           1.225366110943287,
           1.229762946493509,
           1.2354319923015395,
           1.2423732483673784,
           1.2505867146910257,
           1.2600723912723992,
           1.270830278111653,
           1.282860375208715,
           1.2961626825635857,
           1.3107372001762645,
           1.3265839280467522,
           1.3437028661750479,
           1.362094014561152,
           1.3817573732050645,
           1.4026929421066106,
           1.4249007212661295,
           1.4483807106834572,
           1.473132910358593,
           1.4991573202915374,
           1.52645394048229,
           1.555022770930851,
           1.5848638116372207,
           1.6159770626011412,
           1.6483625238231172,
           1.6820201953029015,
           1.7169500770404946,
           1.7531521690358955,
           1.7906264712891051,
           1.8293645060645596,
           1.8684864728049093,
           1.9074036398735021,
           1.9461160072709685,
           1.9846235749969934,
           2.022926343051576,
           2.0610243114347164,
           2.0989174801464148,
           2.1366058491866706,
           2.1740894185554844,
           2.2113681882528566,
           2.2484421582784866,
           2.2853113286329756,
           2.3219756993160225,
           2.358435270327628,
           2.3946900416677903,
           2.430740013336511,
           2.4665851853337895,
           2.502225557659626,
           2.5376611303137335,
           2.5728919032966875,
           2.6079178766081994,
           2.6427390502482684,
           2.6773554242168953,
           2.7117669985140807,
           2.7459737731398235,
           2.7799757480941243,
           2.8137729233767104,
           2.8473652989881284,
           2.8807528749281044,
           2.9139356511966383,
           2.94691362779373,
           2.9796868047193796,
           3.012255181973587,
           3.0446187595563527,
           3.076777537467416,
           3.10863760723819,
           3.139546610627377,
           3.169379521566635,
           3.1981363400559624,
           3.2258170660953605,
           3.2524216996848287,
           3.2779502408243664,
           3.302402689513974,
           3.3257790457534666,
           3.3480793095432233,
           3.369303480883051,
           3.3894515597729478,
           3.408523546212914,
           3.426519440202952,
           3.4434392417430595,
           3.459282950833237,
           3.4740505674733684,
           3.487742091663695,
           3.500357523404092,
           3.5118968626945586,
           3.5223601095350943,
           3.5317472639257015,
           3.540058325866377,
           3.5472932953571243,
           3.5534521723978956,
           3.558534956988791,
           3.5625416491297575,
           3.565472248820792,
           3.5673267560618993,
           3.5681051708530753,
           3.5678074931943202,
           3.5664337230856367,
           3.563983860527023,
           3.560457905518512,
           3.5558558580600477,
           3.5501777181516525,
           3.543423485793327,
           3.535593160985073,
           3.526686743726888,
           3.516704234018774,
           3.5056456318607294,
           3.493510937252858,
           3.480300150194962,
           3.466013270687137,
           3.4506502987293812,
           3.4342112343216966,
           3.4166960774640804,
           3.398104828156536,
           3.3784374863990605,
           3.3576940521918286,
           3.335874525534502,
           3.312978906427246,
           3.28900719487006,
           3.263959390862944
          ],
          "coloraxis": "coloraxis",
          "symbol": "circle"
         },
         "mode": "markers",
         "name": "",
         "orientation": "v",
         "showlegend": false,
         "type": "scatter",
         "x": [
          2010,
          2010.0280561122245,
          2010.056112224449,
          2010.0841683366734,
          2010.112224448898,
          2010.1402805611222,
          2010.1683366733466,
          2010.196392785571,
          2010.2244488977956,
          2010.25250501002,
          2010.2805611222445,
          2010.308617234469,
          2010.3366733466935,
          2010.3647294589177,
          2010.3927855711422,
          2010.4208416833667,
          2010.4488977955912,
          2010.4769539078156,
          2010.5050100200401,
          2010.5330661322646,
          2010.561122244489,
          2010.5891783567133,
          2010.6172344689378,
          2010.6452905811623,
          2010.6733466933867,
          2010.7014028056112,
          2010.7294589178357,
          2010.7575150300602,
          2010.7855711422847,
          2010.8136272545091,
          2010.8416833667334,
          2010.8697394789579,
          2010.8977955911823,
          2010.9258517034068,
          2010.9539078156313,
          2010.9819639278558,
          2011.0100200400802,
          2011.0380761523047,
          2011.066132264529,
          2011.0941883767534,
          2011.122244488978,
          2011.1503006012024,
          2011.1783567134269,
          2011.2064128256513,
          2011.2344689378758,
          2011.2625250501003,
          2011.2905811623245,
          2011.318637274549,
          2011.3466933867735,
          2011.374749498998,
          2011.4028056112224,
          2011.430861723447,
          2011.4589178356714,
          2011.4869739478959,
          2011.5150300601204,
          2011.5430861723446,
          2011.571142284569,
          2011.5991983967936,
          2011.627254509018,
          2011.6553106212425,
          2011.683366733467,
          2011.7114228456915,
          2011.739478957916,
          2011.7675350701402,
          2011.7955911823647,
          2011.8236472945891,
          2011.8517034068136,
          2011.879759519038,
          2011.9078156312626,
          2011.935871743487,
          2011.9639278557115,
          2011.9919839679358,
          2012.0200400801602,
          2012.0480961923847,
          2012.0761523046092,
          2012.1042084168337,
          2012.1322645290581,
          2012.1603206412826,
          2012.188376753507,
          2012.2164328657316,
          2012.2444889779558,
          2012.2725450901803,
          2012.3006012024048,
          2012.3286573146293,
          2012.3567134268537,
          2012.3847695390782,
          2012.4128256513027,
          2012.4408817635272,
          2012.4689378757514,
          2012.4969939879759,
          2012.5250501002004,
          2012.5531062124248,
          2012.5811623246493,
          2012.6092184368738,
          2012.6372745490983,
          2012.6653306613227,
          2012.693386773547,
          2012.7214428857715,
          2012.749498997996,
          2012.7775551102204,
          2012.805611222445,
          2012.8336673346694,
          2012.8617234468938,
          2012.8897795591183,
          2012.9178356713426,
          2012.945891783567,
          2012.9739478957915,
          2013.002004008016,
          2013.0300601202405,
          2013.058116232465,
          2013.0861723446894,
          2013.114228456914,
          2013.1422845691384,
          2013.1703406813626,
          2013.198396793587,
          2013.2264529058116,
          2013.254509018036,
          2013.2825651302605,
          2013.310621242485,
          2013.3386773547095,
          2013.366733466934,
          2013.3947895791582,
          2013.4228456913827,
          2013.4509018036072,
          2013.4789579158316,
          2013.5070140280561,
          2013.5350701402806,
          2013.563126252505,
          2013.5911823647295,
          2013.6192384769538,
          2013.6472945891783,
          2013.6753507014027,
          2013.7034068136272,
          2013.7314629258517,
          2013.7595190380762,
          2013.7875751503007,
          2013.8156312625251,
          2013.8436873747496,
          2013.8717434869739,
          2013.8997995991983,
          2013.9278557114228,
          2013.9559118236473,
          2013.9839679358718,
          2014.0120240480962,
          2014.0400801603207,
          2014.0681362725452,
          2014.0961923847694,
          2014.124248496994,
          2014.1523046092184,
          2014.1803607214429,
          2014.2084168336673,
          2014.2364729458918,
          2014.2645290581163,
          2014.2925851703408,
          2014.320641282565,
          2014.3486973947895,
          2014.376753507014,
          2014.4048096192384,
          2014.432865731463,
          2014.4609218436874,
          2014.4889779559119,
          2014.5170340681364,
          2014.5450901803608,
          2014.573146292585,
          2014.6012024048096,
          2014.629258517034,
          2014.6573146292585,
          2014.685370741483,
          2014.7134268537075,
          2014.741482965932,
          2014.7695390781564,
          2014.7975951903807,
          2014.8256513026051,
          2014.8537074148296,
          2014.881763527054,
          2014.9098196392786,
          2014.937875751503,
          2014.9659318637275,
          2014.993987975952,
          2015.0220440881762,
          2015.0501002004007,
          2015.0781563126252,
          2015.1062124248497,
          2015.1342685370741,
          2015.1623246492986,
          2015.190380761523,
          2015.2184368737476,
          2015.246492985972,
          2015.2745490981963,
          2015.3026052104208,
          2015.3306613226453,
          2015.3587174348697,
          2015.3867735470942,
          2015.4148296593187,
          2015.4428857715432,
          2015.4709418837676,
          2015.4989979959919,
          2015.5270541082164,
          2015.5551102204408,
          2015.5831663326653,
          2015.6112224448898,
          2015.6392785571143,
          2015.6673346693387,
          2015.6953907815632,
          2015.7234468937875,
          2015.751503006012,
          2015.7795591182364,
          2015.807615230461,
          2015.8356713426854,
          2015.8637274549098,
          2015.8917835671343,
          2015.9198396793588,
          2015.9478957915833,
          2015.9759519038075,
          2016.004008016032,
          2016.0320641282565,
          2016.060120240481,
          2016.0881763527054,
          2016.11623246493,
          2016.1442885771544,
          2016.1723446893789,
          2016.200400801603,
          2016.2284569138276,
          2016.256513026052,
          2016.2845691382765,
          2016.312625250501,
          2016.3406813627255,
          2016.36873747495,
          2016.3967935871744,
          2016.4248496993987,
          2016.4529058116232,
          2016.4809619238476,
          2016.5090180360721,
          2016.5370741482966,
          2016.565130260521,
          2016.5931863727455,
          2016.62124248497,
          2016.6492985971945,
          2016.6773547094188,
          2016.7054108216432,
          2016.7334669338677,
          2016.7615230460922,
          2016.7895791583167,
          2016.8176352705411,
          2016.8456913827656,
          2016.87374749499,
          2016.9018036072143,
          2016.9298597194388,
          2016.9579158316633,
          2016.9859719438878,
          2017.0140280561122,
          2017.0420841683367,
          2017.0701402805612,
          2017.0981963927857,
          2017.12625250501,
          2017.1543086172344,
          2017.1823647294589,
          2017.2104208416833,
          2017.2384769539078,
          2017.2665330661323,
          2017.2945891783568,
          2017.3226452905812,
          2017.3507014028055,
          2017.37875751503,
          2017.4068136272545,
          2017.434869739479,
          2017.4629258517034,
          2017.4909819639279,
          2017.5190380761524,
          2017.5470941883768,
          2017.5751503006013,
          2017.6032064128256,
          2017.63126252505,
          2017.6593186372745,
          2017.687374749499,
          2017.7154308617235,
          2017.743486973948,
          2017.7715430861724,
          2017.799599198397,
          2017.8276553106211,
          2017.8557114228456,
          2017.88376753507,
          2017.9118236472946,
          2017.939879759519,
          2017.9679358717435,
          2017.995991983968,
          2018.0240480961925,
          2018.0521042084167,
          2018.0801603206412,
          2018.1082164328657,
          2018.1362725450902,
          2018.1643286573146,
          2018.192384769539,
          2018.2204408817636,
          2018.248496993988,
          2018.2765531062125,
          2018.3046092184368,
          2018.3326653306613,
          2018.3607214428857,
          2018.3887775551102,
          2018.4168336673347,
          2018.4448897795592,
          2018.4729458917836,
          2018.5010020040081,
          2018.5290581162324,
          2018.5571142284568,
          2018.5851703406813,
          2018.6132264529058,
          2018.6412825651303,
          2018.6693386773547,
          2018.6973947895792,
          2018.7254509018037,
          2018.753507014028,
          2018.7815631262524,
          2018.809619238477,
          2018.8376753507014,
          2018.8657314629259,
          2018.8937875751503,
          2018.9218436873748,
          2018.9498997995993,
          2018.9779559118238,
          2019.006012024048,
          2019.0340681362725,
          2019.062124248497,
          2019.0901803607214,
          2019.118236472946,
          2019.1462925851704,
          2019.1743486973949,
          2019.2024048096193,
          2019.2304609218436,
          2019.258517034068,
          2019.2865731462925,
          2019.314629258517,
          2019.3426853707415,
          2019.370741482966,
          2019.3987975951904,
          2019.426853707415,
          2019.4549098196392,
          2019.4829659318636,
          2019.5110220440881,
          2019.5390781563126,
          2019.567134268537,
          2019.5951903807616,
          2019.623246492986,
          2019.6513026052105,
          2019.679358717435,
          2019.7074148296592,
          2019.7354709418837,
          2019.7635270541082,
          2019.7915831663327,
          2019.8196392785571,
          2019.8476953907816,
          2019.875751503006,
          2019.9038076152306,
          2019.9318637274548,
          2019.9599198396793,
          2019.9879759519038,
          2020.0160320641282,
          2020.0440881763527,
          2020.0721442885772,
          2020.1002004008017,
          2020.1282565130261,
          2020.1563126252504,
          2020.1843687374749,
          2020.2124248496993,
          2020.2404809619238,
          2020.2685370741483,
          2020.2965931863728,
          2020.3246492985973,
          2020.3527054108217,
          2020.3807615230462,
          2020.4088176352705,
          2020.436873747495,
          2020.4649298597194,
          2020.4929859719439,
          2020.5210420841684,
          2020.5490981963928,
          2020.5771543086173,
          2020.6052104208418,
          2020.633266533066,
          2020.6613226452905,
          2020.689378757515,
          2020.7174348697395,
          2020.745490981964,
          2020.7735470941884,
          2020.801603206413,
          2020.8296593186374,
          2020.8577154308616,
          2020.885771543086,
          2020.9138276553106,
          2020.941883767535,
          2020.9699398797595,
          2020.997995991984,
          2021.0260521042085,
          2021.054108216433,
          2021.0821643286574,
          2021.1102204408817,
          2021.1382765531062,
          2021.1663326653306,
          2021.194388777555,
          2021.2224448897796,
          2021.250501002004,
          2021.2785571142285,
          2021.306613226453,
          2021.3346693386773,
          2021.3627254509017,
          2021.3907815631262,
          2021.4188376753507,
          2021.4468937875752,
          2021.4749498997996,
          2021.5030060120241,
          2021.5310621242486,
          2021.5591182364728,
          2021.5871743486973,
          2021.6152304609218,
          2021.6432865731463,
          2021.6713426853707,
          2021.6993987975952,
          2021.7274549098197,
          2021.7555110220442,
          2021.7835671342687,
          2021.811623246493,
          2021.8396793587174,
          2021.8677354709419,
          2021.8957915831663,
          2021.9238476953908,
          2021.9519038076153,
          2021.9799599198398,
          2022.0080160320642,
          2022.0360721442885,
          2022.064128256513,
          2022.0921843687374,
          2022.120240480962,
          2022.1482965931864,
          2022.1763527054109,
          2022.2044088176353,
          2022.2324649298598,
          2022.260521042084,
          2022.2885771543085,
          2022.316633266533,
          2022.3446893787575,
          2022.372745490982,
          2022.4008016032064,
          2022.428857715431,
          2022.4569138276554,
          2022.4849699398796,
          2022.5130260521041,
          2022.5410821643286,
          2022.569138276553,
          2022.5971943887776,
          2022.625250501002,
          2022.6533066132265,
          2022.681362725451,
          2022.7094188376755,
          2022.7374749498997,
          2022.7655310621242,
          2022.7935871743487,
          2022.8216432865731,
          2022.8496993987976,
          2022.877755511022,
          2022.9058116232466,
          2022.933867735471,
          2022.9619238476953,
          2022.9899799599198,
          2023.0180360721442,
          2023.0460921843687,
          2023.0741482965932,
          2023.1022044088177,
          2023.1302605210421,
          2023.1583166332666,
          2023.1863727454909,
          2023.2144288577153,
          2023.2424849699398,
          2023.2705410821643,
          2023.2985971943888,
          2023.3266533066133,
          2023.3547094188377,
          2023.3827655310622,
          2023.4108216432867,
          2023.438877755511,
          2023.4669338677354,
          2023.4949899799599,
          2023.5230460921844,
          2023.5511022044088,
          2023.5791583166333,
          2023.6072144288578,
          2023.6352705410823,
          2023.6633266533065,
          2023.691382765531,
          2023.7194388777555,
          2023.74749498998,
          2023.7755511022044,
          2023.803607214429,
          2023.8316633266534,
          2023.8597194388778,
          2023.887775551102,
          2023.9158316633266,
          2023.943887775551,
          2023.9719438877755,
          2024
         ],
         "xaxis": "x",
         "y": [
          1,
          0.5251742852968463,
          0.08424012643048875,
          -0.3228024765990728,
          -0.6959535237918382,
          -1.0352130151451953,
          -1.3405809506646431,
          -1.6120573303472945,
          -1.8496421541931498,
          -2.053335422202209,
          -2.223137134374472,
          -2.359047290709939,
          -2.4610658912086105,
          -2.5291929358700704,
          -2.5634284246954233,
          -2.5637723576839813,
          -2.530224734835742,
          -2.462785556150706,
          -2.3614548216288758,
          -2.2262325312702496,
          -2.0571186850748244,
          -1.8541132830443878,
          -1.6172163251756464,
          -1.34642781147011,
          -1.0417477419277779,
          -0.7031761165486481,
          -0.3307129353327207,
          0.07564180171999979,
          0.5158880946095188,
          0.9900259433358318,
          1.4980553478946863,
          2.039976308294319,
          2.615788824530747,
          3.225492896603968,
          3.869088524513991,
          4.546575708260807,
          5.257954447844418,
          6.003224743264826,
          6.782386594515576,
          7.5954400016093055,
          8.44238496453983,
          9.323221483307144,
          10.237949557911257,
          11.186569188352168,
          12.169080374629875,
          13.185483116744381,
          14.235777414687028,
          15.319963268474847,
          16.43804067809947,
          17.59000964356088,
          18.775870164859086,
          19.99562224199409,
          21.249265874965893,
          22.536801063774494,
          23.843719178027463,
          25.094317408468363,
          26.27769816162302,
          27.393861437481025,
          28.44280723604237,
          29.42453555730707,
          30.33904640127511,
          31.1863397679465,
          31.966415657321242,
          32.67927406939381,
          33.324915004175786,
          33.9033384616611,
          34.41454444184978,
          34.85853294474179,
          35.23530397033715,
          35.54485751863585,
          35.78719358963791,
          35.96231218334216,
          36.07021329975145,
          36.110896938864094,
          36.08436310068007,
          35.99061178519941,
          35.82964299242208,
          35.601456722348104,
          35.306052974977476,
          34.9434317503102,
          34.51359304835002,
          34.01653686908997,
          33.45226321253327,
          32.820772078679916,
          32.12206346752991,
          31.356137379083254,
          30.522993813339937,
          29.622632770299976,
          28.65505424997147,
          27.62025825233874,
          26.56678296777056,
          25.567163867943307,
          24.622099902798222,
          23.7315910723353,
          22.89563737655453,
          22.114238815455927,
          21.38739538904516,
          20.715107097310437,
          20.09737394025788,
          19.53419591788749,
          19.02557303019926,
          18.57150527719319,
          18.171992658869286,
          17.827035175227543,
          17.536632826270093,
          17.300785611992236,
          17.119493532396536,
          16.992756587483,
          16.92057477725163,
          16.902948101702417,
          16.939876560835373,
          17.031360154650486,
          17.177398883147763,
          17.37799274632536,
          17.633141744186517,
          17.94284587672984,
          18.30710514395533,
          18.725919545862975,
          19.199289082452786,
          19.72721375372476,
          20.309693559678898,
          20.946728500309813,
          21.63831857562783,
          22.384463785628014,
          23.18516413031036,
          24.040622324401355,
          24.955298091883794,
          25.931015865296093,
          26.967775644638255,
          28.065577429901133,
          29.22442122110252,
          30.44430701823376,
          31.725234821294865,
          33.06720463028583,
          34.470216445206646,
          35.934270266057325,
          37.45936609283787,
          39.04550392554827,
          40.69268376417493,
          42.40090560874455,
          44.170169459244036,
          46.00047531567338,
          47.89182317803258,
          49.84421304632164,
          51.85764492054056,
          53.93211880068934,
          56.067634686750424,
          58.264192578758426,
          60.52179247669629,
          62.840434380564005,
          65.22011829036158,
          67.66084420608904,
          70.16261212774633,
          72.72542205533348,
          75.349273988829,
          78.03416792827538,
          80.78010387365163,
          83.58708182495772,
          86.45510178219368,
          89.38416374535949,
          92.37426771445517,
          95.39579601116073,
          98.33007295556523,
          101.164698066412,
          103.89967134374703,
          106.53499278754691,
          109.07066239781169,
          111.5066801745413,
          113.84304611773578,
          116.07976022739513,
          118.21682250351934,
          120.25423294609227,
          122.19199155514703,
          124.03009833066663,
          125.76855327265108,
          127.40735638110041,
          128.9465076560146,
          130.38600709739367,
          131.72585470523757,
          132.9660504795367,
          134.10659442031115,
          135.14748652755048,
          136.08872680125464,
          136.93031524142367,
          137.67225184805758,
          138.31453662115635,
          138.85716956071997,
          139.3001506667485,
          139.64347993923946,
          139.88715737819848,
          140.03118298362236,
          140.07555675551112,
          140.02027869386473,
          139.8653487986832,
          139.61076706996653,
          139.25653350771472,
          138.8026481119319,
          138.39280400223163,
          138.19217927771749,
          138.20097104829287,
          138.4191793139578,
          138.84680407471237,
          139.48384533055645,
          140.33030308149011,
          141.3861773275039,
          142.65146806861497,
          144.1261753048156,
          145.8102990361058,
          147.7038392624856,
          149.80679598395488,
          152.1191692005138,
          154.64095891216223,
          157.37216511890023,
          160.31278782070314,
          163.4628270176186,
          166.82228270962358,
          170.39115489671818,
          174.1694435789023,
          178.15714875617596,
          182.35427042853922,
          186.76080859599202,
          191.37676325849617,
          196.2021344161264,
          201.2369220688462,
          206.48112621665558,
          211.9347468595545,
          217.597783997543,
          223.47023763062106,
          229.55210775878868,
          235.84339438199402,
          242.34409750033905,
          249.0542171137737,
          255.95945143495015,
          262.8609879632069,
          269.6950866339444,
          276.4617474471625,
          283.1609704028614,
          289.7927555010409,
          296.3571027416482,
          302.8540121247897,
          309.2834836504118,
          315.64551731851464,
          321.9401131290982,
          328.16727108216236,
          334.3269911777073,
          340.4192734157329,
          346.44411779619065,
          352.40152431917824,
          358.2914929846464,
          364.11402379259533,
          369.86911674302496,
          375.55677183593525,
          381.17698907132626,
          386.72976844919793,
          392.21510996950605,
          397.6330136323397,
          402.983479437654,
          408.266507385449,
          413.4820974757247,
          418.6302497084811,
          423.71096408371807,
          428.7242406014359,
          433.67007926159454,
          438.5484800642742,
          443.3594430094346,
          448.10296809707563,
          452.7790553271974,
          457.3877046997999,
          461.93284373197304,
          466.4267227955821,
          470.870223134074,
          475.2633447474132,
          479.6060876356709,
          483.89845179881144,
          488.14043723683466,
          492.33204394974064,
          496.4732719375294,
          500.56412120020076,
          504.60459173775496,
          508.59468355015974,
          512.5343966374799,
          516.4237309996827,
          520.2626866367683,
          524.0512635487366,
          527.7894617355876,
          531.4772811973214,
          535.114721933938,
          538.7017839454082,
          542.2384672317907,
          545.7247717930559,
          549.1606976292037,
          552.5462447402344,
          555.8814131261478,
          559.1662027869438,
          562.4006137226227,
          565.5846459331842,
          568.7182994186035,
          571.8015741789309,
          574.8344702141411,
          577.8169875242342,
          580.7491261092098,
          583.6308859690682,
          586.4622671038094,
          589.2437583099411,
          592.3849710608116,
          596.2422380105146,
          600.8155591590275,
          606.1049345063503,
          612.1103640524831,
          618.8318477974259,
          626.2693857411786,
          634.422977883741,
          643.2926242250388,
          652.8783247652154,
          663.1800795042019,
          674.1978884419984,
          685.9317515786048,
          698.381668914021,
          711.5476404482474,
          725.4296661812836,
          740.0277461131296,
          755.3418802436586,
          771.3720685731189,
          788.1183111013888,
          805.5806078284688,
          823.7589587543587,
          842.6533638790587,
          862.2638232025683,
          882.5903367248882,
          903.6329044458442,
          925.391526365778,
          947.8662024845216,
          971.0569328020754,
          994.9637173184387,
          1019.5865560336123,
          1044.9254489475957,
          1070.980396060389,
          1097.7513973717723,
          1125.2384528821797,
          1153.2957927110679,
          1180.5283629623807,
          1206.5880025169781,
          1231.4747113748597,
          1255.1884895360267,
          1277.7293370004782,
          1299.0972537682144,
          1319.2922398390758,
          1338.314295213391,
          1356.1634198909908,
          1372.839613871875,
          1388.3428771560443,
          1402.673209743498,
          1415.8306116342362,
          1427.8150828282598,
          1438.6266233254844,
          1448.2652331260865,
          1456.7309122299732,
          1464.023660637145,
          1470.143478347601,
          1475.090365361342,
          1478.8643216783673,
          1481.4653472986777,
          1482.8934422222658,
          1483.148606449155,
          1482.2308399793287,
          1480.1401428127872,
          1476.8765149495302,
          1472.4399563895586,
          1466.8304671328708,
          1460.0480471794685,
          1452.0926965293502,
          1442.9644151825955,
          1432.6632031390563,
          1421.189060398802,
          1408.5419869618324,
          1395.2163485422861,
          1382.420594663614,
          1370.2096548496088,
          1358.5835291002709,
          1347.5422174156874,
          1337.085719795679,
          1327.2140362403381,
          1317.9271667496641,
          1309.2251113236573,
          1301.1078699623179,
          1293.5754426656451,
          1286.6278294336403,
          1280.2650302663515,
          1274.4870451636757,
          1269.2938741256671,
          1264.685517152326,
          1260.6619742436517,
          1257.223245399645,
          1254.3693306203052,
          1252.1002299056327,
          1250.415943255627,
          1249.3164706702955,
          1248.8018121496198,
          1248.871967693611,
          1249.5269373022695,
          1250.7667209755953,
          1252.5913187135882,
          1255.000730516248,
          1257.9949563835755,
          1261.5739963155384,
          1265.7378503121954,
          1270.4865183735192,
          1275.8200004995106,
          1281.7382966901687,
          1288.2414069454944,
          1295.3313979043169,
          1303.2227407518424,
          1312.058952073384,
          1321.8400318690844,
          1332.565980138877,
          1344.2367968827607,
          1356.8524821007359,
          1370.4130357928027,
          1384.918457958961,
          1400.3687485992107,
          1416.7639077135518,
          1434.1039353018402,
          1452.388831364357,
          1471.618595900965,
          1491.7932289116645,
          1512.9127303964553,
          1534.9771003553378,
          1557.986338788312,
          1581.940445695377,
          1606.8394210763288,
          1632.6832649315695,
          1659.471977260902,
          1687.2055580643255,
          1715.884007341841,
          1745.5073250934477,
          1776.0755113191458,
          1807.5885660189356,
          1840.0464891925503,
          1873.4492808405148,
          1907.7969409625716,
          1943.0894695587194,
          1979.3268666289591,
          2016.5091321732903,
          2054.636266191713,
          2093.708268684227,
          2133.725139650504,
          2174.272052809982,
          2212.4673155342443,
          2247.7586443127875,
          2280.1460391456108,
          2309.6295000327145,
          2336.209026974099,
          2359.8846199697637,
          2380.656279019708,
          2398.524004123801,
          2413.4877952823313,
          2425.547652495142,
          2434.703575762233,
          2440.955565083604,
          2444.3036204592563,
          2444.747741889189,
          2442.287929373402,
          2436.924182911951,
          2428.6565025047485,
          2417.484888151827,
          2403.4093398531854,
          2386.4298576088245,
          2366.5464414187445,
          2343.7590912829446,
          2318.0678072014252,
          2289.47258917443,
          2257.973437201496,
          2223.5703512828422,
          2186.263331418468,
          2146.0523776083755,
          2102.9374898525634,
          2056.918668151031,
          2007.9959125037794,
          1956.1692229108085,
          1901.4385993725734,
          1843.8040418881876,
          1783.2655504580814,
          1719.8231250822562,
          1653.4767657607117,
          1584.2264724934473,
          1512.0722452804637,
          1437.0140841217608,
          1359.0519890179817,
          1278.1859599678633,
          1194.415996972025,
          1107.7421000304676,
          1018.1642691431906,
          925.6825043101942,
          830.2968055314784,
          732.0071728070429,
          630.8136061377201,
          526.7161055218692,
          419.7146709602989,
          309.8093024530092,
          197
         ],
         "yaxis": "y"
        }
       ],
       "layout": {
        "coloraxis": {
         "colorbar": {
          "title": {
           "text": "color"
          }
         },
         "colorscale": [
          [
           0,
           "#0d0887"
          ],
          [
           0.1111111111111111,
           "#46039f"
          ],
          [
           0.2222222222222222,
           "#7201a8"
          ],
          [
           0.3333333333333333,
           "#9c179e"
          ],
          [
           0.4444444444444444,
           "#bd3786"
          ],
          [
           0.5555555555555556,
           "#d8576b"
          ],
          [
           0.6666666666666666,
           "#ed7953"
          ],
          [
           0.7777777777777778,
           "#fb9f3a"
          ],
          [
           0.8888888888888888,
           "#fdca26"
          ],
          [
           1,
           "#f0f921"
          ]
         ]
        },
        "legend": {
         "tracegroupgap": 0
        },
        "margin": {
         "t": 60
        },
        "template": {
         "data": {
          "bar": [
           {
            "error_x": {
             "color": "#2a3f5f"
            },
            "error_y": {
             "color": "#2a3f5f"
            },
            "marker": {
             "line": {
              "color": "#E5ECF6",
              "width": 0.5
             },
             "pattern": {
              "fillmode": "overlay",
              "size": 10,
              "solidity": 0.2
             }
            },
            "type": "bar"
           }
          ],
          "barpolar": [
           {
            "marker": {
             "line": {
              "color": "#E5ECF6",
              "width": 0.5
             },
             "pattern": {
              "fillmode": "overlay",
              "size": 10,
              "solidity": 0.2
             }
            },
            "type": "barpolar"
           }
          ],
          "carpet": [
           {
            "aaxis": {
             "endlinecolor": "#2a3f5f",
             "gridcolor": "white",
             "linecolor": "white",
             "minorgridcolor": "white",
             "startlinecolor": "#2a3f5f"
            },
            "baxis": {
             "endlinecolor": "#2a3f5f",
             "gridcolor": "white",
             "linecolor": "white",
             "minorgridcolor": "white",
             "startlinecolor": "#2a3f5f"
            },
            "type": "carpet"
           }
          ],
          "choropleth": [
           {
            "colorbar": {
             "outlinewidth": 0,
             "ticks": ""
            },
            "type": "choropleth"
           }
          ],
          "contour": [
           {
            "colorbar": {
             "outlinewidth": 0,
             "ticks": ""
            },
            "colorscale": [
             [
              0,
              "#0d0887"
             ],
             [
              0.1111111111111111,
              "#46039f"
             ],
             [
              0.2222222222222222,
              "#7201a8"
             ],
             [
              0.3333333333333333,
              "#9c179e"
             ],
             [
              0.4444444444444444,
              "#bd3786"
             ],
             [
              0.5555555555555556,
              "#d8576b"
             ],
             [
              0.6666666666666666,
              "#ed7953"
             ],
             [
              0.7777777777777778,
              "#fb9f3a"
             ],
             [
              0.8888888888888888,
              "#fdca26"
             ],
             [
              1,
              "#f0f921"
             ]
            ],
            "type": "contour"
           }
          ],
          "contourcarpet": [
           {
            "colorbar": {
             "outlinewidth": 0,
             "ticks": ""
            },
            "type": "contourcarpet"
           }
          ],
          "heatmap": [
           {
            "colorbar": {
             "outlinewidth": 0,
             "ticks": ""
            },
            "colorscale": [
             [
              0,
              "#0d0887"
             ],
             [
              0.1111111111111111,
              "#46039f"
             ],
             [
              0.2222222222222222,
              "#7201a8"
             ],
             [
              0.3333333333333333,
              "#9c179e"
             ],
             [
              0.4444444444444444,
              "#bd3786"
             ],
             [
              0.5555555555555556,
              "#d8576b"
             ],
             [
              0.6666666666666666,
              "#ed7953"
             ],
             [
              0.7777777777777778,
              "#fb9f3a"
             ],
             [
              0.8888888888888888,
              "#fdca26"
             ],
             [
              1,
              "#f0f921"
             ]
            ],
            "type": "heatmap"
           }
          ],
          "heatmapgl": [
           {
            "colorbar": {
             "outlinewidth": 0,
             "ticks": ""
            },
            "colorscale": [
             [
              0,
              "#0d0887"
             ],
             [
              0.1111111111111111,
              "#46039f"
             ],
             [
              0.2222222222222222,
              "#7201a8"
             ],
             [
              0.3333333333333333,
              "#9c179e"
             ],
             [
              0.4444444444444444,
              "#bd3786"
             ],
             [
              0.5555555555555556,
              "#d8576b"
             ],
             [
              0.6666666666666666,
              "#ed7953"
             ],
             [
              0.7777777777777778,
              "#fb9f3a"
             ],
             [
              0.8888888888888888,
              "#fdca26"
             ],
             [
              1,
              "#f0f921"
             ]
            ],
            "type": "heatmapgl"
           }
          ],
          "histogram": [
           {
            "marker": {
             "pattern": {
              "fillmode": "overlay",
              "size": 10,
              "solidity": 0.2
             }
            },
            "type": "histogram"
           }
          ],
          "histogram2d": [
           {
            "colorbar": {
             "outlinewidth": 0,
             "ticks": ""
            },
            "colorscale": [
             [
              0,
              "#0d0887"
             ],
             [
              0.1111111111111111,
              "#46039f"
             ],
             [
              0.2222222222222222,
              "#7201a8"
             ],
             [
              0.3333333333333333,
              "#9c179e"
             ],
             [
              0.4444444444444444,
              "#bd3786"
             ],
             [
              0.5555555555555556,
              "#d8576b"
             ],
             [
              0.6666666666666666,
              "#ed7953"
             ],
             [
              0.7777777777777778,
              "#fb9f3a"
             ],
             [
              0.8888888888888888,
              "#fdca26"
             ],
             [
              1,
              "#f0f921"
             ]
            ],
            "type": "histogram2d"
           }
          ],
          "histogram2dcontour": [
           {
            "colorbar": {
             "outlinewidth": 0,
             "ticks": ""
            },
            "colorscale": [
             [
              0,
              "#0d0887"
             ],
             [
              0.1111111111111111,
              "#46039f"
             ],
             [
              0.2222222222222222,
              "#7201a8"
             ],
             [
              0.3333333333333333,
              "#9c179e"
             ],
             [
              0.4444444444444444,
              "#bd3786"
             ],
             [
              0.5555555555555556,
              "#d8576b"
             ],
             [
              0.6666666666666666,
              "#ed7953"
             ],
             [
              0.7777777777777778,
              "#fb9f3a"
             ],
             [
              0.8888888888888888,
              "#fdca26"
             ],
             [
              1,
              "#f0f921"
             ]
            ],
            "type": "histogram2dcontour"
           }
          ],
          "mesh3d": [
           {
            "colorbar": {
             "outlinewidth": 0,
             "ticks": ""
            },
            "type": "mesh3d"
           }
          ],
          "parcoords": [
           {
            "line": {
             "colorbar": {
              "outlinewidth": 0,
              "ticks": ""
             }
            },
            "type": "parcoords"
           }
          ],
          "pie": [
           {
            "automargin": true,
            "type": "pie"
           }
          ],
          "scatter": [
           {
            "fillpattern": {
             "fillmode": "overlay",
             "size": 10,
             "solidity": 0.2
            },
            "type": "scatter"
           }
          ],
          "scatter3d": [
           {
            "line": {
             "colorbar": {
              "outlinewidth": 0,
              "ticks": ""
             }
            },
            "marker": {
             "colorbar": {
              "outlinewidth": 0,
              "ticks": ""
             }
            },
            "type": "scatter3d"
           }
          ],
          "scattercarpet": [
           {
            "marker": {
             "colorbar": {
              "outlinewidth": 0,
              "ticks": ""
             }
            },
            "type": "scattercarpet"
           }
          ],
          "scattergeo": [
           {
            "marker": {
             "colorbar": {
              "outlinewidth": 0,
              "ticks": ""
             }
            },
            "type": "scattergeo"
           }
          ],
          "scattergl": [
           {
            "marker": {
             "colorbar": {
              "outlinewidth": 0,
              "ticks": ""
             }
            },
            "type": "scattergl"
           }
          ],
          "scattermapbox": [
           {
            "marker": {
             "colorbar": {
              "outlinewidth": 0,
              "ticks": ""
             }
            },
            "type": "scattermapbox"
           }
          ],
          "scatterpolar": [
           {
            "marker": {
             "colorbar": {
              "outlinewidth": 0,
              "ticks": ""
             }
            },
            "type": "scatterpolar"
           }
          ],
          "scatterpolargl": [
           {
            "marker": {
             "colorbar": {
              "outlinewidth": 0,
              "ticks": ""
             }
            },
            "type": "scatterpolargl"
           }
          ],
          "scatterternary": [
           {
            "marker": {
             "colorbar": {
              "outlinewidth": 0,
              "ticks": ""
             }
            },
            "type": "scatterternary"
           }
          ],
          "surface": [
           {
            "colorbar": {
             "outlinewidth": 0,
             "ticks": ""
            },
            "colorscale": [
             [
              0,
              "#0d0887"
             ],
             [
              0.1111111111111111,
              "#46039f"
             ],
             [
              0.2222222222222222,
              "#7201a8"
             ],
             [
              0.3333333333333333,
              "#9c179e"
             ],
             [
              0.4444444444444444,
              "#bd3786"
             ],
             [
              0.5555555555555556,
              "#d8576b"
             ],
             [
              0.6666666666666666,
              "#ed7953"
             ],
             [
              0.7777777777777778,
              "#fb9f3a"
             ],
             [
              0.8888888888888888,
              "#fdca26"
             ],
             [
              1,
              "#f0f921"
             ]
            ],
            "type": "surface"
           }
          ],
          "table": [
           {
            "cells": {
             "fill": {
              "color": "#EBF0F8"
             },
             "line": {
              "color": "white"
             }
            },
            "header": {
             "fill": {
              "color": "#C8D4E3"
             },
             "line": {
              "color": "white"
             }
            },
            "type": "table"
           }
          ]
         },
         "layout": {
          "annotationdefaults": {
           "arrowcolor": "#2a3f5f",
           "arrowhead": 0,
           "arrowwidth": 1
          },
          "autotypenumbers": "strict",
          "coloraxis": {
           "colorbar": {
            "outlinewidth": 0,
            "ticks": ""
           }
          },
          "colorscale": {
           "diverging": [
            [
             0,
             "#8e0152"
            ],
            [
             0.1,
             "#c51b7d"
            ],
            [
             0.2,
             "#de77ae"
            ],
            [
             0.3,
             "#f1b6da"
            ],
            [
             0.4,
             "#fde0ef"
            ],
            [
             0.5,
             "#f7f7f7"
            ],
            [
             0.6,
             "#e6f5d0"
            ],
            [
             0.7,
             "#b8e186"
            ],
            [
             0.8,
             "#7fbc41"
            ],
            [
             0.9,
             "#4d9221"
            ],
            [
             1,
             "#276419"
            ]
           ],
           "sequential": [
            [
             0,
             "#0d0887"
            ],
            [
             0.1111111111111111,
             "#46039f"
            ],
            [
             0.2222222222222222,
             "#7201a8"
            ],
            [
             0.3333333333333333,
             "#9c179e"
            ],
            [
             0.4444444444444444,
             "#bd3786"
            ],
            [
             0.5555555555555556,
             "#d8576b"
            ],
            [
             0.6666666666666666,
             "#ed7953"
            ],
            [
             0.7777777777777778,
             "#fb9f3a"
            ],
            [
             0.8888888888888888,
             "#fdca26"
            ],
            [
             1,
             "#f0f921"
            ]
           ],
           "sequentialminus": [
            [
             0,
             "#0d0887"
            ],
            [
             0.1111111111111111,
             "#46039f"
            ],
            [
             0.2222222222222222,
             "#7201a8"
            ],
            [
             0.3333333333333333,
             "#9c179e"
            ],
            [
             0.4444444444444444,
             "#bd3786"
            ],
            [
             0.5555555555555556,
             "#d8576b"
            ],
            [
             0.6666666666666666,
             "#ed7953"
            ],
            [
             0.7777777777777778,
             "#fb9f3a"
            ],
            [
             0.8888888888888888,
             "#fdca26"
            ],
            [
             1,
             "#f0f921"
            ]
           ]
          },
          "colorway": [
           "#636efa",
           "#EF553B",
           "#00cc96",
           "#ab63fa",
           "#FFA15A",
           "#19d3f3",
           "#FF6692",
           "#B6E880",
           "#FF97FF",
           "#FECB52"
          ],
          "font": {
           "color": "#2a3f5f"
          },
          "geo": {
           "bgcolor": "white",
           "lakecolor": "white",
           "landcolor": "#E5ECF6",
           "showlakes": true,
           "showland": true,
           "subunitcolor": "white"
          },
          "hoverlabel": {
           "align": "left"
          },
          "hovermode": "closest",
          "mapbox": {
           "style": "light"
          },
          "paper_bgcolor": "white",
          "plot_bgcolor": "#E5ECF6",
          "polar": {
           "angularaxis": {
            "gridcolor": "white",
            "linecolor": "white",
            "ticks": ""
           },
           "bgcolor": "#E5ECF6",
           "radialaxis": {
            "gridcolor": "white",
            "linecolor": "white",
            "ticks": ""
           }
          },
          "scene": {
           "xaxis": {
            "backgroundcolor": "#E5ECF6",
            "gridcolor": "white",
            "gridwidth": 2,
            "linecolor": "white",
            "showbackground": true,
            "ticks": "",
            "zerolinecolor": "white"
           },
           "yaxis": {
            "backgroundcolor": "#E5ECF6",
            "gridcolor": "white",
            "gridwidth": 2,
            "linecolor": "white",
            "showbackground": true,
            "ticks": "",
            "zerolinecolor": "white"
           },
           "zaxis": {
            "backgroundcolor": "#E5ECF6",
            "gridcolor": "white",
            "gridwidth": 2,
            "linecolor": "white",
            "showbackground": true,
            "ticks": "",
            "zerolinecolor": "white"
           }
          },
          "shapedefaults": {
           "line": {
            "color": "#2a3f5f"
           }
          },
          "ternary": {
           "aaxis": {
            "gridcolor": "white",
            "linecolor": "white",
            "ticks": ""
           },
           "baxis": {
            "gridcolor": "white",
            "linecolor": "white",
            "ticks": ""
           },
           "bgcolor": "#E5ECF6",
           "caxis": {
            "gridcolor": "white",
            "linecolor": "white",
            "ticks": ""
           }
          },
          "title": {
           "x": 0.05
          },
          "xaxis": {
           "automargin": true,
           "gridcolor": "white",
           "linecolor": "white",
           "ticks": "",
           "title": {
            "standoff": 15
           },
           "zerolinecolor": "white",
           "zerolinewidth": 2
          },
          "yaxis": {
           "automargin": true,
           "gridcolor": "white",
           "linecolor": "white",
           "ticks": "",
           "title": {
            "standoff": 15
           },
           "zerolinecolor": "white",
           "zerolinewidth": 2
          }
         }
        },
        "xaxis": {
         "anchor": "y",
         "domain": [
          0,
          1
         ],
         "title": {
          "text": "x"
         }
        },
        "yaxis": {
         "anchor": "x",
         "domain": [
          0,
          1
         ],
         "title": {
          "text": "y"
         }
        }
       }
      }
     },
     "metadata": {},
     "output_type": "display_data"
    }
   ],
   "source": [
    "from scipy.interpolate import interp1d\n",
    "\n",
    "x_new = np.linspace(x.min(), x.max(),500)\n",
    "\n",
    "y_smooth = interp1d(x, y, kind='quadratic')(x_new)\n",
    "c_smooth = interp1d(x, c, kind='quadratic')(x_new)\n",
    "\n",
    "\n",
    "fig = px.scatter(x=x_new, y=y_smooth, color=c_smooth)\n",
    "fig.show()\n",
    "\n"
   ]
  },
  {
   "cell_type": "code",
   "execution_count": 116,
   "metadata": {},
   "outputs": [
    {
     "ename": "AttributeError",
     "evalue": "module 'plotly.express' has no attribute 'plot'",
     "output_type": "error",
     "traceback": [
      "\u001b[0;31m---------------------------------------------------------------------------\u001b[0m",
      "\u001b[0;31mAttributeError\u001b[0m                            Traceback (most recent call last)",
      "Cell \u001b[0;32mIn[116], line 1\u001b[0m\n\u001b[0;32m----> 1\u001b[0m fig \u001b[38;5;241m=\u001b[39m px\u001b[38;5;241m.\u001b[39mplot(x\u001b[38;5;241m=\u001b[39mx_new, y\u001b[38;5;241m=\u001b[39my_smooth, color\u001b[38;5;241m=\u001b[39mc_smooth)\n\u001b[1;32m      2\u001b[0m fig\u001b[38;5;241m.\u001b[39mshow()\n",
      "\u001b[0;31mAttributeError\u001b[0m: module 'plotly.express' has no attribute 'plot'"
     ]
    }
   ],
   "source": [
    "fig = px.plot(x=x_new, y=y_smooth, color=c_smooth)\n",
    "fig.show()"
   ]
  },
  {
   "cell_type": "code",
   "execution_count": null,
   "metadata": {},
   "outputs": [],
   "source": [
    "\n",
    "plt.plot (x_new,y_smooth)\n",
    "plt.scatter (x, y)\n"
   ]
  }
 ],
 "metadata": {
  "kernelspec": {
   "display_name": "feedback_env",
   "language": "python",
   "name": "python3"
  },
  "language_info": {
   "codemirror_mode": {
    "name": "ipython",
    "version": 3
   },
   "file_extension": ".py",
   "mimetype": "text/x-python",
   "name": "python",
   "nbconvert_exporter": "python",
   "pygments_lexer": "ipython3",
   "version": "3.11.7"
  }
 },
 "nbformat": 4,
 "nbformat_minor": 2
}
