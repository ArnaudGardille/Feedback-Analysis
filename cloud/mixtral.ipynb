{
 "cells": [
  {
   "cell_type": "code",
   "execution_count": 1,
   "metadata": {},
   "outputs": [
    {
     "data": {
      "text/plain": [
       "{'type': 'object',\n",
       " 'properties': {'title': {'type': 'string'},\n",
       "  'summary': {'type': 'string'},\n",
       "  'author': {'type': 'string'},\n",
       "  'published_year': {'type': 'integer'}},\n",
       " 'required': ['title', 'summary', 'author', 'published_year']}"
      ]
     },
     "execution_count": 1,
     "metadata": {},
     "output_type": "execute_result"
    }
   ],
   "source": [
    "from llm_core.schema import to_json_schema\n",
    "from dataclasses import dataclass\n",
    "from pydantic import BaseModel\n",
    "\n",
    "@dataclass\n",
    "class Book: #(BaseModel):\n",
    "    title: str\n",
    "    summary: str\n",
    "    author: str\n",
    "    published_year: int\n",
    "\n",
    "schema = to_json_schema(Book)\n",
    "schema"
   ]
  },
  {
   "cell_type": "code",
   "execution_count": 2,
   "metadata": {},
   "outputs": [
    {
     "name": "stderr",
     "output_type": "stream",
     "text": [
      "ggml_init_cublas: GGML_CUDA_FORCE_MMQ:   no\n",
      "ggml_init_cublas: CUDA_USE_TENSOR_CORES: yes\n",
      "ggml_init_cublas: found 1 CUDA devices:\n",
      "  Device 0: NVIDIA GeForce RTX 3090, compute capability 8.6, VMM: yes\n"
     ]
    },
    {
     "name": "stdout",
     "output_type": "stream",
     "text": [
      "Book(title='Foundation', summary='Foundation is a science fiction novel by Isaac Asimov. It is the first published in his Foundation Trilogy and tells the early story of the Foundation, an institute founded by psychohistorian Hari Seldon to preserve the best of galactic civilization after the collapse of the Galactic Empire.', author='Isaac Asimov', published_year=1951)\n"
     ]
    }
   ],
   "source": [
    "from llm_core.parsers import LLaMACPPParser\n",
    "model = \"mistral-7b-instruct-v0.1.Q5_K_M.gguf\"\n",
    "\n",
    "\n",
    "text = \"\"\"Foundation is a science fiction novel by American writer\n",
    "Isaac Asimov. It is the first published in his Foundation Trilogy (later\n",
    "expanded into the Foundation series). Foundation is a cycle of five\n",
    "interrelated short stories, first published as a single book by Gnome Press\n",
    "in 1951. Collectively they tell the early story of the Foundation,\n",
    "an institute founded by psychohistorian Hari Seldon to preserve the best\n",
    "of galactic civilization after the collapse of the Galactic Empire.\n",
    "\"\"\"\n",
    "\n",
    "with LLaMACPPParser(Book, model=model, n_gpu_layers=-1, ctx_size=0) as parser:\n",
    "    book = parser.parse(text)\n",
    "    print(book)"
   ]
  },
  {
   "cell_type": "code",
   "execution_count": 3,
   "metadata": {},
   "outputs": [],
   "source": [
    "#!/usr/bin/env python3\n",
    "import argparse\n",
    "import json\n",
    "import re\n",
    "import sys\n",
    "\n",
    "# whitespace is constrained to a single space char to prevent model \"running away\" in\n",
    "# whitespace. Also maybe improves generation quality?\n",
    "SPACE_RULE = '\" \"?'\n",
    "\n",
    "PRIMITIVE_RULES = {\n",
    "    'boolean': '(\"true\" | \"false\") space',\n",
    "    'number': '(\"-\"? ([0-9] | [1-9] [0-9]*)) (\".\" [0-9]+)? ([eE] [-+]? [0-9]+)? space',\n",
    "    'integer': '(\"-\"? ([0-9] | [1-9] [0-9]*)) space',\n",
    "    'string': r''' \"\\\"\" (\n",
    "        [^\"\\\\] |\n",
    "        \"\\\\\" ([\"\\\\/bfnrt] | \"u\" [0-9a-fA-F] [0-9a-fA-F] [0-9a-fA-F] [0-9a-fA-F])\n",
    "      )* \"\\\"\" space ''',\n",
    "    'null': '\"null\" space',\n",
    "}\n",
    "\n",
    "INVALID_RULE_CHARS_RE = re.compile(r'[^a-zA-Z0-9-]+')\n",
    "GRAMMAR_LITERAL_ESCAPE_RE = re.compile(r'[\\r\\n\"]')\n",
    "GRAMMAR_LITERAL_ESCAPES = {'\\r': '\\\\r', '\\n': '\\\\n', '\"': '\\\\\"'}\n",
    "\n",
    "\n",
    "class SchemaConverter:\n",
    "    def __init__(self, prop_order):\n",
    "        self._prop_order = prop_order\n",
    "        self._rules = {'space': SPACE_RULE}\n",
    "\n",
    "    def _format_literal(self, literal):\n",
    "        escaped = GRAMMAR_LITERAL_ESCAPE_RE.sub(\n",
    "            lambda m: GRAMMAR_LITERAL_ESCAPES.get(m.group(0)), json.dumps(literal)\n",
    "        )\n",
    "        return f'\"{escaped}\"'\n",
    "\n",
    "    def _add_rule(self, name, rule):\n",
    "        esc_name = INVALID_RULE_CHARS_RE.sub('-', name)\n",
    "        if esc_name not in self._rules or self._rules[esc_name] == rule:\n",
    "            key = esc_name\n",
    "        else:\n",
    "            i = 0\n",
    "            while f'{esc_name}{i}' in self._rules:\n",
    "                i += 1\n",
    "            key = f'{esc_name}{i}'\n",
    "        self._rules[key] = rule\n",
    "        return key\n",
    "\n",
    "    def visit(self, schema, name):\n",
    "        schema_type = schema.get('type')\n",
    "        rule_name = name or 'root'\n",
    "\n",
    "        if 'oneOf' in schema or 'anyOf' in schema:\n",
    "            rule = ' | '.join((\n",
    "                self.visit(alt_schema, f'{name}{\"-\" if name else \"\"}{i}')\n",
    "                for i, alt_schema in enumerate(schema.get('oneOf') or schema['anyOf'])\n",
    "            ))\n",
    "            return self._add_rule(rule_name, rule)\n",
    "\n",
    "        elif 'const' in schema:\n",
    "            return self._add_rule(rule_name, self._format_literal(schema['const']))\n",
    "\n",
    "        elif 'enum' in schema:\n",
    "            rule = ' | '.join((self._format_literal(v) for v in schema['enum']))\n",
    "            return self._add_rule(rule_name, rule)\n",
    "\n",
    "        elif schema_type == 'object' and 'properties' in schema:\n",
    "            # TODO: `required` keyword\n",
    "            prop_order = self._prop_order\n",
    "            prop_pairs = sorted(\n",
    "                schema['properties'].items(),\n",
    "                # sort by position in prop_order (if specified) then by key\n",
    "                key=lambda kv: (prop_order.get(kv[0], len(prop_order)), kv[0]),\n",
    "            )\n",
    "\n",
    "            rule = '\"{\" space'\n",
    "            for i, (prop_name, prop_schema) in enumerate(prop_pairs):\n",
    "                prop_rule_name = self.visit(prop_schema, f'{name}{\"-\" if name else \"\"}{prop_name}')\n",
    "                if i > 0:\n",
    "                    rule += ' \",\" space'\n",
    "                rule += fr' {self._format_literal(prop_name)} space \":\" space {prop_rule_name}'\n",
    "            rule += ' \"}\" space'\n",
    "\n",
    "            return self._add_rule(rule_name, rule)\n",
    "\n",
    "        elif schema_type == 'array' and 'items' in schema:\n",
    "            # TODO `prefixItems` keyword\n",
    "            item_rule_name = self.visit(schema['items'], f'{name}{\"-\" if name else \"\"}item')\n",
    "            rule = f'\"[\" space ({item_rule_name} (\",\" space {item_rule_name})*)? \"]\" space'\n",
    "            return self._add_rule(rule_name, rule)\n",
    "\n",
    "        else:\n",
    "            assert schema_type in PRIMITIVE_RULES, f'Unrecognized schema: {schema}'\n",
    "            return self._add_rule(\n",
    "                'root' if rule_name == 'root' else schema_type,\n",
    "                PRIMITIVE_RULES[schema_type]\n",
    "            )\n",
    "\n",
    "    def format_grammar(self):\n",
    "        return '\\n'.join((f'{name} ::= {rule}' for name, rule in self._rules.items()))\n",
    "\n"
   ]
  },
  {
   "cell_type": "code",
   "execution_count": 4,
   "metadata": {},
   "outputs": [],
   "source": [
    "def generate_grammar(schema):\n",
    "    converter = SchemaConverter({})\n",
    "    converter.visit(schema, '')\n",
    "    return converter.format_grammar()"
   ]
  },
  {
   "cell_type": "code",
   "execution_count": 5,
   "metadata": {},
   "outputs": [
    {
     "data": {
      "text/plain": [
       "'space ::= \" \"?\\nstring ::=  \"\\\\\"\" (\\n        [^\"\\\\\\\\] |\\n        \"\\\\\\\\\" ([\"\\\\\\\\/bfnrt] | \"u\" [0-9a-fA-F] [0-9a-fA-F] [0-9a-fA-F] [0-9a-fA-F])\\n      )* \"\\\\\"\" space \\ninteger ::= (\"-\"? ([0-9] | [1-9] [0-9]*)) space\\nroot ::= \"{\" space \"\\\\\"author\\\\\"\" space \":\" space string \",\" space \"\\\\\"published_year\\\\\"\" space \":\" space integer \",\" space \"\\\\\"summary\\\\\"\" space \":\" space string \",\" space \"\\\\\"title\\\\\"\" space \":\" space string \"}\" space'"
      ]
     },
     "execution_count": 5,
     "metadata": {},
     "output_type": "execute_result"
    }
   ],
   "source": [
    "generate_grammar(schema)"
   ]
  },
  {
   "cell_type": "code",
   "execution_count": 6,
   "metadata": {},
   "outputs": [],
   "source": [
    "import requests\n",
    "def parse(text, schema):\n",
    "    url = \"http://localhost:8080/completion\"\n",
    "    headers = {\"Content-Type\": \"application/json\"}\n",
    "    grammar = generate_grammar(schema)\n",
    "\n",
    "    prompt = f\"\"\"<s>[INST]\n",
    "    {text}\n",
    "    [/INST]\n",
    "    \"\"\"\n",
    "\n",
    "    data = {\n",
    "        \"prompt\": prompt,\n",
    "        \"n_predict\": 512,\n",
    "        \"temperature\": 0.1,\n",
    "        \"grammar\": grammar,\n",
    "    }\n",
    "    response = requests.post(url, headers=headers, json=data)\n",
    "    return json.loads(response.json()[\"content\"])"
   ]
  },
  {
   "cell_type": "code",
   "execution_count": 7,
   "metadata": {},
   "outputs": [
    {
     "name": "stdout",
     "output_type": "stream",
     "text": [
      "<Response [404]>\n"
     ]
    }
   ],
   "source": [
    "url = \"http://localhost:8080/chat/completion\"\n",
    "headers = {\"Content-Type\": \"application/json\"}\n",
    "grammar = generate_grammar(schema)\n",
    "\n",
    "prompt = f\"\"\"<s>[INST]./server -t 4 -ngl 16 -m /media/maitre/HDD1/Models/mistral-7b-instruct-v0.1.Q5_K_M.gguf -c 4096\n",
    "\"\"\"\n",
    "\n",
    "data = {\n",
    "    \"messages\":[{\"role\": \"user\", \"content\": str(prompt)}],\n",
    "    \"n_predict\": 512,\n",
    "    \"temperature\": 0.1,\n",
    "    \"grammar\": grammar,\n",
    "}\n",
    "response = requests.post(url, headers=headers, json=data)\n",
    "print(response)"
   ]
  },
  {
   "cell_type": "code",
   "execution_count": 8,
   "metadata": {},
   "outputs": [
    {
     "name": "stdout",
     "output_type": "stream",
     "text": [
      "{'author': 'Isaac Asimov', 'published_year': 1951, 'summary': 'Foundation is a science fiction novel by American writer Isaac Asimov. It is the first published in his Foundation Trilogy (later expanded into the Foundation series). Foundation is a cycle of five interrelated short stories, first published as a single book by Gnome Press in 1951. Collectively they tell the early story of the Foundation, an institute founded by psychohistorian Hari Seldon to preserve the best of galactic civilization after the collapse of the Galactic Empire.', 'title': 'Foundation'}\n"
     ]
    }
   ],
   "source": [
    "text = \"\"\"Foundation is a science fiction novel by American writer\n",
    "Isaac Asimov. It is the first published in his Foundation Trilogy (later\n",
    "expanded into the Foundation series). Foundation is a cycle of five\n",
    "interrelated short stories, first published as a single book by Gnome Press\n",
    "in 1951. Collectively they tell the early story of the Foundation,\n",
    "an institute founded by psychohistorian Hari Seldon to preserve the best\n",
    "of galactic civilization after the collapse of the Galactic Empire.\n",
    "\"\"\"\n",
    "\n",
    "@dataclass\n",
    "class Book: #(BaseModel):\n",
    "    title: str\n",
    "    summary: str\n",
    "    author: str\n",
    "    published_year: int\n",
    "\n",
    "    @classmethod\n",
    "    def schema(cls):\n",
    "        return to_json_schema(cls)\n",
    "\n",
    "\n",
    "data = parse(text, Book.schema())\n",
    "print(data)"
   ]
  },
  {
   "cell_type": "code",
   "execution_count": 9,
   "metadata": {},
   "outputs": [
    {
     "data": {
      "text/plain": [
       "Book(title='Foundation', summary='Foundation is a science fiction novel by American writer Isaac Asimov. It is the first published in his Foundation Trilogy (later expanded into the Foundation series). Foundation is a cycle of five interrelated short stories, first published as a single book by Gnome Press in 1951. Collectively they tell the early story of the Foundation, an institute founded by psychohistorian Hari Seldon to preserve the best of galactic civilization after the collapse of the Galactic Empire.', author='Isaac Asimov', published_year=1951)"
      ]
     },
     "execution_count": 9,
     "metadata": {},
     "output_type": "execute_result"
    }
   ],
   "source": [
    "Book(**data)"
   ]
  },
  {
   "cell_type": "code",
   "execution_count": 12,
   "metadata": {},
   "outputs": [
    {
     "name": "stdout",
     "output_type": "stream",
     "text": [
      "{'categories': ['Natural Language Processing', 'Summarization'], 'main_topic': 'Summary Generation', 'summary_in_50_words': 'This study investigates the tradeoff between informativeness and readability in summary generation. GPT-4 generates increasingly dense summaries using a Chain of Density (CoD) prompt, which leads to more abstractive, fused summaries with less lead bias. Human preference studies show that CoD summaries are preferred over vanilla prompts and almost as dense as human-written summaries.', 'title': 'Tradeoff between Informativeness and Readability in Summary Generation using GPT-4'}\n"
     ]
    }
   ],
   "source": [
    "from typing import List\n",
    "\n",
    "@dataclass\n",
    "class Publication: #(BaseModel):\n",
    "    title: str\n",
    "    main_topic: str\n",
    "    summary_in_50_words: str\n",
    "    categories: List[str]\n",
    "\n",
    "    @classmethod\n",
    "    def schema(cls):\n",
    "        return to_json_schema(cls)\n",
    "\n",
    "text = \"\"\"\n",
    "Abstract\n",
    "\n",
    "Selecting the “right” amount of information to include in a summary is\n",
    "a difficult task. A good summary should be detailed and entity-centric\n",
    "without being overly dense and hard to follow.\n",
    "\n",
    "To better understand this tradeoff, we solicit increasingly dense GPT-4\n",
    "summaries with what we refer to as a “Chain of Density” (CoD) prompt.\n",
    "\n",
    "Specifically, GPT-4 generates an initial entity- sparse summary before\n",
    "iteratively incorporating missing salient entities without increasing the\n",
    "length. Summaries generated by CoD are more abstractive, exhibit more\n",
    "fusion, and have less of a lead bias than GPT-4 summaries generated by\n",
    "a vanilla prompt.\n",
    "\n",
    "We conduct a human preference study on 100 CNN DailyMail articles and\n",
    "find that that humans prefer GPT-4 summaries that are more dense than\n",
    "those generated by a vanilla prompt and almost as dense as human\n",
    "written summaries.\n",
    "\n",
    "Qualitative analysis supports the notion that there exists a tradeoff between\n",
    "informativeness and readability. 500 annotated CoD summaries, as well as\n",
    "an extra 5,000 unannotated summaries, are freely available on HuggingFace.\n",
    "\"\"\"\n",
    "\n",
    "data = parse(text, Publication.schema())\n",
    "print(data)"
   ]
  },
  {
   "cell_type": "code",
   "execution_count": 13,
   "metadata": {},
   "outputs": [
    {
     "data": {
      "text/plain": [
       "Publication(title='Tradeoff between Informativeness and Readability in Summary Generation using GPT-4', main_topic='Summary Generation', summary_in_50_words='This study investigates the tradeoff between informativeness and readability in summary generation. GPT-4 generates increasingly dense summaries using a Chain of Density (CoD) prompt, which leads to more abstractive, fused summaries with less lead bias. Human preference studies show that CoD summaries are preferred over vanilla prompts and almost as dense as human-written summaries.', categories=['Natural Language Processing', 'Summarization'])"
      ]
     },
     "execution_count": 13,
     "metadata": {},
     "output_type": "execute_result"
    }
   ],
   "source": [
    "Publication(**data)"
   ]
  },
  {
   "cell_type": "code",
   "execution_count": null,
   "metadata": {},
   "outputs": [],
   "source": [
    "from llama_cpp import Llama\n",
    "llm = Llama(model_path=\"/media/maitre/HDD1/Models/mixtral-8x7b-instruct-v0.1.Q3_K_M.gguf\", chat_format=\"chatml\")\n",
    "llm.create_chat_completion(\n",
    "    messages=[\n",
    "        {\n",
    "            \"role\": \"system\",\n",
    "            \"content\": \"You are a helpful assistant that outputs in JSON.\",\n",
    "        },\n",
    "        {\"role\": \"user\", \"content\": \"Who won the world series in 2020\"},\n",
    "    ],\n",
    "    response_format={\n",
    "        \"type\": \"json_object\",\n",
    "        \"schema\": {\n",
    "            \"type\": \"object\",\n",
    "            \"properties\": {\"team_name\": {\"type\": \"string\"}},\n",
    "            \"required\": [\"team_name\"],\n",
    "        },\n",
    "    },\n",
    "    temperature=0.7,\n",
    ")"
   ]
  }
 ],
 "metadata": {
  "kernelspec": {
   "display_name": "feedback_env",
   "language": "python",
   "name": "python3"
  },
  "language_info": {
   "codemirror_mode": {
    "name": "ipython",
    "version": 3
   },
   "file_extension": ".py",
   "mimetype": "text/x-python",
   "name": "python",
   "nbconvert_exporter": "python",
   "pygments_lexer": "ipython3",
   "version": "3.11.7"
  }
 },
 "nbformat": 4,
 "nbformat_minor": 2
}
