{
 "cells": [
  {
   "cell_type": "code",
   "execution_count": 7,
   "metadata": {},
   "outputs": [],
   "source": [
    "from langchain_mistralai.chat_models import ChatMistralAI\n",
    "from openai import AsyncAzureOpenAI\n",
    "from openai import OpenAI, AsyncOpenAI\n",
    "import instructor\n",
    "\n",
    "import asyncio\n",
    "import nest_asyncio\n",
    "\n",
    "nest_asyncio.apply()\n",
    "\n",
    "client = OpenAI(\n",
    "    base_url=\"https://Mistral-large-vigie-ai-serverless.francecentral.inference.ai.azure.com/v1\", api_key=\"qe1IoBAEweX7bZ0vpneDFICf32UyaNTm\"\n",
    ")\n",
    "\n",
    "GENERATION_ENGINE = \"Mistral-large-vigie-ai\""
   ]
  },
  {
   "cell_type": "code",
   "execution_count": 5,
   "metadata": {},
   "outputs": [],
   "source": [
    "response = client.chat.completions.create(\n",
    "    messages=[\n",
    "        {\n",
    "            \"role\": \"user\",\n",
    "            \"content\": \"Who is the most renowned French painter? Provide a short answer.\",\n",
    "        }\n",
    "    ],\n",
    "    model=\"azureai\",\n",
    ")"
   ]
  },
  {
   "cell_type": "code",
   "execution_count": 6,
   "metadata": {},
   "outputs": [
    {
     "data": {
      "text/plain": [
       "ChatCompletion(id='3193971b-4550-4086-85ca-45266ec7fc6a', choices=[Choice(finish_reason='stop', index=0, logprobs=None, message=ChatCompletionMessage(content=' The most renowned French painter is widely considered to be Claude Monet, one of the founders of the Impressionist movement.', role='assistant', function_call=None, tool_calls=None))], created=252406, model='mistral-large', object='chat.completion', system_fingerprint=None, usage=CompletionUsage(completion_tokens=28, prompt_tokens=18, total_tokens=46))"
      ]
     },
     "execution_count": 6,
     "metadata": {},
     "output_type": "execute_result"
    }
   ],
   "source": [
    "response"
   ]
  },
  {
   "cell_type": "code",
   "execution_count": 8,
   "metadata": {},
   "outputs": [],
   "source": [
    "async def get_async_analysis(prompt, response_model):\n",
    "    response: response_model = await client.chat.completions.create(\n",
    "        messages=[\n",
    "            {\n",
    "                \"role\": \"system\",\n",
    "                \"content\": \"Tu est un assistant spélialisé dans l'analyse de commentaires, et qui ne renvoit que des fichiers JSON.\",\n",
    "            },\n",
    "            {\"role\": \"user\", \"content\": str(prompt)},\n",
    "        ],\n",
    "        response_format={\"type\": \"json_object\"},\n",
    "        model=GENERATION_ENGINE,\n",
    "        temperature=TEMPERATURE,\n",
    "        # max_retries=MAX_RETRIES,\n",
    "        response_model=response_model,\n",
    "    )\n",
    "    return response  # .choices[0].message.content\n",
    "\n",
    "def apply_async_analysis(prompts, response_models):\n",
    "    if not response_models.isinstance(list):\n",
    "    #if type(response_models) is not list:\n",
    "        response_models = [response_models for _ in prompts]\n",
    "    loop = asyncio.get_event_loop()\n",
    "    tasks = [\n",
    "        loop.create_task(get_async_analysis(prompt, response_model))\n",
    "        for (prompt, response_model) in zip(prompts, response_models)\n",
    "    ]\n",
    "    res = loop.run_until_complete(asyncio.gather(*tasks))\n",
    "    return res"
   ]
  }
 ],
 "metadata": {
  "kernelspec": {
   "display_name": "feedback_env",
   "language": "python",
   "name": "python3"
  },
  "language_info": {
   "codemirror_mode": {
    "name": "ipython",
    "version": 3
   },
   "file_extension": ".py",
   "mimetype": "text/x-python",
   "name": "python",
   "nbconvert_exporter": "python",
   "pygments_lexer": "ipython3",
   "version": "3.11.7"
  }
 },
 "nbformat": 4,
 "nbformat_minor": 2
}
