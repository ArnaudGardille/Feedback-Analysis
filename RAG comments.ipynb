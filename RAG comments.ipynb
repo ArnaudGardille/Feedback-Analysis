{
 "cells": [
  {
   "cell_type": "code",
   "execution_count": null,
   "metadata": {},
   "outputs": [],
   "source": [
    "from sentence_transformers import SentenceTransformer\n",
    "from cuml.manifold import UMAP\n",
    "from cuml.cluster import HDBSCAN\n",
    "import pickle"
   ]
  },
  {
   "cell_type": "code",
   "execution_count": null,
   "metadata": {},
   "outputs": [],
   "source": [
    "embedding_model = SentenceTransformer(\"intfloat/multilingual-e5-large-instruct\")\n"
   ]
  },
  {
   "cell_type": "code",
   "execution_count": null,
   "metadata": {},
   "outputs": [],
   "source": [
    "def get_detailed_instruct(task_description: str, query: str) -> str:\n",
    "    return f'Instruct: {task_description}\\nQuery: {query}'\n",
    "\n",
    "\n",
    "# Each query must come with a one-sentence instruction that describes the task\n",
    "task = 'Given a  query, retrieve relevant feedbacks'\n",
    "queries = [\n",
    "    get_detailed_instruct(task, \"What is the oppinion about Darty's marketplace?\"),\n",
    "    get_detailed_instruct(task, \"What could be improved with Darty's SAV?\")\n",
    "]\n",
    "\n",
    "input_texts = queries + list(docs)\n",
    "\n",
    "embeddings = embedding_model.encode(input_texts, convert_to_tensor=True, normalize_embeddings=True, show_progress_bar=True, batch_size=256)\n",
    "scores = (embeddings[:2] @ embeddings[2:].T) * 100\n",
    "print(scores.tolist())"
   ]
  }
 ],
 "metadata": {
  "language_info": {
   "name": "python"
  }
 },
 "nbformat": 4,
 "nbformat_minor": 2
}
