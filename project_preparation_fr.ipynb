{
 "cells": [
  {
   "cell_type": "code",
   "execution_count": 1,
   "metadata": {},
   "outputs": [
    {
     "name": "stdout",
     "output_type": "stream",
     "text": [
      "Retrieved company Darty : 1707313014508x102198350946437700\n",
      "Retrieved project Darty_trustpilot : 1707329196900x870734705097005300\n"
     ]
    }
   ],
   "source": [
    "import numpy as np\n",
    "import re\n",
    "import pandas as pd\n",
    "from tqdm.notebook import tqdm\n",
    "from datasets import load_dataset\n",
    "import umap\n",
    "import altair as alt\n",
    "from sklearn.metrics.pairwise import cosine_similarity\n",
    "from sentence_transformers import SentenceTransformer\n",
    "from typing import List\n",
    "import enum\n",
    "\n",
    "from langchain_community.llms import Ollama\n",
    "from langchain.output_parsers.regex_dict import RegexDictParser\n",
    "from langchain.output_parsers import PydanticOutputParser\n",
    "from langchain_core.messages import HumanMessage, SystemMessage, ChatMessage\n",
    "from langchain.prompts import ChatPromptTemplate, PromptTemplate\n",
    "from pydantic import BaseModel, Field, validator, create_model\n",
    "from openai import AsyncOpenAI, OpenAI\n",
    "import asyncio\n",
    "import os\n",
    "\n",
    "import requests\n",
    "import json\n",
    "\n",
    "import itertools\n",
    "from copy import deepcopy\n",
    "from tqdm.notebook import tqdm, trange\n",
    "from sklearn.cluster import KMeans\n",
    "\n",
    "import umap.umap_ as umap\n",
    "#import umap\n",
    "import hdbscan\n",
    "\n",
    "from typing import Literal, Union\n",
    "from pydantic.config import ConfigDict\n",
    "\n",
    "from src.models import *\n",
    "\n",
    "from src.utilities import *\n",
    "from src.bubble import *\n",
    "\n",
    "import openai\n",
    "import instructor"
   ]
  },
  {
   "cell_type": "code",
   "execution_count": 2,
   "metadata": {},
   "outputs": [],
   "source": [
    "prompts_path = \"Prompts/fr/\""
   ]
  },
  {
   "cell_type": "code",
   "execution_count": 5,
   "metadata": {},
   "outputs": [
    {
     "name": "stdout",
     "output_type": "stream",
     "text": [
      "Darty est une chaîne de magasins française spécialisée dans la distribution de matériel électroménager, de produits informatiques et audiovisuels (TV, audio, photo). Fondée en 1957, l'entreprise a évolué au fil des années, devenant un acteur majeur dans son secteur en France. Récemment, Darty a continué à se développer en renforçant sa présence en ligne et en élargissant son offre de services, notamment avec des options de livraison améliorées et des services après-vente étendus. Elle fait face à une concurrence accrue de la part de grandes enseignes telles que Boulanger, Fnac, et des géants du e-commerce comme Amazon. Darty s'efforce de maintenir sa position sur le marché en mettant l'accent sur la qualité de service et l'expérience client.\n"
     ]
    }
   ],
   "source": [
    "with open(prompts_path+'prompt_company_informations.txt') as f:\n",
    "    template = PromptTemplate.from_template(f.read())\n",
    "prompt_company_informations = template.invoke(context)\n",
    "\n",
    "class CompanyContext(BaseModel):\n",
    "    context: str = Field(description=\"Description du contexte de l'entreprise.\")\n",
    "\n",
    "    def __str__(self):\n",
    "        return self.context\n",
    "\n",
    "res = get_analysis(prompt_company_informations, CompanyContext)\n",
    "context['context'] = res.context\n",
    "print(res)"
   ]
  },
  {
   "cell_type": "code",
   "execution_count": 6,
   "metadata": {},
   "outputs": [],
   "source": [
    "async def get_async_analysis(prompt, response_model):\n",
    "    response: response_model = await client.chat.completions.create(\n",
    "        messages=[\n",
    "            {\"role\": \"system\", \"content\": \"Tu est un assistant spélialisé dans l'analyse de commentaires, et qui ne renvoit que des fichiers JSON.\"},\n",
    "            {\"role\": \"user\", \"content\": str(prompt)},\n",
    "        ],\n",
    "        response_format={ \"type\": \"json_object\" },\n",
    "        model=GENERATION_ENGINE,\n",
    "        temperature=TEMPERATURE,\n",
    "        #max_retries=MAX_RETRIES,\n",
    "        response_model=response_model,\n",
    "        )\n",
    "    return response #.choices[0].message.content\n",
    "\n",
    "def apply_async_analysis(prompts, response_models):\n",
    "    if type(response_models) is not list:\n",
    "        response_models = [response_models for _ in prompts]\n",
    "    loop = asyncio.get_event_loop()\n",
    "    tasks = [loop.create_task(get_async_analysis(prompt, response_model)) for (prompt, response_model) in zip(prompts, response_models)]\n",
    "    res =  loop.run_until_complete(asyncio.gather(*tasks))\n",
    "    return res\n",
    "\n",
    "def get_analysis(prompt, response_model):\n",
    "    return apply_async_analysis([prompt], response_model)[0]\n"
   ]
  },
  {
   "cell_type": "code",
   "execution_count": 9,
   "metadata": {},
   "outputs": [
    {
     "name": "stderr",
     "output_type": "stream",
     "text": [
      "Retrying, exception: 1 validation error for InsightCategories\n",
      "  Invalid JSON: control character (\\u0000-\\u001F) found while parsing a string at line 114 column 0 [type=json_invalid, input_value='{\\n  \"categories\": [\\n  ...n\\n\\n\\n\\n\\n\\n\\n\\n\\n\\n\\n', input_type=str]\n",
      "    For further information visit https://errors.pydantic.dev/2.6/v/json_invalid\n",
      "Traceback (most recent call last):\n",
      "  File \"/Users/gardille/opt/anaconda3/envs/feedback_env/lib/python3.11/site-packages/instructor/patch.py\", line 246, in retry_async\n",
      "    return await process_response_async(\n",
      "           ^^^^^^^^^^^^^^^^^^^^^^^^^^^^^\n",
      "  File \"/Users/gardille/opt/anaconda3/envs/feedback_env/lib/python3.11/site-packages/instructor/patch.py\", line 207, in process_response_async\n",
      "    model = await response_model.from_response_async(\n",
      "            ^^^^^^^^^^^^^^^^^^^^^^^^^^^^^^^^^^^^^^^^^\n",
      "  File \"/Users/gardille/opt/anaconda3/envs/feedback_env/lib/python3.11/site-packages/instructor/function_calls.py\", line 221, in from_response_async\n",
      "    return cls.model_validate_json(\n",
      "           ^^^^^^^^^^^^^^^^^^^^^^^^\n",
      "  File \"/Users/gardille/opt/anaconda3/envs/feedback_env/lib/python3.11/site-packages/pydantic/main.py\", line 538, in model_validate_json\n",
      "    return cls.__pydantic_validator__.validate_json(json_data, strict=strict, context=context)\n",
      "           ^^^^^^^^^^^^^^^^^^^^^^^^^^^^^^^^^^^^^^^^^^^^^^^^^^^^^^^^^^^^^^^^^^^^^^^^^^^^^^^^^^^\n",
      "pydantic_core._pydantic_core.ValidationError: 1 validation error for InsightCategories\n",
      "  Invalid JSON: control character (\\u0000-\\u001F) found while parsing a string at line 114 column 0 [type=json_invalid, input_value='{\\n  \"categories\": [\\n  ...n\\n\\n\\n\\n\\n\\n\\n\\n\\n\\n\\n', input_type=str]\n",
      "    For further information visit https://errors.pydantic.dev/2.6/v/json_invalid\n"
     ]
    },
    {
     "ename": "AttributeError",
     "evalue": "'InsightSubCategory' object has no attribute 'description'",
     "output_type": "error",
     "traceback": [
      "\u001b[0;31m---------------------------------------------------------------------------\u001b[0m",
      "\u001b[0;31mAttributeError\u001b[0m                            Traceback (most recent call last)",
      "Cell \u001b[0;32mIn[9], line 28\u001b[0m\n\u001b[1;32m     25\u001b[0m         \u001b[38;5;28;01mreturn\u001b[39;00m \u001b[38;5;124m'\u001b[39m\u001b[38;5;130;01m\\n\u001b[39;00m\u001b[38;5;130;01m\\n\u001b[39;00m\u001b[38;5;124m'\u001b[39m\u001b[38;5;241m.\u001b[39mjoin([\u001b[38;5;28mstr\u001b[39m(x) \u001b[38;5;28;01mfor\u001b[39;00m x \u001b[38;5;129;01min\u001b[39;00m \u001b[38;5;28mself\u001b[39m\u001b[38;5;241m.\u001b[39mcategories])\n\u001b[1;32m     27\u001b[0m res \u001b[38;5;241m=\u001b[39m get_analysis(prompt_categories_creation, InsightCategories)\n\u001b[0;32m---> 28\u001b[0m \u001b[38;5;28mprint\u001b[39m(res)\n",
      "Cell \u001b[0;32mIn[9], line 25\u001b[0m, in \u001b[0;36mInsightCategories.__str__\u001b[0;34m(self)\u001b[0m\n\u001b[1;32m     24\u001b[0m \u001b[38;5;28;01mdef\u001b[39;00m \u001b[38;5;21m__str__\u001b[39m(\u001b[38;5;28mself\u001b[39m):\n\u001b[0;32m---> 25\u001b[0m     \u001b[38;5;28;01mreturn\u001b[39;00m \u001b[38;5;124m'\u001b[39m\u001b[38;5;130;01m\\n\u001b[39;00m\u001b[38;5;130;01m\\n\u001b[39;00m\u001b[38;5;124m'\u001b[39m\u001b[38;5;241m.\u001b[39mjoin([\u001b[38;5;28mstr\u001b[39m(x) \u001b[38;5;28;01mfor\u001b[39;00m x \u001b[38;5;129;01min\u001b[39;00m \u001b[38;5;28mself\u001b[39m\u001b[38;5;241m.\u001b[39mcategories])\n",
      "Cell \u001b[0;32mIn[9], line 25\u001b[0m, in \u001b[0;36m<listcomp>\u001b[0;34m(.0)\u001b[0m\n\u001b[1;32m     24\u001b[0m \u001b[38;5;28;01mdef\u001b[39;00m \u001b[38;5;21m__str__\u001b[39m(\u001b[38;5;28mself\u001b[39m):\n\u001b[0;32m---> 25\u001b[0m     \u001b[38;5;28;01mreturn\u001b[39;00m \u001b[38;5;124m'\u001b[39m\u001b[38;5;130;01m\\n\u001b[39;00m\u001b[38;5;130;01m\\n\u001b[39;00m\u001b[38;5;124m'\u001b[39m\u001b[38;5;241m.\u001b[39mjoin([\u001b[38;5;28mstr\u001b[39m(x) \u001b[38;5;28;01mfor\u001b[39;00m x \u001b[38;5;129;01min\u001b[39;00m \u001b[38;5;28mself\u001b[39m\u001b[38;5;241m.\u001b[39mcategories])\n",
      "Cell \u001b[0;32mIn[9], line 19\u001b[0m, in \u001b[0;36mInsightCategory.__str__\u001b[0;34m(self)\u001b[0m\n\u001b[1;32m     18\u001b[0m \u001b[38;5;28;01mdef\u001b[39;00m \u001b[38;5;21m__str__\u001b[39m(\u001b[38;5;28mself\u001b[39m):\n\u001b[0;32m---> 19\u001b[0m     \u001b[38;5;28;01mreturn\u001b[39;00m \u001b[38;5;28mself\u001b[39m\u001b[38;5;241m.\u001b[39mname \u001b[38;5;241m+\u001b[39m \u001b[38;5;124m\"\u001b[39m\u001b[38;5;124m : \u001b[39m\u001b[38;5;124m\"\u001b[39m \u001b[38;5;241m+\u001b[39m \u001b[38;5;124m'\u001b[39m\u001b[38;5;124m'\u001b[39m\u001b[38;5;241m.\u001b[39mjoin([\u001b[38;5;28mstr\u001b[39m(x) \u001b[38;5;28;01mfor\u001b[39;00m x \u001b[38;5;129;01min\u001b[39;00m \u001b[38;5;28mself\u001b[39m\u001b[38;5;241m.\u001b[39msub_categories])\n",
      "Cell \u001b[0;32mIn[9], line 19\u001b[0m, in \u001b[0;36m<listcomp>\u001b[0;34m(.0)\u001b[0m\n\u001b[1;32m     18\u001b[0m \u001b[38;5;28;01mdef\u001b[39;00m \u001b[38;5;21m__str__\u001b[39m(\u001b[38;5;28mself\u001b[39m):\n\u001b[0;32m---> 19\u001b[0m     \u001b[38;5;28;01mreturn\u001b[39;00m \u001b[38;5;28mself\u001b[39m\u001b[38;5;241m.\u001b[39mname \u001b[38;5;241m+\u001b[39m \u001b[38;5;124m\"\u001b[39m\u001b[38;5;124m : \u001b[39m\u001b[38;5;124m\"\u001b[39m \u001b[38;5;241m+\u001b[39m \u001b[38;5;124m'\u001b[39m\u001b[38;5;124m'\u001b[39m\u001b[38;5;241m.\u001b[39mjoin([\u001b[38;5;28mstr\u001b[39m(x) \u001b[38;5;28;01mfor\u001b[39;00m x \u001b[38;5;129;01min\u001b[39;00m \u001b[38;5;28mself\u001b[39m\u001b[38;5;241m.\u001b[39msub_categories])\n",
      "Cell \u001b[0;32mIn[9], line 10\u001b[0m, in \u001b[0;36mInsightSubCategory.__str__\u001b[0;34m(self)\u001b[0m\n\u001b[1;32m      9\u001b[0m \u001b[38;5;28;01mdef\u001b[39;00m \u001b[38;5;21m__str__\u001b[39m(\u001b[38;5;28mself\u001b[39m):\n\u001b[0;32m---> 10\u001b[0m     \u001b[38;5;28;01mreturn\u001b[39;00m \u001b[38;5;124m'\u001b[39m\u001b[38;5;130;01m\\n\u001b[39;00m\u001b[38;5;124m- \u001b[39m\u001b[38;5;124m'\u001b[39m \u001b[38;5;241m+\u001b[39m \u001b[38;5;28mself\u001b[39m\u001b[38;5;241m.\u001b[39mname \u001b[38;5;241m+\u001b[39m \u001b[38;5;124m\"\u001b[39m\u001b[38;5;124m: \u001b[39m\u001b[38;5;124m\"\u001b[39m \u001b[38;5;241m+\u001b[39m \u001b[38;5;28mself\u001b[39m\u001b[38;5;241m.\u001b[39mdescription\n",
      "File \u001b[0;32m~/opt/anaconda3/envs/feedback_env/lib/python3.11/site-packages/pydantic/main.py:767\u001b[0m, in \u001b[0;36mBaseModel.__getattr__\u001b[0;34m(self, item)\u001b[0m\n\u001b[1;32m    764\u001b[0m     \u001b[38;5;28;01mreturn\u001b[39;00m \u001b[38;5;28msuper\u001b[39m()\u001b[38;5;241m.\u001b[39m\u001b[38;5;21m__getattribute__\u001b[39m(item)  \u001b[38;5;66;03m# Raises AttributeError if appropriate\u001b[39;00m\n\u001b[1;32m    765\u001b[0m \u001b[38;5;28;01melse\u001b[39;00m:\n\u001b[1;32m    766\u001b[0m     \u001b[38;5;66;03m# this is the current error\u001b[39;00m\n\u001b[0;32m--> 767\u001b[0m     \u001b[38;5;28;01mraise\u001b[39;00m \u001b[38;5;167;01mAttributeError\u001b[39;00m(\u001b[38;5;124mf\u001b[39m\u001b[38;5;124m'\u001b[39m\u001b[38;5;132;01m{\u001b[39;00m\u001b[38;5;28mtype\u001b[39m(\u001b[38;5;28mself\u001b[39m)\u001b[38;5;241m.\u001b[39m\u001b[38;5;18m__name__\u001b[39m\u001b[38;5;132;01m!r}\u001b[39;00m\u001b[38;5;124m object has no attribute \u001b[39m\u001b[38;5;132;01m{\u001b[39;00mitem\u001b[38;5;132;01m!r}\u001b[39;00m\u001b[38;5;124m'\u001b[39m)\n",
      "\u001b[0;31mAttributeError\u001b[0m: 'InsightSubCategory' object has no attribute 'description'"
     ]
    },
    {
     "name": "stderr",
     "output_type": "stream",
     "text": [
      "Retrying, exception: 1 validation error for InsightCategories\n",
      "  Invalid JSON: control character (\\u0000-\\u001F) found while parsing a string at line 114 column 0 [type=json_invalid, input_value='{\\n  \"categories\": [\\n  ...      }\\n      \\n      ', input_type=str]\n",
      "    For further information visit https://errors.pydantic.dev/2.6/v/json_invalid\n",
      "Traceback (most recent call last):\n",
      "  File \"/Users/gardille/opt/anaconda3/envs/feedback_env/lib/python3.11/site-packages/instructor/patch.py\", line 246, in retry_async\n",
      "    return await process_response_async(\n",
      "           ^^^^^^^^^^^^^^^^^^^^^^^^^^^^^\n",
      "  File \"/Users/gardille/opt/anaconda3/envs/feedback_env/lib/python3.11/site-packages/instructor/patch.py\", line 207, in process_response_async\n",
      "    model = await response_model.from_response_async(\n",
      "            ^^^^^^^^^^^^^^^^^^^^^^^^^^^^^^^^^^^^^^^^^\n",
      "  File \"/Users/gardille/opt/anaconda3/envs/feedback_env/lib/python3.11/site-packages/instructor/function_calls.py\", line 221, in from_response_async\n",
      "    return cls.model_validate_json(\n",
      "           ^^^^^^^^^^^^^^^^^^^^^^^^\n",
      "  File \"/Users/gardille/opt/anaconda3/envs/feedback_env/lib/python3.11/site-packages/pydantic/main.py\", line 538, in model_validate_json\n",
      "    return cls.__pydantic_validator__.validate_json(json_data, strict=strict, context=context)\n",
      "           ^^^^^^^^^^^^^^^^^^^^^^^^^^^^^^^^^^^^^^^^^^^^^^^^^^^^^^^^^^^^^^^^^^^^^^^^^^^^^^^^^^^\n",
      "pydantic_core._pydantic_core.ValidationError: 1 validation error for InsightCategories\n",
      "  Invalid JSON: control character (\\u0000-\\u001F) found while parsing a string at line 114 column 0 [type=json_invalid, input_value='{\\n  \"categories\": [\\n  ...      }\\n      \\n      ', input_type=str]\n",
      "    For further information visit https://errors.pydantic.dev/2.6/v/json_invalid\n"
     ]
    }
   ],
   "source": [
    "with open(prompts_path+'prompt_categories_creation.txt') as f:\n",
    "    template = PromptTemplate.from_template(f.read())\n",
    "prompt_categories_creation = template.invoke(context)\n",
    "\n",
    "class InsightSubCategory(BaseModel):\n",
    "    name: str = Field(description=\"Nom de la sous-catégorie.\")\n",
    "    #description: str = Field(description=\"Phrase de description de la sous-catégorie.\")\n",
    "    #id: str\n",
    "    def __str__(self):\n",
    "        return '\\n- ' + self.name #+ \": \" + self.description\n",
    "\n",
    "class InsightCategory(BaseModel):\n",
    "    name: str = Field(description=\"Nom de la catégorie.\")\n",
    "    #description: str = Field(description=\"Phrase de description de la catégorie.\")\n",
    "    sub_categories: List[InsightSubCategory] = Field(description=\"Sous-catégories.\")\n",
    "    #id: str\n",
    "\n",
    "    def __str__(self):\n",
    "        return self.name + \" : \" + ''.join([str(x) for x in self.sub_categories])\n",
    "\n",
    "class InsightCategories(BaseModel):\n",
    "    categories: List[InsightCategory] = Field(description=\"Liste des catégories parmi lesquels les insights pourront être classifiées.\")\n",
    "\n",
    "    def __str__(self):\n",
    "        return '\\n\\n'.join([str(x) for x in self.categories])\n",
    "\n",
    "res = get_analysis(prompt_categories_creation, InsightCategories)\n",
    "print(res)"
   ]
  },
  {
   "cell_type": "code",
   "execution_count": 11,
   "metadata": {},
   "outputs": [
    {
     "data": {
      "text/plain": [
       "[InsightCategory(name=\"Expérience d'achat\", sub_categories=[InsightSubCategory(name='Site Web', id='site_web'), InsightSubCategory(name='Magasin physique', id='magasin_physique'), InsightSubCategory(name='Processus de commande', id='processus_commande'), InsightSubCategory(name='Disponibilité des produits', id='disponibilite_produits')], id='experience_achat'),\n",
       " InsightCategory(name='Livraison', sub_categories=[InsightSubCategory(name='Délais de livraison', id='delais_livraison'), InsightSubCategory(name='Condition du colis', id='condition_colis'), InsightSubCategory(name='Suivi de livraison', id='suivi_livraison')], id='livraison'),\n",
       " InsightCategory(name='Produit', sub_categories=[InsightSubCategory(name='Conformité', id='conformite'), InsightSubCategory(name='Qualité', id='qualite'), InsightSubCategory(name='Installation et mise en service', id='installation_service')], id='produit'),\n",
       " InsightCategory(name='Service après-vente', sub_categories=[InsightSubCategory(name='Support technique', id='support_technique'), InsightSubCategory(name='Garantie et réparations', id='garantie_reparations'), InsightSubCategory(name='Retours et remboursements', id='retours_remboursements')], id='service_apres_vente'),\n",
       " InsightCategory(name='Expérience en magasin', sub_categories=[InsightSubCategory(name='Accueil et service client', id='accueil_service_client'), InsightSubCategory(name='Aménagement et accessibilité', id='amenagement_accessibilite'), InsightSubCategory(name='Conseils et expertise des vendeurs', id='conseils_expertise')], id='experience_magasin'),\n",
       " InsightCategory(name='Programmes de fidélité', sub_categories=[InsightSubCategory(name='Offres et promotions', id='offres_promotions'), InsightSubCategory(name='Avantages exclusifs', id='avantages_exclusifs'), InsightSubCategory(name='Gestion du compte fidélité', id='gestion_compte_fidelite')], id='programmes_fidelite'),\n",
       " InsightCategory(name='Image de marque', sub_categories=[InsightSubCategory(name=\"Perception de l'entreprise\", id='perception_entreprise'), InsightSubCategory(name='Responsabilité sociale et environnementale', id='responsabilite_sociale_environnementale'), InsightSubCategory(name='Comparaison avec la concurrence', id='comparaison_concurrence')], id='image_marque')]"
      ]
     },
     "execution_count": 11,
     "metadata": {},
     "output_type": "execute_result"
    }
   ],
   "source": [
    "res.categories"
   ]
  },
  {
   "cell_type": "code",
   "execution_count": null,
   "metadata": {},
   "outputs": [
    {
     "data": {
      "application/vnd.jupyter.widget-view+json": {
       "model_id": "60c43329087e4e9d8cefe6df153adc59",
       "version_major": 2,
       "version_minor": 0
      },
      "text/plain": [
       "  0%|          | 0/5 [00:00<?, ?it/s]"
      ]
     },
     "metadata": {},
     "output_type": "display_data"
    }
   ],
   "source": [
    "for categorie in tqdm(res.categories):\n",
    "    categorie.id = bubble_client.create(\n",
    "        \"Category\",\n",
    "        {\n",
    "            \"Company\": COMPANY_ID,\n",
    "            \"Name\": categorie.name,\n",
    "            \"Project\": PROJECT_ID,\n",
    "        })\n",
    "    \n",
    "    for sub_categorie in categorie.sub_categories:\n",
    "        sub_categorie.id = bubble_client.create(\n",
    "            \"SubCategory\",\n",
    "            {\n",
    "                \"Company\": COMPANY_ID,\n",
    "                \"Category\": categorie.id,\n",
    "                \"Name\": sub_categorie.name,\n",
    "                \"Project\": PROJECT_ID,\n",
    "                \"Description\": sub_categorie.description,\n",
    "            })"
   ]
  }
 ],
 "metadata": {
  "kernelspec": {
   "display_name": "feedback_env",
   "language": "python",
   "name": "python3"
  },
  "language_info": {
   "codemirror_mode": {
    "name": "ipython",
    "version": 3
   },
   "file_extension": ".py",
   "mimetype": "text/x-python",
   "name": "python",
   "nbconvert_exporter": "python",
   "pygments_lexer": "ipython3",
   "version": "3.11.7"
  }
 },
 "nbformat": 4,
 "nbformat_minor": 2
}
