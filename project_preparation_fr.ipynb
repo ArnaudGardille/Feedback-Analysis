{
 "cells": [
  {
   "cell_type": "code",
   "execution_count": 62,
   "metadata": {},
   "outputs": [],
   "source": [
    "import numpy as np\n",
    "import re\n",
    "import pandas as pd\n",
    "from tqdm.notebook import tqdm\n",
    "from datasets import load_dataset\n",
    "import umap\n",
    "import altair as alt\n",
    "from sklearn.metrics.pairwise import cosine_similarity\n",
    "from sentence_transformers import SentenceTransformer\n",
    "from typing import List\n",
    "import enum\n",
    "\n",
    "from langchain_community.llms import Ollama\n",
    "from langchain.output_parsers.regex_dict import RegexDictParser\n",
    "from langchain.output_parsers import PydanticOutputParser\n",
    "from langchain_core.messages import HumanMessage, SystemMessage, ChatMessage\n",
    "from langchain.prompts import ChatPromptTemplate, PromptTemplate\n",
    "from pydantic import BaseModel, Field, validator, create_model\n",
    "from openai import AsyncOpenAI, OpenAI\n",
    "import asyncio\n",
    "import os\n",
    "\n",
    "import requests\n",
    "import json\n",
    "\n",
    "import itertools\n",
    "from copy import deepcopy\n",
    "from tqdm.notebook import tqdm, trange\n",
    "from sklearn.cluster import KMeans\n",
    "\n",
    "import umap.umap_ as umap\n",
    "#import umap\n",
    "import hdbscan\n",
    "\n",
    "from typing import Literal, Union\n",
    "from pydantic.config import ConfigDict\n",
    "\n",
    "from src.models import *\n",
    "\n",
    "from src.utilities import *\n",
    "from src.bubble import *\n",
    "from typing import Tuple, List, Optional\n",
    "\n",
    "from bubble_api import Field as BubbelField\n",
    "\n",
    "import openai\n",
    "import instructor"
   ]
  },
  {
   "cell_type": "code",
   "execution_count": 2,
   "metadata": {},
   "outputs": [],
   "source": [
    "prompts_path = \"Prompts/fr/\""
   ]
  },
  {
   "cell_type": "code",
   "execution_count": 5,
   "metadata": {},
   "outputs": [
    {
     "name": "stdout",
     "output_type": "stream",
     "text": [
      "Je cherche a obtenir une description de l'entreprise Darty en restant aussi neutre que possible et en mettand l'accent sur les évènements récents. \n",
      "Cette description sera utilisé pour informer des gens en charge d'analyser les retours des clients de l'entreprise sur ces dernières années. \n",
      "Ne parle pas ce ce que les retours clients pourraient donner, afin de ne pas biaiser l'étude. \n",
      "\n",
      "tu devras me donner:\n",
      "- Une courte description de l'entreprise\n",
      "- La liste des évènement récents de l'entreprise, composés d'une date et d'une phrase de description.\n",
      "- La liste des principaux compétiteurs de l'entreprise.\n",
      "- La liste des principeux défis auquels fait face l'entreprise.\n",
      "\n"
     ]
    }
   ],
   "source": [
    "print(prompt_company_informations.text)"
   ]
  },
  {
   "cell_type": "code",
   "execution_count": 15,
   "metadata": {},
   "outputs": [
    {
     "name": "stdout",
     "output_type": "stream",
     "text": [
      "Description:\n",
      "desc\n",
      "\n",
      "Evènement récents:\n",
      "1900 : rien\n",
      "\n",
      "Concurrents:\n",
      "moi\n",
      "\n",
      "Défis:\n",
      "aucun\n"
     ]
    }
   ],
   "source": [
    "test = CompanyContext(description=\"desc\", recent_events=[(\"1900\", \"rien\")], competitors=[\"moi\"], challenges=['aucun'])\n",
    "print(str(test))"
   ]
  },
  {
   "cell_type": "code",
   "execution_count": 16,
   "metadata": {},
   "outputs": [
    {
     "data": {
      "text/plain": [
       "{'properties': {'description': {'description': \"Description de l'entreprise.\",\n",
       "   'title': 'Description',\n",
       "   'type': 'string'},\n",
       "  'recent_events': {'description': \"Liste des évènement récents de l'entreprise, avec leur date une phrase de description.\",\n",
       "   'items': {'maxItems': 2,\n",
       "    'minItems': 2,\n",
       "    'prefixItems': [{'type': 'string'}, {'type': 'string'}],\n",
       "    'type': 'array'},\n",
       "   'title': 'Recent Events',\n",
       "   'type': 'array'},\n",
       "  'competitors': {'description': \"Liste des principaux compétiteurs de l'entreprise.\",\n",
       "   'items': {'type': 'string'},\n",
       "   'title': 'Competitors',\n",
       "   'type': 'array'},\n",
       "  'challenges': {'description': \"Liste des défis auquels fait face l'entreprise.\",\n",
       "   'items': {'type': 'string'},\n",
       "   'title': 'Challenges',\n",
       "   'type': 'array'}},\n",
       " 'required': ['description', 'recent_events', 'competitors', 'challenges'],\n",
       " 'title': 'CompanyContext',\n",
       " 'type': 'object'}"
      ]
     },
     "execution_count": 16,
     "metadata": {},
     "output_type": "execute_result"
    }
   ],
   "source": [
    "test.model_json_schema()"
   ]
  },
  {
   "cell_type": "code",
   "execution_count": 17,
   "metadata": {},
   "outputs": [
    {
     "data": {
      "text/plain": [
       "Txt(rep='Bonjour')"
      ]
     },
     "execution_count": 17,
     "metadata": {},
     "output_type": "execute_result"
    }
   ],
   "source": [
    "class Txt(BaseModel):\n",
    "    rep: str\n",
    "\n",
    "get_analysis(\"Dis Bonjour\", Txt)"
   ]
  },
  {
   "cell_type": "code",
   "execution_count": 26,
   "metadata": {},
   "outputs": [
    {
     "name": "stdout",
     "output_type": "stream",
     "text": [
      "Description:\n",
      "desc\n",
      "\n",
      "Evènement récents:\n",
      "1900 : rien\n",
      "\n",
      "Concurrents:\n",
      "moi\n",
      "\n",
      "Défis:\n",
      "aucun\n"
     ]
    }
   ],
   "source": [
    "with open(prompts_path+'prompt_company_informations.txt') as f:\n",
    "    template = PromptTemplate.from_template(f.read())\n",
    "prompt_company_informations = template.invoke(context)\n",
    "\n",
    "class Event(BaseModel):\n",
    "    date: str\n",
    "    description: str\n",
    "\n",
    "class CompanyContext(BaseModel):\n",
    "    description: str = Field(description=\"Description de l'entreprise.\")\n",
    "    recent_events: List[Event] = Field(description=\"Liste des évènement récents de l'entreprise, avec leur date une phrase de description.\")\n",
    "    competitors: List[str] = Field(description=\"Liste des principaux compétiteurs de l'entreprise.\")\n",
    "    challenges: List[str] =  Field(description=\"Liste des défis auquels fait face l'entreprise.\")\n",
    "\n",
    "    def __str__(self):\n",
    "        return '\\n'.join([\"Description:\\n\"+self.description] + ['\\nEvènement récents:'] + [ev.date+' : '+ev.description for ev in self.recent_events] + ['\\nConcurrents:'] + self.competitors + ['\\nDéfis:'] + self.challenges)\n",
    "        #return '\\n'.join([\"Description:\\n\"+self.description] + ['\\nEvènements récents:'] +  self.recent_events + ['\\nConcurrents:'] + self.competitors + ['\\nDéfis:'] + self.challenges)\n",
    "\n",
    "test = CompanyContext(description=\"desc\", recent_events=[Event(date=\"1900\", description=\"rien\")], competitors=[\"moi\"], challenges=['aucun'])\n",
    "print(str(test))"
   ]
  },
  {
   "cell_type": "code",
   "execution_count": 27,
   "metadata": {},
   "outputs": [
    {
     "name": "stdout",
     "output_type": "stream",
     "text": [
      "Description:\n",
      "Darty est une chaîne de magasins française spécialisée dans la vente de matériel informatique, de téléviseurs, d'électroménager, de matériel audio et vidéo. Fondée en 1957, l'entreprise s'est développée pour devenir l'un des leaders du marché français dans son secteur. Darty est reconnue pour son service après-vente, symbolisé par le 'Contrat de Confiance' qui promet une assistance et des garanties étendues à ses clients.\n",
      "\n",
      "Evènement récents:\n",
      "2022-11 : Darty annonce un partenariat avec Google pour intégrer l'assistant vocal Google Assistant dans une gamme de produits électroménagers connectés.\n",
      "2023-02 : Lancement d'une nouvelle campagne publicitaire mettant en avant le recyclage des appareils électroniques et électroménagers en magasin.\n",
      "2023-03 : Ouverture d'un nouveau magasin phare à Paris, visant à offrir une expérience client améliorée avec des zones de démonstration interactives.\n",
      "\n",
      "Concurrents:\n",
      "Boulanger\n",
      "Fnac\n",
      "Conforama\n",
      "Amazon\n",
      "\n",
      "Défis:\n",
      "Adaptation aux nouvelles technologies et à la digitalisation du commerce.\n",
      "Concurrence accrue, notamment de la part des géants du e-commerce.\n",
      "Maintien de la qualité du service après-vente face à l'augmentation du volume de ventes.\n",
      "Gestion des impacts environnementaux liés à la production et au recyclage des appareils électroniques.\n"
     ]
    }
   ],
   "source": [
    "\n",
    "res = get_analysis(prompt_company_informations, CompanyContext)\n",
    "context['context'] = str(res)\n",
    "print(res)"
   ]
  },
  {
   "cell_type": "code",
   "execution_count": 42,
   "metadata": {},
   "outputs": [
    {
     "data": {
      "text/plain": [
       "\"Darty est une chaîne de magasins française spécialisée dans la vente de matériel informatique, de téléviseurs, d'électroménager, de matériel audio et vidéo. Fondée en 1957, l'entreprise s'est développée pour devenir l'un des leaders du marché français dans son secteur. Darty est reconnue pour son service après-vente, symbolisé par le 'Contrat de Confiance' qui promet une assistance et des garanties étendues à ses clients.\""
      ]
     },
     "execution_count": 42,
     "metadata": {},
     "output_type": "execute_result"
    }
   ],
   "source": [
    "res.description"
   ]
  },
  {
   "cell_type": "code",
   "execution_count": 39,
   "metadata": {},
   "outputs": [
    {
     "data": {
      "text/plain": [
       "{'company': 'Darty',\n",
       " 'project': 'Darty_trustpilot',\n",
       " 'context': \"Description:\\nDarty est une chaîne de magasins française spécialisée dans la vente de matériel informatique, de téléviseurs, d'électroménager, de matériel audio et vidéo. Fondée en 1957, l'entreprise s'est développée pour devenir l'un des leaders du marché français dans son secteur. Darty est reconnue pour son service après-vente, symbolisé par le 'Contrat de Confiance' qui promet une assistance et des garanties étendues à ses clients.\\n\\nEvènement récents:\\n2022-11 : Darty annonce un partenariat avec Google pour intégrer l'assistant vocal Google Assistant dans une gamme de produits électroménagers connectés.\\n2023-02 : Lancement d'une nouvelle campagne publicitaire mettant en avant le recyclage des appareils électroniques et électroménagers en magasin.\\n2023-03 : Ouverture d'un nouveau magasin phare à Paris, visant à offrir une expérience client améliorée avec des zones de démonstration interactives.\\n\\nConcurrents:\\nBoulanger\\nFnac\\nConforama\\nAmazon\\n\\nDéfis:\\nAdaptation aux nouvelles technologies et à la digitalisation du commerce.\\nConcurrence accrue, notamment de la part des géants du e-commerce.\\nMaintien de la qualité du service après-vente face à l'augmentation du volume de ventes.\\nGestion des impacts environnementaux liés à la production et au recyclage des appareils électroniques.\",\n",
       " 'site': 'www.darty.com',\n",
       " 'source': 'Trustpilot'}"
      ]
     },
     "execution_count": 39,
     "metadata": {},
     "output_type": "execute_result"
    }
   ],
   "source": [
    "context"
   ]
  },
  {
   "cell_type": "code",
   "execution_count": 46,
   "metadata": {},
   "outputs": [],
   "source": [
    "\n",
    "events_id = bubble_client.create(\"Event\", [{\"Date\":ev.date,  \"Description\": ev.description} for ev in res.recent_events])\n",
    "events_id = [x[\"id\"] for x in events_id]"
   ]
  },
  {
   "cell_type": "code",
   "execution_count": 50,
   "metadata": {},
   "outputs": [
    {
     "data": {
      "text/plain": [
       "{'Name': 'Darty',\n",
       " 'Challenges': ['Adaptation aux nouvelles technologies et à la digitalisation du commerce.',\n",
       "  'Concurrence accrue, notamment de la part des géants du e-commerce.',\n",
       "  \"Maintien de la qualité du service après-vente face à l'augmentation du volume de ventes.\",\n",
       "  'Gestion des impacts environnementaux liés à la production et au recyclage des appareils électroniques.'],\n",
       " 'Competitors': ['1708690119131x131761987332890350',\n",
       "  '1708690119774x319230027999086500',\n",
       "  '1708690120400x606675736475846400',\n",
       "  '1708690121015x200784996865734920'],\n",
       " 'Description': \"Darty est une chaîne de magasins française spécialisée dans la vente de matériel informatique, de téléviseurs, d'électroménager, de matériel audio et vidéo. Fondée en 1957, l'entreprise s'est développée pour devenir l'un des leaders du marché français dans son secteur. Darty est reconnue pour son service après-vente, symbolisé par le 'Contrat de Confiance' qui promet une assistance et des garanties étendues à ses clients.\",\n",
       " 'Recent events': ['1708690563579x706138009840244800',\n",
       "  '1708690563583x675493246692305400',\n",
       "  '1708690563588x137136862463011820'],\n",
       " 'website': 'www.Darty.com'}"
      ]
     },
     "execution_count": 50,
     "metadata": {},
     "output_type": "execute_result"
    }
   ],
   "source": [
    "\n",
    "competitors_id = []\n",
    "for competitor in res.competitors:\n",
    "    data = bubble_client.get(\"Company\", constraints= [BubbleField(\"Name\") == competitor])\n",
    "    if len(data)>0:\n",
    "        competitors_id.append(data[0][\"_id\"])\n",
    "    else:\n",
    "        competitors_id.append(bubble_client.create(\"Company\", {\"Name\": competitor,}))\n",
    "\n",
    "d = {\n",
    "    \"Name\": context[\"company\"],\n",
    "    \"Challenges\": res.challenges,\n",
    "    \"Competitors\": competitors_id,\n",
    "    \"Description\": res.description,\n",
    "    \"Recent events\": events_id,\n",
    "    \"website\": \"www.\"+context[\"company\"]+\".com\"\n",
    "}\n",
    "d\n",
    "#bubble_client.update_object(\"Company\", {\"Name\": competitor,})"
   ]
  },
  {
   "cell_type": "code",
   "execution_count": 53,
   "metadata": {},
   "outputs": [],
   "source": [
    "create_or_update(\"Company\", d)"
   ]
  },
  {
   "cell_type": "code",
   "execution_count": 81,
   "metadata": {},
   "outputs": [
    {
     "name": "stdout",
     "output_type": "stream",
     "text": [
      "Qualité des produits : Qualité de fabrication : Solidité et durabilitéFinitions et matériauxConformité aux normesFonctionnalité : Performances et efficacitéFacilité d'utilisationConvivialité et designDurabilité : Longévité du produitPièces détachées et réparabilitéGarantie et SAV\n",
      "\n",
      "Service client : Expérience en magasin : Accueil et conseilsPropreté et organisation du magasinGestion des files d'attenteProcessus de commande en ligne : Facilité de navigation et de rechercheSécurité et confidentialité des donnéesChoix de modes de paiement et de livraisonService de livraison : Délais de livraisonQualité de l'emballage et protection du produitFlexibilité et options de livraisonRetours et remboursements : Facilité et rapidité du processusRemboursement intégral ou échangeService client dédié aux retours et remboursementsSoutien technique : Disponibilité et accessibilitéQualité de l'assistanceSatisfaction client\n",
      "\n",
      "Prix : Comparaisons avec les concurrents : Prix du produitPromotions et offres spécialesRapport qualité-prixTransparence des prix : Affichage clair et précis du prixComparaison des prix et des optionsJustification du prix\n",
      "\n",
      "Réputation de la marque : Fiabilité : Respect des garantiesImage de la marqueConfiance des clientsEngagement et responsabilité : Respect des normes et des réglementationsDéveloppement durable et éthique\n"
     ]
    }
   ],
   "source": [
    "with open(prompts_path+'prompt_categories_creation_example.txt') as f:\n",
    "    template = PromptTemplate.from_template(f.read())\n",
    "prompt_categories_creation = template.invoke(context)\n",
    "\n",
    "\n",
    "\n",
    "class InsightCategory(BaseModel):\n",
    "    name: str = Field(description=\"Nom de la catégorie.\")\n",
    "    sub_categories: Optional[List['InsightCategory']] = Field(default=None, description=\"Liste des éventuelles sous-catégories.\")\n",
    "    \n",
    "    def __str__(self):\n",
    "        if self.sub_categories is not None:\n",
    "            return self.name + \" : \\n\" + '\\n'.join([str(x) for x in self.sub_categories])\n",
    "        else:\n",
    "            return self.name\n",
    "        \n",
    "InsightCategory.model_rebuild()\n",
    "\n",
    "class ListInsightCategories(BaseModel):\n",
    "    categories: List[InsightCategory] = Field(description=\"Liste des catégories parmi lesquels les insights pourront être classifiées.\")\n",
    "\n",
    "    def __str__(self):\n",
    "        return '\\n\\n'.join([str(x) for x in self.categories])\n",
    "\n",
    "res = get_analysis(prompt_categories_creation, ListInsightCategories)\n",
    "print(res)"
   ]
  },
  {
   "cell_type": "code",
   "execution_count": 87,
   "metadata": {},
   "outputs": [
    {
     "data": {
      "application/vnd.jupyter.widget-view+json": {
       "model_id": "649ee7f4c6794f9daca7f5d82112e02b",
       "version_major": 2,
       "version_minor": 0
      },
      "text/plain": [
       "  0%|          | 0/4 [00:00<?, ?it/s]"
      ]
     },
     "metadata": {},
     "output_type": "display_data"
    }
   ],
   "source": [
    "def send_categorie(categorie, parents=[], level=1):\n",
    "    \n",
    "    bubble_id = bubble_client.create(\n",
    "        \"Category\",\n",
    "        {\n",
    "            \"Company\": COMPANY_ID,\n",
    "            \"Name\": categorie.name,\n",
    "            \"Project\": PROJECT_ID,\n",
    "            \"Parents\": parents,\n",
    "            \"Level\": level,\n",
    "        })\n",
    "\n",
    "    childrens_id = []\n",
    "    if categorie.sub_categories is not None:\n",
    "        for sub_categorie in categorie.sub_categories:\n",
    "            childrens_id.append(send_categorie(sub_categorie, parents=parents+[bubble_id], level=level+1))\n",
    "\n",
    "    bubble_client.update_object(\"Category\", bubble_id, {\"Childrens\": childrens_id})\n",
    "\n",
    "    return bubble_id\n",
    "    \n",
    "for categorie in tqdm(res.categories):\n",
    "    send_categorie(categorie, parents=[], level=1)"
   ]
  }
 ],
 "metadata": {
  "kernelspec": {
   "display_name": "feedback_env",
   "language": "python",
   "name": "python3"
  },
  "language_info": {
   "codemirror_mode": {
    "name": "ipython",
    "version": 3
   },
   "file_extension": ".py",
   "mimetype": "text/x-python",
   "name": "python",
   "nbconvert_exporter": "python",
   "pygments_lexer": "ipython3",
   "version": "3.11.7"
  }
 },
 "nbformat": 4,
 "nbformat_minor": 2
}
