{
 "cells": [
  {
   "cell_type": "code",
   "execution_count": 1,
   "metadata": {},
   "outputs": [
    {
     "name": "stdout",
     "output_type": "stream",
     "text": [
      "Retrieved company Darty : 1707313014508x102198350946437700\n",
      "Retrieved project Darty_trustpilot : 1707329196900x870734705097005300\n"
     ]
    }
   ],
   "source": [
    "import numpy as np\n",
    "import re\n",
    "import pandas as pd\n",
    "from tqdm.notebook import tqdm\n",
    "from datasets import load_dataset\n",
    "import umap\n",
    "import altair as alt\n",
    "from sklearn.metrics.pairwise import cosine_similarity\n",
    "from sentence_transformers import SentenceTransformer\n",
    "from typing import List\n",
    "import enum\n",
    "\n",
    "from langchain_community.llms import Ollama\n",
    "from langchain.output_parsers.regex_dict import RegexDictParser\n",
    "from langchain.output_parsers import PydanticOutputParser\n",
    "from langchain_core.messages import HumanMessage, SystemMessage, ChatMessage\n",
    "from langchain.prompts import ChatPromptTemplate, PromptTemplate\n",
    "from pydantic import BaseModel, Field, validator, create_model\n",
    "from openai import AsyncOpenAI, OpenAI\n",
    "import asyncio\n",
    "import os\n",
    "\n",
    "import requests\n",
    "import json\n",
    "\n",
    "import itertools\n",
    "from copy import deepcopy\n",
    "from tqdm.notebook import tqdm, trange\n",
    "from sklearn.cluster import KMeans\n",
    "\n",
    "import umap.umap_ as umap\n",
    "#import umap\n",
    "import hdbscan\n",
    "\n",
    "from typing import Literal, Union\n",
    "from pydantic.config import ConfigDict\n",
    "\n",
    "from src.models import *\n",
    "\n",
    "from src.utilities import *\n",
    "from src.bubble import *\n",
    "\n",
    "import openai\n",
    "import instructor"
   ]
  },
  {
   "cell_type": "code",
   "execution_count": 2,
   "metadata": {},
   "outputs": [],
   "source": [
    "prompts_path = \"Prompts/fr/\""
   ]
  },
  {
   "cell_type": "markdown",
   "metadata": {},
   "source": [
    "# Company informations"
   ]
  },
  {
   "cell_type": "code",
   "execution_count": 5,
   "metadata": {},
   "outputs": [
    {
     "name": "stdout",
     "output_type": "stream",
     "text": [
      "Darty est une chaîne de magasins française spécialisée dans la distribution de matériel électroménager, de produits informatiques et audiovisuels (TV, audio, photo). Fondée en 1957, l'entreprise a évolué au fil des années, devenant un acteur majeur dans son secteur en France. Récemment, Darty a continué à se développer en renforçant sa présence en ligne et en élargissant son offre de services, notamment avec des options de livraison améliorées et des services après-vente étendus. Elle fait face à une concurrence accrue de la part de grandes enseignes telles que Boulanger, Fnac, et des géants du e-commerce comme Amazon. Darty s'efforce de maintenir sa position sur le marché en mettant l'accent sur la qualité de service et l'expérience client.\n"
     ]
    }
   ],
   "source": [
    "with open(prompts_path+'prompt_company_informations.txt') as f:\n",
    "    template = PromptTemplate.from_template(f.read())\n",
    "prompt_company_informations = template.invoke(context)\n",
    "\n",
    "class CompanyContext(BaseModel):\n",
    "    context: str = Field(description=\"Description du contexte de l'entreprise.\")\n",
    "\n",
    "    def __str__(self):\n",
    "        return self.context\n",
    "\n",
    "res = get_analysis(prompt_company_informations, CompanyContext)\n",
    "context['context'] = res.context\n",
    "print(res)"
   ]
  },
  {
   "cell_type": "markdown",
   "metadata": {},
   "source": [
    "# Categories creation"
   ]
  },
  {
   "cell_type": "code",
   "execution_count": 5,
   "metadata": {},
   "outputs": [
    {
     "name": "stdout",
     "output_type": "stream",
     "text": [
      "Service Client : \n",
      "- Accueil\n",
      "- Conseil\n",
      "- Support Technique\n",
      "- Réclamation\n",
      "- Suivi de Commande\n",
      "\n",
      "Produits : \n",
      "- Qualité\n",
      "- Disponibilité\n",
      "- Variété\n",
      "- Innovation\n",
      "- Prix\n",
      "\n",
      "Expérience d'Achat : \n",
      "- Processus de Commande\n",
      "- Livraison\n",
      "- Retour et Remboursement\n",
      "- Promotions et Offres\n",
      "- Paiement\n",
      "\n",
      "Magasins et Installations : \n",
      "- Propreté\n",
      "- Accessibilité\n",
      "- Aménagement\n",
      "- Sécurité\n",
      "- Horaires d'Ouverture\n",
      "\n",
      "Site Web et Application Mobile : \n",
      "- Facilité d'Utilisation\n",
      "- Fonctionnalités\n",
      "- Performance\n",
      "- Sécurité\n",
      "- Contenu\n"
     ]
    }
   ],
   "source": [
    "with open(prompts_path+'prompt_categories_creation.txt') as f:\n",
    "    template = PromptTemplate.from_template(f.read())\n",
    "prompt_categories_creation = template.invoke(context)\n",
    "\n",
    "class InsightSubCategory(BaseModel):\n",
    "    name: str = Field(description=\"Nom de la sous-catégorie.\")\n",
    "    #description: str = Field(description=\"Phrase de description de la sous-catégorie.\")\n",
    "    id: str\n",
    "    def __str__(self):\n",
    "        return '\\n- ' + self.name #+ \": \" + self.description\n",
    "\n",
    "class InsightCategory(BaseModel):\n",
    "    name: str = Field(description=\"Nom de la catégorie.\")\n",
    "    #description: str = Field(description=\"Phrase de description de la catégorie.\")\n",
    "    sub_categories: List[InsightSubCategory] = Field(description=\"Sous-catégories.\")\n",
    "    id: str\n",
    "\n",
    "    def __str__(self):\n",
    "        return self.name + \" : \" + ''.join([str(x) for x in self.sub_categories])\n",
    "\n",
    "class InsightCategories(BaseModel):\n",
    "    categories: List[InsightCategory] = Field(description=\"Liste des catégories parmi lesquels les insights pourront être classifiées.\")\n",
    "\n",
    "    def __str__(self):\n",
    "        return '\\n\\n'.join([str(x) for x in self.categories])\n",
    "\n",
    "res = get_analysis(prompt_categories_creation, InsightCategories)\n",
    "print(res)"
   ]
  },
  {
   "cell_type": "code",
   "execution_count": 9,
   "metadata": {},
   "outputs": [
    {
     "data": {
      "text/plain": [
       "[InsightCategory(name='Service Client', sub_categories=[InsightSubCategory(name='Accueil', id='1709742742758x904820259611806200'), InsightSubCategory(name='Conseil', id='1709742743194x267746950762261400'), InsightSubCategory(name='Support Technique', id='1709742743517x677944177104193000'), InsightSubCategory(name='Réclamation', id='1709742744160x406692257925758340'), InsightSubCategory(name='Suivi de Commande', id='1709742744490x120076632946914740')], id='1709742742431x183195198882836400'),\n",
       " InsightCategory(name='Produits', sub_categories=[InsightSubCategory(name='Qualité', id='1709742745544x943993500287889700'), InsightSubCategory(name='Disponibilité', id='1709742745853x405277061670714900'), InsightSubCategory(name='Variété', id='1709742746192x789697875218370600'), InsightSubCategory(name='Innovation', id='1709742746529x875603581429965800'), InsightSubCategory(name='Prix', id='1709742747167x724896519283476000')], id='1709742745125x814860238467315300'),\n",
       " InsightCategory(name=\"Expérience d'Achat\", sub_categories=[InsightSubCategory(name='Processus de Commande', id='1709742747773x649525464936908600'), InsightSubCategory(name='Livraison', id='1709742748060x275378347955592030'), InsightSubCategory(name='Retour et Remboursement', id='1709742748794x896899225948522600'), InsightSubCategory(name='Promotions et Offres', id='1709742749414x934457769533680900'), InsightSubCategory(name='Paiement', id='1709742749742x619292695069292300')], id='1709742747467x275881292503140200'),\n",
       " InsightCategory(name='Magasins et Installations', sub_categories=[InsightSubCategory(name='Propreté', id='1709742750714x366845004031344700'), InsightSubCategory(name='Accessibilité', id='1709742751026x590511187913023400'), InsightSubCategory(name='Aménagement', id='1709742751373x628190997403264300'), InsightSubCategory(name='Sécurité', id='1709742751671x370784098959439740'), InsightSubCategory(name=\"Horaires d'Ouverture\", id='1709742752021x439662496801574500')], id='1709742750403x759007073189384000'),\n",
       " InsightCategory(name='Site Web et Application Mobile', sub_categories=[InsightSubCategory(name=\"Facilité d'Utilisation\", id='1709742752653x391575418910008450'), InsightSubCategory(name='Fonctionnalités', id='1709742752964x515356091059756540'), InsightSubCategory(name='Performance', id='1709742753590x161091186838626660'), InsightSubCategory(name='Sécurité', id='1709742754285x686944558039668500'), InsightSubCategory(name='Contenu', id='1709742754787x973227434301071600')], id='1709742752331x861248055307146400')]"
      ]
     },
     "execution_count": 9,
     "metadata": {},
     "output_type": "execute_result"
    }
   ],
   "source": [
    "res.categories"
   ]
  },
  {
   "cell_type": "code",
   "execution_count": 20,
   "metadata": {},
   "outputs": [
    {
     "data": {
      "text/plain": [
       "InsightCategory(name='', sub_categories=[InsightSubCategory(name='', id='')], id='')"
      ]
     },
     "execution_count": 20,
     "metadata": {},
     "output_type": "execute_result"
    }
   ],
   "source": [
    "InsightCategory(name=\"\", sub_categories=[InsightSubCategory(name=\"\", id=\"\")], id=\"\")"
   ]
  },
  {
   "cell_type": "code",
   "execution_count": 23,
   "metadata": {},
   "outputs": [
    {
     "data": {
      "text/plain": [
       "[InsightCategory(name='Service Client', sub_categories=[InsightSubCategory(name='Accueil', id='1709742742758x904820259611806200'), InsightSubCategory(name='Conseil', id='1709742743194x267746950762261400'), InsightSubCategory(name='Support Technique', id='1709742743517x677944177104193000'), InsightSubCategory(name='Réclamation', id='1709742744160x406692257925758340'), InsightSubCategory(name='Suivi de Commande', id='1709742744490x120076632946914740')], id='1709742742431x183195198882836400'),\n",
       " InsightCategory(name='Produits', sub_categories=[InsightSubCategory(name='Qualité', id='1709742745544x943993500287889700'), InsightSubCategory(name='Disponibilité', id='1709742745853x405277061670714900'), InsightSubCategory(name='Variété', id='1709742746192x789697875218370600'), InsightSubCategory(name='Innovation', id='1709742746529x875603581429965800'), InsightSubCategory(name='Prix', id='1709742747167x724896519283476000')], id='1709742745125x814860238467315300'),\n",
       " InsightCategory(name=\"Expérience d'Achat\", sub_categories=[InsightSubCategory(name='Processus de Commande', id='1709742747773x649525464936908600'), InsightSubCategory(name='Livraison', id='1709742748060x275378347955592030'), InsightSubCategory(name='Retour et Remboursement', id='1709742748794x896899225948522600'), InsightSubCategory(name='Promotions et Offres', id='1709742749414x934457769533680900'), InsightSubCategory(name='Paiement', id='1709742749742x619292695069292300')], id='1709742747467x275881292503140200'),\n",
       " InsightCategory(name='Magasins et Installations', sub_categories=[InsightSubCategory(name='Propreté', id='1709742750714x366845004031344700'), InsightSubCategory(name='Accessibilité', id='1709742751026x590511187913023400'), InsightSubCategory(name='Aménagement', id='1709742751373x628190997403264300'), InsightSubCategory(name='Sécurité', id='1709742751671x370784098959439740'), InsightSubCategory(name=\"Horaires d'Ouverture\", id='1709742752021x439662496801574500')], id='1709742750403x759007073189384000'),\n",
       " InsightCategory(name='Site Web et Application Mobile', sub_categories=[InsightSubCategory(name=\"Facilité d'Utilisation\", id='1709742752653x391575418910008450'), InsightSubCategory(name='Fonctionnalités', id='1709742752964x515356091059756540'), InsightSubCategory(name='Performance', id='1709742753590x161091186838626660'), InsightSubCategory(name='Sécurité', id='1709742754285x686944558039668500'), InsightSubCategory(name='Contenu', id='1709742754787x973227434301071600')], id='1709742752331x861248055307146400'),\n",
       " InsightCategory(name='', sub_categories=[InsightSubCategory(name='', id='')], id='')]"
      ]
     },
     "execution_count": 23,
     "metadata": {},
     "output_type": "execute_result"
    }
   ],
   "source": [
    "[res.categories]"
   ]
  },
  {
   "cell_type": "code",
   "execution_count": 29,
   "metadata": {},
   "outputs": [
    {
     "data": {
      "text/plain": [
       "[InsightCategory(name='Service Client', sub_categories=[InsightSubCategory(name='Accueil', id='1709742742758x904820259611806200'), InsightSubCategory(name='Conseil', id='1709742743194x267746950762261400'), InsightSubCategory(name='Support Technique', id='1709742743517x677944177104193000'), InsightSubCategory(name='Réclamation', id='1709742744160x406692257925758340'), InsightSubCategory(name='Suivi de Commande', id='1709742744490x120076632946914740'), InsightSubCategory(name='', id='')], id='1709742742431x183195198882836400'),\n",
       " InsightCategory(name='Produits', sub_categories=[InsightSubCategory(name='Qualité', id='1709742745544x943993500287889700'), InsightSubCategory(name='Disponibilité', id='1709742745853x405277061670714900'), InsightSubCategory(name='Variété', id='1709742746192x789697875218370600'), InsightSubCategory(name='Innovation', id='1709742746529x875603581429965800'), InsightSubCategory(name='Prix', id='1709742747167x724896519283476000'), InsightSubCategory(name='', id='')], id='1709742745125x814860238467315300'),\n",
       " InsightCategory(name=\"Expérience d'Achat\", sub_categories=[InsightSubCategory(name='Processus de Commande', id='1709742747773x649525464936908600'), InsightSubCategory(name='Livraison', id='1709742748060x275378347955592030'), InsightSubCategory(name='Retour et Remboursement', id='1709742748794x896899225948522600'), InsightSubCategory(name='Promotions et Offres', id='1709742749414x934457769533680900'), InsightSubCategory(name='Paiement', id='1709742749742x619292695069292300'), InsightSubCategory(name='', id='')], id='1709742747467x275881292503140200'),\n",
       " InsightCategory(name='Magasins et Installations', sub_categories=[InsightSubCategory(name='Propreté', id='1709742750714x366845004031344700'), InsightSubCategory(name='Accessibilité', id='1709742751026x590511187913023400'), InsightSubCategory(name='Aménagement', id='1709742751373x628190997403264300'), InsightSubCategory(name='Sécurité', id='1709742751671x370784098959439740'), InsightSubCategory(name=\"Horaires d'Ouverture\", id='1709742752021x439662496801574500'), InsightSubCategory(name='', id='')], id='1709742750403x759007073189384000'),\n",
       " InsightCategory(name='Site Web et Application Mobile', sub_categories=[InsightSubCategory(name=\"Facilité d'Utilisation\", id='1709742752653x391575418910008450'), InsightSubCategory(name='Fonctionnalités', id='1709742752964x515356091059756540'), InsightSubCategory(name='Performance', id='1709742753590x161091186838626660'), InsightSubCategory(name='Sécurité', id='1709742754285x686944558039668500'), InsightSubCategory(name='Contenu', id='1709742754787x973227434301071600'), InsightSubCategory(name='', id='')], id='1709742752331x861248055307146400'),\n",
       " InsightCategory(name='', sub_categories=[InsightSubCategory(name='', id=''), InsightSubCategory(name='', id='')], id='')]"
      ]
     },
     "execution_count": 29,
     "metadata": {},
     "output_type": "execute_result"
    }
   ],
   "source": [
    "res.categories"
   ]
  },
  {
   "cell_type": "code",
   "execution_count": 28,
   "metadata": {},
   "outputs": [],
   "source": [
    "res.categories.append(InsightCategory(name=\"\", sub_categories=[InsightSubCategory(name=\"\", id=\"\")], id=\"\"))\n",
    "for categ in res.categories:\n",
    "    categ.sub_categories.append(InsightSubCategory(name=\"\", id=\"\"))"
   ]
  },
  {
   "cell_type": "code",
   "execution_count": 30,
   "metadata": {},
   "outputs": [
    {
     "data": {
      "application/vnd.jupyter.widget-view+json": {
       "model_id": "2e07ea2e2455472f9152f3b92076d26f",
       "version_major": 2,
       "version_minor": 0
      },
      "text/plain": [
       "  0%|          | 0/6 [00:00<?, ?it/s]"
      ]
     },
     "metadata": {},
     "output_type": "display_data"
    }
   ],
   "source": [
    "for categorie in tqdm(res.categories):\n",
    "    categorie.id = bubble_client.create(\n",
    "        \"Category\",\n",
    "        {\n",
    "            \"Company\": COMPANY_ID,\n",
    "            \"Name\": categorie.name,\n",
    "            \"Project\": PROJECT_ID,\n",
    "        })\n",
    "    \n",
    "    for sub_categorie in categorie.sub_categories:\n",
    "        sub_categorie.id = bubble_client.create(\n",
    "            \"SubCategory\",\n",
    "            {\n",
    "                \"Company\": COMPANY_ID,\n",
    "                \"Category\": categorie.id,\n",
    "                \"Name\": sub_categorie.name,\n",
    "                \"Project\": PROJECT_ID,\n",
    "                #\"Description\": sub_categorie.description,\n",
    "            })"
   ]
  }
 ],
 "metadata": {
  "kernelspec": {
   "display_name": "feedback_env",
   "language": "python",
   "name": "python3"
  },
  "language_info": {
   "codemirror_mode": {
    "name": "ipython",
    "version": 3
   },
   "file_extension": ".py",
   "mimetype": "text/x-python",
   "name": "python",
   "nbconvert_exporter": "python",
   "pygments_lexer": "ipython3",
   "version": "3.11.7"
  }
 },
 "nbformat": 4,
 "nbformat_minor": 2
}
