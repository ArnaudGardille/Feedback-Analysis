{
 "cells": [
  {
   "cell_type": "code",
   "execution_count": 3,
   "metadata": {},
   "outputs": [],
   "source": [
    "import numpy as np\n",
    "import re\n",
    "import pandas as pd\n",
    "from tqdm.notebook import tqdm\n",
    "from datasets import load_dataset\n",
    "import umap\n",
    "import altair as alt\n",
    "from sklearn.metrics.pairwise import cosine_similarity\n",
    "from sentence_transformers import SentenceTransformer\n",
    "from typing import List\n",
    "import enum\n",
    "\n",
    "from langchain_community.llms import Ollama\n",
    "from langchain.output_parsers.regex_dict import RegexDictParser\n",
    "from langchain.output_parsers import PydanticOutputParser\n",
    "from langchain_core.messages import HumanMessage, SystemMessage, ChatMessage\n",
    "from langchain.prompts import ChatPromptTemplate, PromptTemplate\n",
    "from pydantic import BaseModel, Field, validator, create_model\n",
    "from openai import AsyncOpenAI, OpenAI\n",
    "#import asyncio\n",
    "import os\n",
    "\n",
    "import requests\n",
    "import json\n",
    "\n",
    "import itertools\n",
    "from copy import deepcopy\n",
    "from tqdm.notebook import tqdm, trange\n",
    "from sklearn.cluster import KMeans\n",
    "\n",
    "import umap.umap_ as umap\n",
    "#import umap\n",
    "import hdbscan\n",
    "\n",
    "from typing import Literal, Union\n",
    "from pydantic.config import ConfigDict\n",
    "\n",
    "from src.models import *\n",
    "\n",
    "from src.utilities import *\n",
    "from src.bubble import *\n",
    "\n",
    "import openai\n",
    "import instructor\n",
    "\n",
    "#openai.api_key = os.environ[\"OPENAI_API_KEY\"]\n"
   ]
  },
  {
   "cell_type": "code",
   "execution_count": 4,
   "metadata": {},
   "outputs": [],
   "source": [
    "prompts_path = \"Prompts/fr/\""
   ]
  },
  {
   "cell_type": "code",
   "execution_count": 6,
   "metadata": {},
   "outputs": [
    {
     "name": "stdout",
     "output_type": "stream",
     "text": [
      "Darty est une entreprise française spécialisée dans la vente d'appareils électroménagers, d'équipements audiovisuels et de produits informatiques. Fondée en 1957, la société a connu une croissance constante et s'est imposée comme un acteur majeur du secteur en France. Récemment, Darty a été racheté par le groupe Fnac Darty en 2017, ce qui a permis à l'enseigne de renforcer sa position sur le marché national et de s'ouvrir à de nouvelles opportunités de développement. Les concurrents directs de Darty sont Boulanger, But, et Conforama.\n"
     ]
    }
   ],
   "source": [
    "with open(prompts_path+'prompt_company_informations.txt') as f:\n",
    "    template = PromptTemplate.from_template(f.read())\n",
    "prompt_company_informations = template.invoke(context)\n",
    "\n",
    "class CompanyContext(BaseModel):\n",
    "    context: str = Field(description=\"Contexte de l'entreprise.\")\n",
    "\n",
    "    def __str__(self):\n",
    "        return self.context\n",
    "\n",
    "res = get_analysis(prompt_company_informations, CompanyContext)\n",
    "context['context'] = res.context\n",
    "print(res)"
   ]
  },
  {
   "cell_type": "code",
   "execution_count": 8,
   "metadata": {},
   "outputs": [
    {
     "name": "stdout",
     "output_type": "stream",
     "text": [
      "Satisfaction globale : \n",
      "- Note globale: Indique le niveau de satisfaction globale du client vis-à-vis de Darty.\n",
      "- Commentaire général: Permet au client de s'exprimer librement sur son expérience chez Darty.\n",
      "\n",
      "Expérience en magasin : \n",
      "- Propreté du magasin: Évalue la propreté du magasin et des rayons.\n",
      "- Achalandage: Indique si le magasin était trop achalandé ou si les files d'attente étaient trop longues.\n",
      "- Amabilité du personnel: Évalue la gentillesse et la serviabilité du personnel.\n",
      "- Disponibilité des produits: Indique si les produits recherchés par le client étaient disponibles en magasin.\n",
      "- Délais d'attente en caisse: Évalue le temps d'attente en caisse.\n",
      "\n",
      "Qualité des produits : \n",
      "- Fraîcheur des produits: Évalue la fraîcheur des produits frais et périssables.\n",
      "- Variété des produits: Indique si le choix de produits est suffisant et répond aux attentes du client.\n",
      "- Qualité des produits MDD: Évalue la qualité des produits de la marque Darty.\n",
      "\n",
      "Prix : \n",
      "- Niveau des prix: Indique si le client trouve les prix pratiqués par Darty trop élevés.\n",
      "- Promotions et offres spéciales: Évalue la satisfaction du client vis-à-vis des promotions et offres spéciales.\n",
      "\n",
      "Service client : \n",
      "- Efficacité du service client: Évalue la capacité du service client à répondre aux questions et à résoudre les problèmes des clients.\n",
      "- Amabilité du service client: Évalue la gentillesse et la serviabilité du service client.\n",
      "\n",
      "Site web et application mobile : \n",
      "- Facilité d'utilisation: Indique si le site web et l'application mobile de Darty sont faciles à utiliser.\n",
      "- Fonctionnalités: Évalue la satisfaction du client vis-à-vis des fonctionnalités du site web et de l'application mobile.\n",
      "- Rapidité de livraison: Évalue la rapidité de livraison des commandes passées en ligne.\n",
      "\n",
      "Livraison à domicile : \n",
      "- Délai de livraison: Évalue le respect du délai de livraison prévu.\n",
      "- État des produits livrés: Indique si les produits livrés étaient en bon état.\n",
      "- Amabilité du livreur: Évalue la gentillesse et la serviabilité du livreur.\n",
      "\n",
      "Programme de fidélisation : \n",
      "- Avantages du programme: Évalue la satisfaction du client vis-à-vis des avantages du programme de fidélisation (points, récompenses et offres spéciales).\n",
      "- Facilité d'utilisation du programme: Indique si le programme de fidélisation est facile à utiliser et à comprendre.\n",
      "- Valeur perçue du programme: Indique si le client trouve que le programme de fidélisation offre une valeur ajoutée suffisante.\n",
      "- Satisfaction globale vis-à-vis du programme: Évalue la satisfaction globale du client vis-à-vis du programme de fidélisation.\n",
      "\n",
      "Recommandation : \n",
      "- Probabilité de recommandation: Indique la probabilité que le client recommande Darty à ses proches.\n",
      "\n",
      "Suggestions d'amélioration : \n",
      "- Ouvert: Permet au client de proposer des suggestions d'amélioration pour Darty.\n"
     ]
    }
   ],
   "source": [
    "with open(prompts_path+'prompt_categories_creation.txt') as f:\n",
    "    template = PromptTemplate.from_template(f.read())\n",
    "prompt_categories_creation = template.invoke(context)\n",
    "\n",
    "class InsightSubCategory(BaseModel):\n",
    "    name: str = Field(description=\"Nom de la sous-catégorie.\")\n",
    "    description: str = Field(description=\"Phrase de description de la sous-catégorie.\")\n",
    "    id: str\n",
    "    def __str__(self):\n",
    "        return '\\n- ' + self.name + \": \" + self.description\n",
    "\n",
    "class InsightCategory(BaseModel):\n",
    "    name: str = Field(description=\"Nom de la catégorie.\")\n",
    "    #description: str = Field(description=\"Phrase de description de la catégorie.\")\n",
    "    sub_categories: List[InsightSubCategory] = Field(description=\"Sous-catégories.\")\n",
    "    id: str\n",
    "\n",
    "    def __str__(self):\n",
    "        return self.name + \" : \" + ''.join([str(x) for x in self.sub_categories])\n",
    "\n",
    "class InsightCategories(BaseModel):\n",
    "    categories: List[InsightCategory] = Field(description=\"Catégories parmi lesquels les insights pourront être classifiées.\")\n",
    "\n",
    "    def __str__(self):\n",
    "        return '\\n\\n'.join([str(x) for x in self.categories])\n",
    "\n",
    "res = get_analysis(prompt_categories_creation, InsightCategories)\n",
    "print(res)"
   ]
  },
  {
   "cell_type": "code",
   "execution_count": 9,
   "metadata": {},
   "outputs": [
    {
     "data": {
      "application/vnd.jupyter.widget-view+json": {
       "model_id": "3f8c01e77561482b80db08b20292d5d6",
       "version_major": 2,
       "version_minor": 0
      },
      "text/plain": [
       "  0%|          | 0/10 [00:00<?, ?it/s]"
      ]
     },
     "metadata": {},
     "output_type": "display_data"
    }
   ],
   "source": [
    "for categorie in tqdm(res.categories):\n",
    "    categorie.id = bubble_client.create(\n",
    "        \"Category\",\n",
    "        {\n",
    "            \"Company\": COMPANY_ID,\n",
    "            \"Name\": categorie.name,\n",
    "            \"Project\": PROJECT_ID,\n",
    "        })\n",
    "    \n",
    "    for sub_categorie in categorie.sub_categories:\n",
    "        sub_categorie.id = bubble_client.create(\n",
    "            \"SubCategory\",\n",
    "            {\n",
    "                \"Company\": COMPANY_ID,\n",
    "                \"Parent_category\": categorie.id,\n",
    "                \"Name\": sub_categorie.name,\n",
    "                \"Project\": PROJECT_ID,\n",
    "                \"Description\": sub_categorie.description,\n",
    "            })"
   ]
  }
 ],
 "metadata": {
  "kernelspec": {
   "display_name": "feedback_env",
   "language": "python",
   "name": "python3"
  },
  "language_info": {
   "codemirror_mode": {
    "name": "ipython",
    "version": 3
   },
   "file_extension": ".py",
   "mimetype": "text/x-python",
   "name": "python",
   "nbconvert_exporter": "python",
   "pygments_lexer": "ipython3",
   "version": "3.11.7"
  }
 },
 "nbformat": 4,
 "nbformat_minor": 2
}
