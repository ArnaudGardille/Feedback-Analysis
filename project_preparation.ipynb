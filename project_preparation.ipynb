{
 "cells": [
  {
   "cell_type": "code",
   "execution_count": 1,
   "metadata": {},
   "outputs": [],
   "source": [
    "import numpy as np\n",
    "import re\n",
    "import pandas as pd\n",
    "from tqdm.notebook import tqdm\n",
    "from datasets import load_dataset\n",
    "import umap\n",
    "import altair as alt\n",
    "from sklearn.metrics.pairwise import cosine_similarity\n",
    "from sentence_transformers import SentenceTransformer\n",
    "from typing import List\n",
    "import enum\n",
    "\n",
    "from langchain_community.llms import Ollama\n",
    "from langchain.output_parsers.regex_dict import RegexDictParser\n",
    "from langchain.output_parsers import PydanticOutputParser\n",
    "from langchain_core.messages import HumanMessage, SystemMessage, ChatMessage\n",
    "from langchain.prompts import ChatPromptTemplate, PromptTemplate\n",
    "from pydantic import BaseModel, Field, validator, create_model\n",
    "from openai import AsyncOpenAI, OpenAI\n",
    "import asyncio\n",
    "import os\n",
    "\n",
    "import requests\n",
    "import json\n",
    "\n",
    "import itertools\n",
    "from copy import deepcopy\n",
    "from tqdm.notebook import tqdm, trange\n",
    "from sklearn.cluster import KMeans\n",
    "\n",
    "import umap.umap_ as umap\n",
    "#import umap\n",
    "import hdbscan\n",
    "\n",
    "from typing import Literal, Union\n",
    "from pydantic.config import ConfigDict\n",
    "\n",
    "from src.models import *\n",
    "\n",
    "from src.utilities import *\n",
    "from src.bubble import *\n",
    "\n",
    "import openai\n",
    "import instructor\n",
    "\n",
    "#openai.api_key = os.environ[\"OPENAI_API_KEY\"]\n"
   ]
  },
  {
   "cell_type": "code",
   "execution_count": 4,
   "metadata": {},
   "outputs": [
    {
     "name": "stdout",
     "output_type": "stream",
     "text": [
      "Darty est une entreprise française spécialisée dans la distribution d'électroménager, d'informatique et d'électronique grand public. Elle a été fondée en 1957 par Natan Darty et est aujourd'hui présente dans plusieurs pays européens. En 2016, Darty a été rachetée par la Fnac, créant ainsi un grand groupe français de distribution de produits culturels et techniques. Plus récemment, en 2021, le groupe Fnac Darty a annoncé son intention de se rapprocher de l'entreprise britannique Dixons Carphone, ce qui pourrait donner naissance à un leader paneuropéen de la distribution de produits technologiques. Parmi les concurrents de Darty, on peut citer Boulanger, But, et Conforama.\n"
     ]
    }
   ],
   "source": [
    "with open('Prompts/prompt_company_informations.txt') as f:\n",
    "    template = PromptTemplate.from_template(f.read())\n",
    "prompt_company_informations = template.invoke(context)\n",
    "\n",
    "class CompanyContext(BaseModel):\n",
    "    context: str = Field(description=\"Contexte de l'entreprise.\")\n",
    "\n",
    "    def __str__(self):\n",
    "        return self.context\n",
    "\n",
    "res = get_analysis(client, prompt_company_informations, CompanyContext)\n",
    "context['context'] = res.context\n",
    "print(res)"
   ]
  },
  {
   "cell_type": "code",
   "execution_count": 25,
   "metadata": {},
   "outputs": [
    {
     "name": "stdout",
     "output_type": "stream",
     "text": [
      "Satisfaction globale : \n",
      "- Note globale: Indique le niveau de satisfaction global du client vis-à-vis de Darty.\n",
      "- Commentaire général: Permet au client de s'exprimer librement sur son expérience chez Darty.\n",
      "\n",
      "Expérience d'achat : \n",
      "- Navigabilité du site: Évalue la facilité de navigation sur le site web de Darty.\n",
      "- Disponibilité des produits: Évalue la disponibilité des produits recherchés par le client sur le site web de Darty.\n",
      "- Processus de commande: Évalue la rapidité et l'efficacité du processus de commande sur le site web de Darty.\n",
      "- Livraison des produits: Évalue la rapidité et l'efficacité de la livraison des produits commandés sur le site web de Darty.\n",
      "\n",
      "Qualité des produits : \n",
      "- Qualité globale des produits: Évalue la qualité des produits proposés par Darty.\n",
      "- Précision de la description: Évalue la conformité des produits commandés par rapport à leur description sur le site web de Darty.\n",
      "- Fiabilité et durabilité: Évalue la fiabilité et la durabilité des produits proposés par Darty.\n",
      "\n",
      "Service client : \n",
      "- Accessibilité et réactivité: Évalue l'accessibilité et la réactivité du service client de Darty.\n",
      "- Qualité de l'assistance: Évalue la qualité de l'assistance et des conseils fournis par le service client de Darty.\n",
      "- Politesse et respect: Évalue la politesse et le respect du service client de Darty.\n",
      "\n",
      "Service après-vente : \n",
      "- Traitement des réclamations: Évalue la rapidité et l'efficacité du traitement des réclamations par le service après-vente de Darty.\n",
      "- Politesse et respect: Évalue la politesse et le respect du service après-vente de Darty.\n",
      "- Résolution des problèmes: Évalue la capacité du service après-vente de Darty à résoudre les problèmes des clients.\n"
     ]
    }
   ],
   "source": [
    "with open('Prompts/prompt_categories_creation.txt') as f:\n",
    "    template = PromptTemplate.from_template(f.read())\n",
    "prompt_categories_creation = template.invoke(context)\n",
    "\n",
    "class InsightSubCategory(BaseModel):\n",
    "    name: str = Field(description=\"Nom de la sous-catégorie.\")\n",
    "    description: str = Field(description=\"Phrase de description de la sous-catégorie.\")\n",
    "    id: str\n",
    "    def __str__(self):\n",
    "        return '\\n- ' + self.name + \": \" + self.description\n",
    "\n",
    "class InsightCategory(BaseModel):\n",
    "    name: str = Field(description=\"Nom de la catégorie.\")\n",
    "    #description: str = Field(description=\"Phrase de description de la catégorie.\")\n",
    "    sub_categories: List[InsightSubCategory] = Field(description=\"Sous-catégories.\")\n",
    "    id: str\n",
    "\n",
    "    def __str__(self):\n",
    "        return self.name + \" : \" + ''.join([str(x) for x in self.sub_categories])\n",
    "\n",
    "class InsightCategories(BaseModel):\n",
    "    categories: List[InsightCategory] = Field(description=\"Catégories parmi lesquels les insights pourront être classifiées.\")\n",
    "\n",
    "    def __str__(self):\n",
    "        return '\\n\\n'.join([str(x) for x in self.categories])\n",
    "\n",
    "res = get_analysis(client, prompt_categories_creation, InsightCategories)\n",
    "print(res)"
   ]
  },
  {
   "cell_type": "code",
   "execution_count": 22,
   "metadata": {},
   "outputs": [],
   "source": [
    "for categorie in tqdm(res.categories):\n",
    "    categorie.id = bubble_client.create(\n",
    "        \"Category\",\n",
    "        {\n",
    "            \"Company\": COMPANY_ID,\n",
    "            \"Name\": categorie.name,\n",
    "            \"Project\": PROJECT_ID,\n",
    "        })\n",
    "    \n",
    "    for sub_categorie in categorie.sub_categories:\n",
    "        sub_categorie.id = bubble_client.create(\n",
    "            \"SubCategory\",\n",
    "            {\n",
    "                \"Company\": COMPANY_ID,\n",
    "                \"Parent_category\": categorie.id,\n",
    "                \"Name\": sub_categorie.name,\n",
    "                \"Project\": PROJECT_ID,\n",
    "                \"Description\": categorie.description,\n",
    "            })"
   ]
  }
 ],
 "metadata": {
  "kernelspec": {
   "display_name": "feedback_env",
   "language": "python",
   "name": "python3"
  },
  "language_info": {
   "codemirror_mode": {
    "name": "ipython",
    "version": 3
   },
   "file_extension": ".py",
   "mimetype": "text/x-python",
   "name": "python",
   "nbconvert_exporter": "python",
   "pygments_lexer": "ipython3",
   "version": "3.11.7"
  }
 },
 "nbformat": 4,
 "nbformat_minor": 2
}
