{
 "cells": [
  {
   "cell_type": "code",
   "execution_count": 1,
   "metadata": {},
   "outputs": [],
   "source": [
    "import numpy as np\n",
    "import re\n",
    "import pandas as pd\n",
    "from tqdm.notebook import tqdm\n",
    "from datasets import load_dataset\n",
    "import umap\n",
    "import altair as alt\n",
    "from sklearn.metrics.pairwise import cosine_similarity\n",
    "from sentence_transformers import SentenceTransformer\n",
    "from typing import List\n",
    "import enum\n",
    "\n",
    "from langchain_community.llms import Ollama\n",
    "from langchain.output_parsers.regex_dict import RegexDictParser\n",
    "from langchain.output_parsers import PydanticOutputParser\n",
    "from langchain_core.messages import HumanMessage, SystemMessage, ChatMessage\n",
    "from langchain.prompts import ChatPromptTemplate, PromptTemplate\n",
    "from pydantic import BaseModel, Field, validator, create_model\n",
    "from openai import AsyncOpenAI, OpenAI\n",
    "import asyncio\n",
    "import os\n",
    "\n",
    "import requests\n",
    "import json\n",
    "\n",
    "import itertools\n",
    "from copy import deepcopy\n",
    "from tqdm.notebook import tqdm, trange\n",
    "from sklearn.cluster import KMeans\n",
    "\n",
    "import umap.umap_ as umap\n",
    "#import umap\n",
    "import hdbscan\n",
    "\n",
    "from typing import Literal, Union\n",
    "from pydantic.config import ConfigDict\n",
    "\n",
    "from src.models import *\n",
    "\n",
    "from src.utilities import *\n",
    "from src.bubble import *\n",
    "\n",
    "import openai\n",
    "import instructor\n",
    "\n",
    "#openai.api_key = os.environ[\"OPENAI_API_KEY\"]\n"
   ]
  },
  {
   "cell_type": "code",
   "execution_count": 2,
   "metadata": {},
   "outputs": [],
   "source": [
    "context = {\n",
    "    \"company\": \"Darty\",\n",
    "    \"context\": None,\n",
    "    }"
   ]
  },
  {
   "cell_type": "code",
   "execution_count": 3,
   "metadata": {},
   "outputs": [
    {
     "name": "stdout",
     "output_type": "stream",
     "text": [
      "Retrieved company 1707313014508x102198350946437700\n"
     ]
    }
   ],
   "source": [
    "try:\n",
    "    COMPANY_ID = bubble_client.get_objects(\"Company\",[\n",
    "                BubbleField(\"Name\") == context[\"company\"],\n",
    "            ])[0]['_id']\n",
    "    print(\"Retrieved company\", COMPANY_ID)\n",
    "    \n",
    "except:\n",
    "    COMPANY_ID = bubble_client.create(\"Company\",\n",
    "        {\n",
    "            \"Name\": context[\"company\"],\n",
    "        })\n",
    "    print(\"Created company\", COMPANY_ID)"
   ]
  },
  {
   "cell_type": "code",
   "execution_count": 4,
   "metadata": {},
   "outputs": [
    {
     "name": "stdout",
     "output_type": "stream",
     "text": [
      "Darty est une entreprise française spécialisée dans la distribution d'électroménager, d'informatique et d'électronique grand public. Elle a été fondée en 1957 par Natan Darty et est aujourd'hui présente dans plusieurs pays européens. En 2016, Darty a été rachetée par la Fnac, créant ainsi un grand groupe français de distribution de produits culturels et techniques. Plus récemment, en 2021, le groupe Fnac Darty a annoncé son intention de se rapprocher de l'entreprise britannique Dixons Carphone, ce qui pourrait donner naissance à un leader paneuropéen de la distribution de produits technologiques. Parmi les concurrents de Darty, on peut citer Boulanger, But, et Conforama.\n"
     ]
    }
   ],
   "source": [
    "with open('Prompts/prompt_company_informations.txt') as f:\n",
    "    template = PromptTemplate.from_template(f.read())\n",
    "prompt_company_informations = template.invoke(context)\n",
    "\n",
    "class CompanyContext(BaseModel):\n",
    "    context: str = Field(description=\"Contexte de l'entreprise.\")\n",
    "\n",
    "    def __str__(self):\n",
    "        return self.context\n",
    "\n",
    "res = get_analysis(client, prompt_company_informations, CompanyContext)\n",
    "context['context'] = res.context\n",
    "print(res)"
   ]
  },
  {
   "cell_type": "code",
   "execution_count": 5,
   "metadata": {},
   "outputs": [],
   "source": [
    "with open('Prompts/prompt_categories_creation_example.txt') as f:\n",
    "    template = PromptTemplate.from_template(f.read())\n",
    "prompt_categories_creation = template.invoke(context)\n",
    "\n",
    "class InsightSubCategory(BaseModel):\n",
    "    name: str = Field(description=\"Nom de la sous-catégorie.\")\n",
    "    description: str = Field(description=\"Phrase de description de la sous-catégorie.\")\n",
    "    id: str\n",
    "    def __str__(self):\n",
    "        return '\\n- ' + self.name + \" : \" + self.description\n",
    "\n",
    "class InsightCategory(BaseModel):\n",
    "    name: str = Field(description=\"Nom de la catégorie.\")\n",
    "    description: str = Field(description=\"Phrase de description de la catégorie.\")\n",
    "    sub_categories: List[InsightSubCategory] = Field(description=\"Sous-catégories.\")\n",
    "    id: str\n",
    "\n",
    "    def __str__(self):\n",
    "        return self.name + \" : \" + self.description + ''.join([str(x) for x in self.sub_categories])\n",
    "\n",
    "class InsightCategories(BaseModel):\n",
    "    categories: List[InsightCategory] = Field(description=\"Catégories parmi lesquels les insights pourront être classifiées.\")\n",
    "\n",
    "    def __str__(self):\n",
    "        return '\\n\\n'.join([str(x) for x in self.categories])\n",
    "\n",
    "res = get_analysis(client, prompt_categories_creation, InsightCategories)\n",
    "print(res)"
   ]
  },
  {
   "cell_type": "code",
   "execution_count": null,
   "metadata": {},
   "outputs": [
    {
     "name": "stdout",
     "output_type": "stream",
     "text": [
      "Accueil en magasin : Les clients partagent leur opinion sur l'accueil réservé par les vendeurs en magasin.\n",
      "- Accueil chaleureux : Le client est accueilli chaleureusement.\n",
      "- Aucun accueil : Le client est ignoré.\n",
      "Navigation sur le site web : Les clients expriment leur ressenti sur la facilité de navigation du site web.\n",
      "- Facile de navigation : Le site web est facile à utiliser.\n",
      "- Difficile de navigation : Le site web est compliqué à utiliser.\n",
      "Qualité des produits : Les clients commentent la qualité des produits proposés en magasin.\n",
      "- Produits de qualité : Les produits sont de bonne qualité.\n",
      "- Produits de mauvaise qualité : Les produits sont de mauvaise qualité.\n",
      "Temps d'attente avant d'être reçu par un vendeur : Les clients évaluent le temps d'attente avant d'être reçus par un vendeur.\n",
      "- Attente raisonnable : Le temps d'attente est raisonnable.\n",
      "- Attente trop longue : Le temps d'attente est trop long.\n",
      "Processus d'achat en magasin : Les clients donnent leur avis sur le processus d'achat en magasin.\n",
      "- Processus simple : Le processus d'achat est simple et rapide.\n",
      "- Processus long : Le processus d'achat est long et compliqué.\n",
      "Service après-vente : Les clients partagent leur expérience avec le service après-vente.\n",
      "- Service efficace : Le service après-vente est efficace.\n",
      "- Service inefficace : Le service après-vente est inefficace.\n",
      "Emballage des produits : Les clients commentent l'emballage des produits.\n",
      "- Emballage adapté : L'emballage est adapté et protège bien le produit.\n",
      "- Emballage non adapté : L'emballage n'est pas adapté et ne protège pas bien le produit.\n",
      "Livraison des produits : Les clients évaluent la livraison des produits.\n",
      "- Livraison rapide et bon état : La livraison est rapide et les produits sont en bon état.\n",
      "- Livraison longue et mauvais état : La livraison est longue et les produits sont abîmés.\n"
     ]
    }
   ],
   "source": [
    "for categorie in res.categories:\n",
    "    print(categorie)"
   ]
  },
  {
   "cell_type": "code",
   "execution_count": null,
   "metadata": {},
   "outputs": [
    {
     "ename": "ValueError",
     "evalue": "\"InsightCategory\" object has no field \"id\"",
     "output_type": "error",
     "traceback": [
      "\u001b[0;31m---------------------------------------------------------------------------\u001b[0m",
      "\u001b[0;31mValueError\u001b[0m                                Traceback (most recent call last)",
      "Cell \u001b[0;32mIn[36], line 2\u001b[0m\n\u001b[1;32m      1\u001b[0m \u001b[38;5;28;01mfor\u001b[39;00m categorie \u001b[38;5;129;01min\u001b[39;00m res\u001b[38;5;241m.\u001b[39mcategories:\n\u001b[0;32m----> 2\u001b[0m     categorie\u001b[38;5;241m.\u001b[39mid \u001b[38;5;241m=\u001b[39m bubble_client\u001b[38;5;241m.\u001b[39mcreate(\n\u001b[1;32m      3\u001b[0m         \u001b[38;5;124m\"\u001b[39m\u001b[38;5;124mCategory\u001b[39m\u001b[38;5;124m\"\u001b[39m,\n\u001b[1;32m      4\u001b[0m         {\n\u001b[1;32m      5\u001b[0m             \u001b[38;5;124m\"\u001b[39m\u001b[38;5;124mCompany\u001b[39m\u001b[38;5;124m\"\u001b[39m: COMPANY_ID,\n\u001b[1;32m      6\u001b[0m             \u001b[38;5;124m\"\u001b[39m\u001b[38;5;124mDescription\u001b[39m\u001b[38;5;124m\"\u001b[39m: categorie\u001b[38;5;241m.\u001b[39mdescription,\n\u001b[1;32m      7\u001b[0m             \u001b[38;5;124m\"\u001b[39m\u001b[38;5;124mName\u001b[39m\u001b[38;5;124m\"\u001b[39m: categorie\u001b[38;5;241m.\u001b[39mname,\n\u001b[1;32m      8\u001b[0m             \u001b[38;5;66;03m#\"Project\": ,\u001b[39;00m\n\u001b[1;32m      9\u001b[0m         })\n",
      "File \u001b[0;32m~/anaconda3/envs/feedback_env/lib/python3.11/site-packages/pydantic/main.py:795\u001b[0m, in \u001b[0;36mBaseModel.__setattr__\u001b[0;34m(self, name, value)\u001b[0m\n\u001b[1;32m    792\u001b[0m     \u001b[38;5;28mself\u001b[39m\u001b[38;5;241m.\u001b[39m__pydantic_validator__\u001b[38;5;241m.\u001b[39mvalidate_assignment(\u001b[38;5;28mself\u001b[39m, name, value)\n\u001b[1;32m    793\u001b[0m \u001b[38;5;28;01melif\u001b[39;00m \u001b[38;5;28mself\u001b[39m\u001b[38;5;241m.\u001b[39mmodel_config\u001b[38;5;241m.\u001b[39mget(\u001b[38;5;124m'\u001b[39m\u001b[38;5;124mextra\u001b[39m\u001b[38;5;124m'\u001b[39m) \u001b[38;5;241m!=\u001b[39m \u001b[38;5;124m'\u001b[39m\u001b[38;5;124mallow\u001b[39m\u001b[38;5;124m'\u001b[39m \u001b[38;5;129;01mand\u001b[39;00m name \u001b[38;5;129;01mnot\u001b[39;00m \u001b[38;5;129;01min\u001b[39;00m \u001b[38;5;28mself\u001b[39m\u001b[38;5;241m.\u001b[39mmodel_fields:\n\u001b[1;32m    794\u001b[0m     \u001b[38;5;66;03m# TODO - matching error\u001b[39;00m\n\u001b[0;32m--> 795\u001b[0m     \u001b[38;5;28;01mraise\u001b[39;00m \u001b[38;5;167;01mValueError\u001b[39;00m(\u001b[38;5;124mf\u001b[39m\u001b[38;5;124m'\u001b[39m\u001b[38;5;124m\"\u001b[39m\u001b[38;5;132;01m{\u001b[39;00m\u001b[38;5;28mself\u001b[39m\u001b[38;5;241m.\u001b[39m\u001b[38;5;18m__class__\u001b[39m\u001b[38;5;241m.\u001b[39m\u001b[38;5;18m__name__\u001b[39m\u001b[38;5;132;01m}\u001b[39;00m\u001b[38;5;124m\"\u001b[39m\u001b[38;5;124m object has no field \u001b[39m\u001b[38;5;124m\"\u001b[39m\u001b[38;5;132;01m{\u001b[39;00mname\u001b[38;5;132;01m}\u001b[39;00m\u001b[38;5;124m\"\u001b[39m\u001b[38;5;124m'\u001b[39m)\n\u001b[1;32m    796\u001b[0m \u001b[38;5;28;01melif\u001b[39;00m \u001b[38;5;28mself\u001b[39m\u001b[38;5;241m.\u001b[39mmodel_config\u001b[38;5;241m.\u001b[39mget(\u001b[38;5;124m'\u001b[39m\u001b[38;5;124mextra\u001b[39m\u001b[38;5;124m'\u001b[39m) \u001b[38;5;241m==\u001b[39m \u001b[38;5;124m'\u001b[39m\u001b[38;5;124mallow\u001b[39m\u001b[38;5;124m'\u001b[39m \u001b[38;5;129;01mand\u001b[39;00m name \u001b[38;5;129;01mnot\u001b[39;00m \u001b[38;5;129;01min\u001b[39;00m \u001b[38;5;28mself\u001b[39m\u001b[38;5;241m.\u001b[39mmodel_fields:\n\u001b[1;32m    797\u001b[0m     \u001b[38;5;28;01mif\u001b[39;00m \u001b[38;5;28mself\u001b[39m\u001b[38;5;241m.\u001b[39mmodel_extra \u001b[38;5;129;01mand\u001b[39;00m name \u001b[38;5;129;01min\u001b[39;00m \u001b[38;5;28mself\u001b[39m\u001b[38;5;241m.\u001b[39mmodel_extra:\n",
      "\u001b[0;31mValueError\u001b[0m: \"InsightCategory\" object has no field \"id\""
     ]
    }
   ],
   "source": [
    "for categorie in res.categories:\n",
    "    categorie.id = bubble_client.create(\n",
    "        \"Category\",\n",
    "        {\n",
    "            \"Company\": COMPANY_ID,\n",
    "            \"Description\": categorie.description,\n",
    "            \"Name\": categorie.name,\n",
    "            #\"Project\": ,\n",
    "        })"
   ]
  },
  {
   "cell_type": "code",
   "execution_count": null,
   "metadata": {},
   "outputs": [],
   "source": [
    "res = bubble_client.create(\n",
    "        \"python_insight\",\n",
    "        [{\n",
    "            \"company\": company_id,\n",
    "            \"project\": project_id,\n",
    "            \"content\": row[\"content\"],\n",
    "            \"backend_status\": \"new\",\n",
    "            \"feedback_count\": row[\"feedback_count\"],\n",
    "            \"step\": 1,\n",
    "            \"related_feedback\":row['related_feedback'],\n",
    "            \"tag\": row[\"tag\"],\n",
    "            \"type\": row[\"type\"],\n",
    "            \"backend_type\": row['backend_type'],\n",
    "            \"parents\": row[\"parents\"],\n",
    "            \"parent\": str(row[\"parent\"]),\n",
    "            \"childrens\": 0,#[[] for _ in insight_layers[0][:1000].iterrows()],\n",
    "            \"cluster\": row[\"cluster\"],\n",
    "        }  for _, row in insight_layers[0].iterrows()]\n",
    "    )"
   ]
  },
  {
   "cell_type": "code",
   "execution_count": null,
   "metadata": {},
   "outputs": [],
   "source": []
  }
 ],
 "metadata": {
  "kernelspec": {
   "display_name": "feedback_env",
   "language": "python",
   "name": "python3"
  },
  "language_info": {
   "codemirror_mode": {
    "name": "ipython",
    "version": 3
   },
   "file_extension": ".py",
   "mimetype": "text/x-python",
   "name": "python",
   "nbconvert_exporter": "python",
   "pygments_lexer": "ipython3",
   "version": "3.11.7"
  }
 },
 "nbformat": 4,
 "nbformat_minor": 2
}
