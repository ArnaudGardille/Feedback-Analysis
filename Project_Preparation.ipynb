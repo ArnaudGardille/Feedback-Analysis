{
 "cells": [
  {
   "cell_type": "code",
   "execution_count": 1,
   "metadata": {},
   "outputs": [
    {
     "name": "stdout",
     "output_type": "stream",
     "text": [
      "Retrieved company Darty : 1707313014508x102198350946437700\n",
      "Retrieved project Expérience utilisateur de Darty : 1710335239022x546888753774592000\n"
     ]
    }
   ],
   "source": [
    "import numpy as np\n",
    "import re\n",
    "import pandas as pd\n",
    "from tqdm.notebook import tqdm\n",
    "from datasets import load_dataset\n",
    "import umap\n",
    "import altair as alt\n",
    "from sklearn.metrics.pairwise import cosine_similarity\n",
    "from sentence_transformers import SentenceTransformer\n",
    "from typing import List\n",
    "import enum\n",
    "\n",
    "from langchain_community.llms import Ollama\n",
    "from langchain.output_parsers.regex_dict import RegexDictParser\n",
    "from langchain.output_parsers import PydanticOutputParser\n",
    "from langchain_core.messages import HumanMessage, SystemMessage, ChatMessage\n",
    "from langchain.prompts import ChatPromptTemplate, PromptTemplate\n",
    "from pydantic import BaseModel, Field, validator, create_model\n",
    "from openai import AsyncOpenAI, OpenAI\n",
    "import asyncio\n",
    "import os\n",
    "\n",
    "import requests\n",
    "import json\n",
    "\n",
    "import itertools\n",
    "from copy import deepcopy\n",
    "from tqdm.notebook import tqdm, trange\n",
    "from sklearn.cluster import KMeans\n",
    "\n",
    "import umap.umap_ as umap\n",
    "#import umap\n",
    "import hdbscan\n",
    "\n",
    "from typing import Literal, Union\n",
    "from pydantic.config import ConfigDict\n",
    "\n",
    "from src.models import *\n",
    "\n",
    "from src.utilities import *\n",
    "from src.bubble import *\n",
    "\n",
    "import openai\n",
    "import instructor"
   ]
  },
  {
   "cell_type": "code",
   "execution_count": 2,
   "metadata": {},
   "outputs": [],
   "source": [
    "prompts_path = \"Prompts/fr/\""
   ]
  },
  {
   "cell_type": "markdown",
   "metadata": {},
   "source": [
    "# Company informations"
   ]
  },
  {
   "cell_type": "code",
   "execution_count": 3,
   "metadata": {},
   "outputs": [
    {
     "name": "stdout",
     "output_type": "stream",
     "text": [
      "Darty\n"
     ]
    }
   ],
   "source": [
    "with open(prompts_path+'prompt_company_informations.txt') as f:\n",
    "    template = PromptTemplate.from_template(f.read())\n",
    "prompt_company_informations = template.invoke(context)\n",
    "\n",
    "class CompanyContext(BaseModel):\n",
    "    context: str = Field(description=\"Description du contexte de l'entreprise.\")\n",
    "\n",
    "    def __str__(self):\n",
    "        return self.context\n",
    "\n",
    "res = get_analysis(prompt_company_informations, CompanyContext)\n",
    "context['context'] = res.context\n",
    "print(res)"
   ]
  },
  {
   "cell_type": "markdown",
   "metadata": {},
   "source": [
    "# Categories creation"
   ]
  },
  {
   "cell_type": "code",
   "execution_count": 4,
   "metadata": {},
   "outputs": [],
   "source": [
    "context['cible'] = \"clients\"\n"
   ]
  },
  {
   "cell_type": "code",
   "execution_count": 15,
   "metadata": {},
   "outputs": [],
   "source": [
    "feedbacks_df = get(\"Feedback\", max_objects=1000)\n"
   ]
  },
  {
   "cell_type": "code",
   "execution_count": 6,
   "metadata": {},
   "outputs": [],
   "source": [
    "companies_df = get(\"Company\", constraints = [])"
   ]
  },
  {
   "cell_type": "code",
   "execution_count": 7,
   "metadata": {},
   "outputs": [
    {
     "data": {
      "text/plain": [
       "{'company': 'Darty',\n",
       " 'project': 'Expérience utilisateur de Darty',\n",
       " 'site': 'www.darty.com',\n",
       " 'source': 'Trustpilot',\n",
       " 'context': 'Darty',\n",
       " 'cible': 'clients',\n",
       " 'Context': 'Fondée en 1957, Darty est une enseigne française spécialisée dans la distribution d\\'électroménager, d\\'équipements électroniques et de produits culturels. Rachetée par la Fnac en 2016, elle est aujourd\\'hui l\\'un des leaders européens de la distribution omnicanale.\\n\\nÉvènements récents:\\n\\n    2016: Rachat par la Fnac et création du groupe Fnac Darty.\\n    2017: Lancement de la marketplace Darty.com.\\n    2018: Déploiement du \"Contrat de Confiance Fnac Darty\" dans tous les magasins.\\n    2019: Lancement de l\\'offre de services \"Darty+.\"\\n    2020: Accélération de la transformation digitale du groupe.\\n    2021: Acquisition de Mistergooddeal, spécialiste du e-commerce en produits reconditionnés.\\n    2022: Lancement de la Fnac Darty Academy, une plateforme de formation en ligne.\\n\\nConcurrents:\\n\\n    Boulanger\\n    Conforama\\n    Gitem\\n    Amazon\\n    Cdiscount\\n\\nEnjeux:\\n\\n    Darty doit faire face à une concurrence accrue sur le marché de l\\'électroménager et de l\\'électronique.\\n    L\\'entreprise doit poursuivre sa transformation digitale pour répondre aux attentes des clients.\\n    Darty doit continuer à se différencier par son service client et son expertise.',\n",
       " 'Role': 'analyste marketing',\n",
       " 'Name': 'Darty',\n",
       " 'Challenges': ['Adaptation aux nouvelles technologies et à la digitalisation du commerce.',\n",
       "  'Concurrence accrue, notamment de la part des géants du e-commerce.',\n",
       "  \"Maintien de la qualité du service après-vente face à l'augmentation du volume de ventes.\",\n",
       "  'Gestion des impacts environnementaux liés à la production et au recyclage des appareils électroniques.'],\n",
       " 'Competitors': ['1708690119131x131761987332890350',\n",
       "  '1708690119774x319230027999086500',\n",
       "  '1708690120400x606675736475846400',\n",
       "  '1708690121015x200784996865734920'],\n",
       " 'Description': \"Darty est une chaîne de magasins française spécialisée dans la vente de matériel informatique, de téléviseurs, d'électroménager, de matériel audio et vidéo. Fondée en 1957, l'entreprise s'est développée pour devenir l'un des leaders du marché français dans son secteur. Darty est reconnue pour son service après-vente, symbolisé par le 'Contrat de Confiance' qui promet une assistance et des garanties étendues à ses clients.\",\n",
       " 'Recent events': ['1708690563579x706138009840244800',\n",
       "  '1708690563583x675493246692305400',\n",
       "  '1708690563588x137136862463011820'],\n",
       " 'website': 'www.Darty.com',\n",
       " 'Logo': '//f6f50b470b929359a4a61e98f8f0b85d.cdn.bubble.io/f1709028649402x620236660183028100/darty_logo.png',\n",
       " '_id': '1707313014508x102198350946437700'}"
      ]
     },
     "execution_count": 7,
     "metadata": {},
     "output_type": "execute_result"
    }
   ],
   "source": [
    "context = {**context, **companies_df[companies_df[\"Name\"]==context[\"company\"]].iloc[0].to_dict()}\n",
    "context"
   ]
  },
  {
   "cell_type": "code",
   "execution_count": 14,
   "metadata": {},
   "outputs": [
    {
     "data": {
      "text/html": [
       "<div>\n",
       "<style scoped>\n",
       "    .dataframe tbody tr th:only-of-type {\n",
       "        vertical-align: middle;\n",
       "    }\n",
       "\n",
       "    .dataframe tbody tr th {\n",
       "        vertical-align: top;\n",
       "    }\n",
       "\n",
       "    .dataframe thead th {\n",
       "        text-align: right;\n",
       "    }\n",
       "</style>\n",
       "<table border=\"1\" class=\"dataframe\">\n",
       "  <thead>\n",
       "    <tr style=\"text-align: right;\">\n",
       "      <th></th>\n",
       "      <th>Company</th>\n",
       "      <th>Content</th>\n",
       "      <th>Date</th>\n",
       "      <th>Project</th>\n",
       "      <th>Location</th>\n",
       "      <th>Sentiment</th>\n",
       "      <th>Source</th>\n",
       "      <th>Aspects</th>\n",
       "      <th>_id</th>\n",
       "    </tr>\n",
       "  </thead>\n",
       "  <tbody>\n",
       "    <tr>\n",
       "      <th>0</th>\n",
       "      <td>1707313014508x102198350946437700</td>\n",
       "      <td>Achat Magic Keyboard avec Touch ID et pave num...</td>\n",
       "      <td>2024-02-07 00:00:00+00:00</td>\n",
       "      <td>1710335239022x546888753774592000</td>\n",
       "      <td>FR</td>\n",
       "      <td>5</td>\n",
       "      <td>Trustpilot</td>\n",
       "      <td>[]</td>\n",
       "      <td>1710335410193x146397114086602720</td>\n",
       "    </tr>\n",
       "    <tr>\n",
       "      <th>1</th>\n",
       "      <td>1707313014508x102198350946437700</td>\n",
       "      <td>Très très apprécié d’installer la…\\nTrès très ...</td>\n",
       "      <td>2024-01-31 00:00:00+00:00</td>\n",
       "      <td>1710335239022x546888753774592000</td>\n",
       "      <td>FR</td>\n",
       "      <td>5</td>\n",
       "      <td>Trustpilot</td>\n",
       "      <td>NaN</td>\n",
       "      <td>1710335410195x175970366374120320</td>\n",
       "    </tr>\n",
       "    <tr>\n",
       "      <th>2</th>\n",
       "      <td>1707313014508x102198350946437700</td>\n",
       "      <td>Machine à laver Bosch\\nCommandée sur le site d...</td>\n",
       "      <td>2024-01-05 00:00:00+00:00</td>\n",
       "      <td>1710335239022x546888753774592000</td>\n",
       "      <td>FR</td>\n",
       "      <td>5</td>\n",
       "      <td>Trustpilot</td>\n",
       "      <td>NaN</td>\n",
       "      <td>1710335410202x536776314861663740</td>\n",
       "    </tr>\n",
       "    <tr>\n",
       "      <th>3</th>\n",
       "      <td>1707313014508x102198350946437700</td>\n",
       "      <td>VENTE FORCEE ?\\nLe 8 nov 2023 j'achète un ordi...</td>\n",
       "      <td>2023-11-08 00:00:00+00:00</td>\n",
       "      <td>1710335239022x546888753774592000</td>\n",
       "      <td>FR</td>\n",
       "      <td>1</td>\n",
       "      <td>Trustpilot</td>\n",
       "      <td>NaN</td>\n",
       "      <td>1710335410203x151859605597644900</td>\n",
       "    </tr>\n",
       "    <tr>\n",
       "      <th>4</th>\n",
       "      <td>1707313014508x102198350946437700</td>\n",
       "      <td>Fausse vente de crédit gratuit\\nFausse vente d...</td>\n",
       "      <td>2023-10-06 00:00:00+00:00</td>\n",
       "      <td>1710335239022x546888753774592000</td>\n",
       "      <td>FR</td>\n",
       "      <td>1</td>\n",
       "      <td>Trustpilot</td>\n",
       "      <td>NaN</td>\n",
       "      <td>1710335410205x126748698162511440</td>\n",
       "    </tr>\n",
       "    <tr>\n",
       "      <th>...</th>\n",
       "      <td>...</td>\n",
       "      <td>...</td>\n",
       "      <td>...</td>\n",
       "      <td>...</td>\n",
       "      <td>...</td>\n",
       "      <td>...</td>\n",
       "      <td>...</td>\n",
       "      <td>...</td>\n",
       "      <td>...</td>\n",
       "    </tr>\n",
       "    <tr>\n",
       "      <th>95</th>\n",
       "      <td>1707313014508x102198350946437700</td>\n",
       "      <td>Service après vente Super\\nService après vente...</td>\n",
       "      <td>2024-01-18 00:00:00+00:00</td>\n",
       "      <td>1710335239022x546888753774592000</td>\n",
       "      <td>FR</td>\n",
       "      <td>5</td>\n",
       "      <td>Trustpilot</td>\n",
       "      <td>NaN</td>\n",
       "      <td>1710335410869x108759416795084500</td>\n",
       "    </tr>\n",
       "    <tr>\n",
       "      <th>96</th>\n",
       "      <td>1707313014508x102198350946437700</td>\n",
       "      <td>Produit toujours pas reçu 2 mois après la comm...</td>\n",
       "      <td>2023-12-14 00:00:00+00:00</td>\n",
       "      <td>1710335239022x546888753774592000</td>\n",
       "      <td>FR</td>\n",
       "      <td>1</td>\n",
       "      <td>Trustpilot</td>\n",
       "      <td>NaN</td>\n",
       "      <td>1710335410872x283990491652819970</td>\n",
       "    </tr>\n",
       "    <tr>\n",
       "      <th>97</th>\n",
       "      <td>1707313014508x102198350946437700</td>\n",
       "      <td>Bon choix\\nHotte installée facilement sous un ...</td>\n",
       "      <td>2024-01-22 00:00:00+00:00</td>\n",
       "      <td>1710335239022x546888753774592000</td>\n",
       "      <td>FR</td>\n",
       "      <td>4</td>\n",
       "      <td>Trustpilot</td>\n",
       "      <td>NaN</td>\n",
       "      <td>1710335410873x629562654646477800</td>\n",
       "    </tr>\n",
       "    <tr>\n",
       "      <th>98</th>\n",
       "      <td>1707313014508x102198350946437700</td>\n",
       "      <td>Je commande un réfrigérateur Liebherr…\\nJe com...</td>\n",
       "      <td>2024-01-26 00:00:00+00:00</td>\n",
       "      <td>1710335239022x546888753774592000</td>\n",
       "      <td>FR</td>\n",
       "      <td>1</td>\n",
       "      <td>Trustpilot</td>\n",
       "      <td>NaN</td>\n",
       "      <td>1710335410874x858291449739420300</td>\n",
       "    </tr>\n",
       "    <tr>\n",
       "      <th>99</th>\n",
       "      <td>1707313014508x102198350946437700</td>\n",
       "      <td>Incapables d'installer ma plaque correctement\\...</td>\n",
       "      <td>2023-12-18 00:00:00+00:00</td>\n",
       "      <td>1710335239022x546888753774592000</td>\n",
       "      <td>FR</td>\n",
       "      <td>1</td>\n",
       "      <td>Trustpilot</td>\n",
       "      <td>NaN</td>\n",
       "      <td>1710335410875x271183384041375330</td>\n",
       "    </tr>\n",
       "  </tbody>\n",
       "</table>\n",
       "<p>100 rows × 9 columns</p>\n",
       "</div>"
      ],
      "text/plain": [
       "                             Company  \\\n",
       "0   1707313014508x102198350946437700   \n",
       "1   1707313014508x102198350946437700   \n",
       "2   1707313014508x102198350946437700   \n",
       "3   1707313014508x102198350946437700   \n",
       "4   1707313014508x102198350946437700   \n",
       "..                               ...   \n",
       "95  1707313014508x102198350946437700   \n",
       "96  1707313014508x102198350946437700   \n",
       "97  1707313014508x102198350946437700   \n",
       "98  1707313014508x102198350946437700   \n",
       "99  1707313014508x102198350946437700   \n",
       "\n",
       "                                              Content  \\\n",
       "0   Achat Magic Keyboard avec Touch ID et pave num...   \n",
       "1   Très très apprécié d’installer la…\\nTrès très ...   \n",
       "2   Machine à laver Bosch\\nCommandée sur le site d...   \n",
       "3   VENTE FORCEE ?\\nLe 8 nov 2023 j'achète un ordi...   \n",
       "4   Fausse vente de crédit gratuit\\nFausse vente d...   \n",
       "..                                                ...   \n",
       "95  Service après vente Super\\nService après vente...   \n",
       "96  Produit toujours pas reçu 2 mois après la comm...   \n",
       "97  Bon choix\\nHotte installée facilement sous un ...   \n",
       "98  Je commande un réfrigérateur Liebherr…\\nJe com...   \n",
       "99  Incapables d'installer ma plaque correctement\\...   \n",
       "\n",
       "                        Date                           Project Location  \\\n",
       "0  2024-02-07 00:00:00+00:00  1710335239022x546888753774592000       FR   \n",
       "1  2024-01-31 00:00:00+00:00  1710335239022x546888753774592000       FR   \n",
       "2  2024-01-05 00:00:00+00:00  1710335239022x546888753774592000       FR   \n",
       "3  2023-11-08 00:00:00+00:00  1710335239022x546888753774592000       FR   \n",
       "4  2023-10-06 00:00:00+00:00  1710335239022x546888753774592000       FR   \n",
       "..                       ...                               ...      ...   \n",
       "95 2024-01-18 00:00:00+00:00  1710335239022x546888753774592000       FR   \n",
       "96 2023-12-14 00:00:00+00:00  1710335239022x546888753774592000       FR   \n",
       "97 2024-01-22 00:00:00+00:00  1710335239022x546888753774592000       FR   \n",
       "98 2024-01-26 00:00:00+00:00  1710335239022x546888753774592000       FR   \n",
       "99 2023-12-18 00:00:00+00:00  1710335239022x546888753774592000       FR   \n",
       "\n",
       "    Sentiment      Source Aspects                               _id  \n",
       "0           5  Trustpilot      []  1710335410193x146397114086602720  \n",
       "1           5  Trustpilot     NaN  1710335410195x175970366374120320  \n",
       "2           5  Trustpilot     NaN  1710335410202x536776314861663740  \n",
       "3           1  Trustpilot     NaN  1710335410203x151859605597644900  \n",
       "4           1  Trustpilot     NaN  1710335410205x126748698162511440  \n",
       "..        ...         ...     ...                               ...  \n",
       "95          5  Trustpilot     NaN  1710335410869x108759416795084500  \n",
       "96          1  Trustpilot     NaN  1710335410872x283990491652819970  \n",
       "97          4  Trustpilot     NaN  1710335410873x629562654646477800  \n",
       "98          1  Trustpilot     NaN  1710335410874x858291449739420300  \n",
       "99          1  Trustpilot     NaN  1710335410875x271183384041375330  \n",
       "\n",
       "[100 rows x 9 columns]"
      ]
     },
     "execution_count": 14,
     "metadata": {},
     "output_type": "execute_result"
    }
   ],
   "source": [
    "feedbacks_df"
   ]
  },
  {
   "cell_type": "code",
   "execution_count": 16,
   "metadata": {},
   "outputs": [
    {
     "name": "stdout",
     "output_type": "stream",
     "text": [
      "Qualité du produit :\n",
      "- Fonctionnalité\n",
      "- Durabilité\n",
      "- Conformité\n",
      "- Performance\n",
      "- Design\n",
      "- Rapport qualité-prix\n",
      "\n",
      "Service client :\n",
      "- Amabilité\n",
      "- Efficacité\n",
      "- Disponibilité\n",
      "- Compétence\n",
      "- Réactivité\n",
      "- Communication\n",
      "\n",
      "Expérience d'achat :\n",
      "- Navigation sur le site\n",
      "- Conseil en magasin\n",
      "- Processus de commande\n",
      "- Options de livraison\n",
      "- Facilité de retour\n",
      "- Clarté des informations\n",
      "\n",
      "Livraison et installation :\n",
      "- Rapidité\n",
      "- Fiabilité\n",
      "- Professionnalisme des livreurs\n",
      "- Qualité de l'installation\n",
      "- Respect du créneau horaire\n",
      "- Conditionnement du produit\n",
      "\n",
      "Service après-vente :\n",
      "- Gestion des réclamations\n",
      "- Délai de réparation\n",
      "- Qualité de la réparation\n",
      "- Prise en charge de la garantie\n",
      "- Solution proposée\n",
      "- Suivi du dossier\n",
      "\n",
      "Programmes et offres :\n",
      "- Promotions\n",
      "- Fidélité\n",
      "- Garanties\n",
      "- Abonnements\n",
      "- Offres spéciales\n",
      "- Disponibilité des produits\n"
     ]
    }
   ],
   "source": [
    "with open(prompts_path+'prompt_categories_creation.txt') as f:\n",
    "    template = PromptTemplate.from_template(f.read())\n",
    "prompt_categories_creation = template.invoke({'feedbacks': '\\n\\n'.join(feedbacks_df[\"Content\"]), \"challenges\": '- '+'- '.join(context[\"Challenges\"]),**context})\n",
    "\n",
    "class InsightCategory(BaseModel):\n",
    "    name: str = Field(description=\"Nom de la catégorie.\")\n",
    "    #description: str = Field(description=\"Phrase de description de la catégorie.\")\n",
    "    sub_categories: List[str] = Field(description=\"Liste des sous-catégories.\")\n",
    "\n",
    "    def __str__(self):\n",
    "        return self.name + \" :\\n- \" + '\\n- '.join([str(x) for x in self.sub_categories])\n",
    "\n",
    "class InsightCategories(BaseModel):\n",
    "    categories: List[InsightCategory] = Field(description=\"Liste des catégories.\")\n",
    "\n",
    "    def __str__(self):\n",
    "        return '\\n\\n'.join([str(x) for x in self.categories])\n",
    "\n",
    "res = get_analysis(prompt_categories_creation, InsightCategories)\n",
    "print(res)"
   ]
  },
  {
   "cell_type": "code",
   "execution_count": 19,
   "metadata": {},
   "outputs": [
    {
     "data": {
      "text/plain": [
       "[InsightCategory(name='Qualité du produit', sub_categories=['Fonctionnalité', 'Durabilité', 'Conformité', 'Performance', 'Design', 'Rapport qualité-prix']),\n",
       " InsightCategory(name='Service client', sub_categories=['Amabilité', 'Efficacité', 'Disponibilité', 'Compétence', 'Réactivité', 'Communication']),\n",
       " InsightCategory(name=\"Expérience d'achat\", sub_categories=['Navigation sur le site', 'Conseil en magasin', 'Processus de commande', 'Options de livraison', 'Facilité de retour', 'Clarté des informations']),\n",
       " InsightCategory(name='Livraison et installation', sub_categories=['Rapidité', 'Fiabilité', 'Professionnalisme des livreurs', \"Qualité de l'installation\", 'Respect du créneau horaire', 'Conditionnement du produit']),\n",
       " InsightCategory(name='Service après-vente', sub_categories=['Gestion des réclamations', 'Délai de réparation', 'Qualité de la réparation', 'Prise en charge de la garantie', 'Solution proposée', 'Suivi du dossier']),\n",
       " InsightCategory(name='Programmes et offres', sub_categories=['Promotions', 'Fidélité', 'Garanties', 'Abonnements', 'Offres spéciales', 'Disponibilité des produits'])]"
      ]
     },
     "execution_count": 19,
     "metadata": {},
     "output_type": "execute_result"
    }
   ],
   "source": [
    "res.categories"
   ]
  },
  {
   "cell_type": "code",
   "execution_count": 20,
   "metadata": {},
   "outputs": [],
   "source": [
    "res.categories.append(InsightCategory(name=\"\", sub_categories=[]))\n",
    "for categ in res.categories:\n",
    "    categ.sub_categories.append(\"\")"
   ]
  },
  {
   "cell_type": "code",
   "execution_count": 21,
   "metadata": {},
   "outputs": [
    {
     "data": {
      "application/vnd.jupyter.widget-view+json": {
       "model_id": "7095ff88ef7243fcb461d8c15ddc1a94",
       "version_major": 2,
       "version_minor": 0
      },
      "text/plain": [
       "  0%|          | 0/7 [00:00<?, ?it/s]"
      ]
     },
     "metadata": {},
     "output_type": "display_data"
    }
   ],
   "source": [
    "for categorie in tqdm(res.categories):\n",
    "    categ_id = bubble_client.create(\n",
    "        \"Category\",\n",
    "        {\n",
    "            \"Company\": COMPANY_ID,\n",
    "            \"Name\": categorie.name,\n",
    "            \"Project\": PROJECT_ID,\n",
    "        })\n",
    "    \n",
    "    for sub_categ in categorie.sub_categories:\n",
    "        bubble_client.create(\n",
    "            \"SubCategory\",\n",
    "            {\n",
    "                \"Company\": COMPANY_ID,\n",
    "                \"Category\": categ_id,\n",
    "                \"Name\": sub_categ,\n",
    "                \"Project\": PROJECT_ID,\n",
    "                #\"Description\": sub_categorie.description,\n",
    "            })"
   ]
  }
 ],
 "metadata": {
  "kernelspec": {
   "display_name": "feedback_env",
   "language": "python",
   "name": "python3"
  },
  "language_info": {
   "codemirror_mode": {
    "name": "ipython",
    "version": 3
   },
   "file_extension": ".py",
   "mimetype": "text/x-python",
   "name": "python",
   "nbconvert_exporter": "python",
   "pygments_lexer": "ipython3",
   "version": "3.11.7"
  }
 },
 "nbformat": 4,
 "nbformat_minor": 2
}
